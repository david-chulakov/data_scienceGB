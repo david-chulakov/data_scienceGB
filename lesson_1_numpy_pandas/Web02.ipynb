{
 "cells": [
  {
   "cell_type": "markdown",
   "metadata": {
    "colab_type": "text",
    "id": "HgCfAfGfuM4F"
   },
   "source": [
    "# Вебинар 2. Предобработка данных."
   ]
  },
  {
   "cell_type": "markdown",
   "metadata": {},
   "source": [
    "**План занятия**\n",
    "* [Data Science проект](#ds)\n",
    "* [1. Загрузка данных](#load)\n",
    "* [2. Приведение типов данных](#types)\n",
    "    * [Обзор количественных переменных](#numeric)\n",
    "    * [Обзор номинативных переменных](#cats)\n",
    "* [Статистика](#stats)\n",
    "* [3. Обработка пропусков](#nan)\n",
    "* [4. Обработка выбросов](#outlier)\n",
    "* [5. Отбор и построение новых признаков](#feature)\n",
    "    * [Категориальные переменные](#category)\n",
    "        * [A) Бинарные (дамми) переменные](#dummy)\n",
    "        * [Б) Feature encoding](#feature_encoding)\n",
    "    * [Вещественные переменные](#numeric_feature)\n",
    "        * [A) Feature discretization](#feature_discretization)\n",
    "        * [Б) Feature binarization](#feature_binarization)\n",
    "* [6. Сохранение результатов](#save)\n",
    "* [7. Подготовка данных в реальном проекте](#real)"
   ]
  },
  {
   "cell_type": "markdown",
   "metadata": {},
   "source": [
    "### **Data Science проект:**<a class='anchor' id='ds'>\n",
    "1. Постановка задачи\n",
    "2. Получение данных\n",
    "_________\n",
    "3. **Анализ данных**\n",
    "4. Визуализация данных\n",
    "5. **Предобработка данных**\n",
    "6. **Генерация новых признаков**\n",
    "7. Построение модели\n",
    "8. Оценка качества\n",
    "______\n",
    "9. Внедрение модели\n",
    "10. Мониторинг качества и улучшение модели"
   ]
  },
  {
   "cell_type": "markdown",
   "metadata": {
    "colab_type": "text",
    "id": "C3CPiHXYuM4G"
   },
   "source": [
    "**Подключение библиотек и скриптов**"
   ]
  },
  {
   "cell_type": "code",
   "execution_count": 3,
   "metadata": {
    "colab": {},
    "colab_type": "code",
    "id": "R4bD7GWRuM4I"
   },
   "outputs": [],
   "source": [
    "import numpy as np\n",
    "import pandas as pd\n",
    "\n",
    "from scipy.stats import mode\n",
    "\n",
    "import warnings\n",
    "warnings.filterwarnings('ignore')"
   ]
  },
  {
   "cell_type": "markdown",
   "metadata": {
    "colab_type": "text",
    "id": "G72Dn8Q_uM4S"
   },
   "source": [
    "**Пути к директориям и файлам**"
   ]
  },
  {
   "cell_type": "code",
   "execution_count": 4,
   "metadata": {
    "colab": {},
    "colab_type": "code",
    "id": "bUiPt2uluM4U"
   },
   "outputs": [],
   "source": [
    "DATASET_PATH = './housing.csv'\n",
    "PREPARED_DATASET_PATH = './housing_prepared.csv'"
   ]
  },
  {
   "cell_type": "markdown",
   "metadata": {
    "colab_type": "text",
    "id": "b9e_s9APuM4Z"
   },
   "source": [
    "### 1. Загрузка данных <a class='anchor' id='load'>"
   ]
  },
  {
   "cell_type": "markdown",
   "metadata": {},
   "source": [
    "**Описание задачи**\n",
    "\n",
    "Цель - предсказать стоимость дома \n",
    "\n",
    "Зачем?  \n",
    "\n",
    "_В банках, страховых компаниях:_\n",
    "- Узнать истинную стоимость имущества (залога)\n",
    "- Принять решение о выдаче ипотеки/страховки\n",
    "- Принять решение о % по ипотеке/страховке\n",
    "  \n",
    "_На площадках объявлений (Авито, Циан, ...):_\n",
    "- Найти недооцененные квартиры (~ выгодные предложения), показать их пользователям\n",
    "- Показывать рыночную стоимость квартиры пользователям\n",
    "- Для тех, кто продает квартиру, рекомендовать цену продажи\n",
    "\n",
    "_Для инвесторов в недвижимость:_\n",
    "- Определять рыночную стоимость квартир\n",
    "- Поиск недооцененных активов\n",
    "- Торговля на рынке недвижимости"
   ]
  },
  {
   "cell_type": "markdown",
   "metadata": {
    "colab_type": "text",
    "id": "F4yO3V2suM4a"
   },
   "source": [
    "**Описание датасета**\n",
    "\n",
    "Статистические данные о ряде домов в Калифорнии, основанные на переписи 1990 года.\n",
    "\n",
    "* **longitude** - долгота\n",
    "* **latitude** - широта\n",
    "* **housing_median_age** - средний возраст дома\n",
    "* **total_rooms** - общее количество комнат\n",
    "* **total_bedrooms** - общее количество спален\n",
    "* **population** - количество проживающих\n",
    "* **households** - домохозяйства\n",
    "* **ocean_proximity** - близость океана\n",
    "* **median_income** - средний доход\n",
    "* **median_house_value** - средняя стоимость дома"
   ]
  },
  {
   "cell_type": "markdown",
   "metadata": {},
   "source": [
    "Считываем данные. По строкам - наблюдения, по столбцам - признаки."
   ]
  },
  {
   "cell_type": "code",
   "execution_count": 5,
   "metadata": {
    "colab": {
     "base_uri": "https://localhost:8080/",
     "height": 206
    },
    "colab_type": "code",
    "id": "DO4RWVGwuM4h",
    "outputId": "ec20deef-2713-46d2-e0b8-e16d4dcb7dfd"
   },
   "outputs": [
    {
     "data": {
      "text/html": [
       "<div>\n",
       "<style scoped>\n",
       "    .dataframe tbody tr th:only-of-type {\n",
       "        vertical-align: middle;\n",
       "    }\n",
       "\n",
       "    .dataframe tbody tr th {\n",
       "        vertical-align: top;\n",
       "    }\n",
       "\n",
       "    .dataframe thead th {\n",
       "        text-align: right;\n",
       "    }\n",
       "</style>\n",
       "<table border=\"1\" class=\"dataframe\">\n",
       "  <thead>\n",
       "    <tr style=\"text-align: right;\">\n",
       "      <th></th>\n",
       "      <th>longitude</th>\n",
       "      <th>latitude</th>\n",
       "      <th>housing_median_age</th>\n",
       "      <th>total_rooms</th>\n",
       "      <th>total_bedrooms</th>\n",
       "      <th>population</th>\n",
       "      <th>households</th>\n",
       "      <th>median_income</th>\n",
       "      <th>median_house_value</th>\n",
       "      <th>ocean_proximity</th>\n",
       "      <th>id</th>\n",
       "    </tr>\n",
       "  </thead>\n",
       "  <tbody>\n",
       "    <tr>\n",
       "      <th>0</th>\n",
       "      <td>-122.23</td>\n",
       "      <td>37.88</td>\n",
       "      <td>41.0</td>\n",
       "      <td>880.0</td>\n",
       "      <td>129.0</td>\n",
       "      <td>322.0</td>\n",
       "      <td>126.0</td>\n",
       "      <td>8.3252</td>\n",
       "      <td>452600.0</td>\n",
       "      <td>NEAR BAY</td>\n",
       "      <td>0</td>\n",
       "    </tr>\n",
       "    <tr>\n",
       "      <th>1</th>\n",
       "      <td>-122.22</td>\n",
       "      <td>37.86</td>\n",
       "      <td>21.0</td>\n",
       "      <td>7099.0</td>\n",
       "      <td>1106.0</td>\n",
       "      <td>2401.0</td>\n",
       "      <td>1138.0</td>\n",
       "      <td>8.3014</td>\n",
       "      <td>358500.0</td>\n",
       "      <td>NEAR BAY</td>\n",
       "      <td>1</td>\n",
       "    </tr>\n",
       "    <tr>\n",
       "      <th>2</th>\n",
       "      <td>-122.24</td>\n",
       "      <td>37.85</td>\n",
       "      <td>52.0</td>\n",
       "      <td>1467.0</td>\n",
       "      <td>190.0</td>\n",
       "      <td>496.0</td>\n",
       "      <td>177.0</td>\n",
       "      <td>7.2574</td>\n",
       "      <td>352100.0</td>\n",
       "      <td>NEAR BAY</td>\n",
       "      <td>2</td>\n",
       "    </tr>\n",
       "    <tr>\n",
       "      <th>3</th>\n",
       "      <td>-122.25</td>\n",
       "      <td>37.85</td>\n",
       "      <td>52.0</td>\n",
       "      <td>1274.0</td>\n",
       "      <td>235.0</td>\n",
       "      <td>558.0</td>\n",
       "      <td>219.0</td>\n",
       "      <td>5.6431</td>\n",
       "      <td>341300.0</td>\n",
       "      <td>NEAR BAY</td>\n",
       "      <td>3</td>\n",
       "    </tr>\n",
       "    <tr>\n",
       "      <th>4</th>\n",
       "      <td>-122.25</td>\n",
       "      <td>37.85</td>\n",
       "      <td>52.0</td>\n",
       "      <td>1627.0</td>\n",
       "      <td>280.0</td>\n",
       "      <td>565.0</td>\n",
       "      <td>259.0</td>\n",
       "      <td>3.8462</td>\n",
       "      <td>342200.0</td>\n",
       "      <td>NEAR BAY</td>\n",
       "      <td>4</td>\n",
       "    </tr>\n",
       "    <tr>\n",
       "      <th>5</th>\n",
       "      <td>-122.25</td>\n",
       "      <td>37.85</td>\n",
       "      <td>52.0</td>\n",
       "      <td>919.0</td>\n",
       "      <td>213.0</td>\n",
       "      <td>413.0</td>\n",
       "      <td>193.0</td>\n",
       "      <td>4.0368</td>\n",
       "      <td>269700.0</td>\n",
       "      <td>NEAR BAY</td>\n",
       "      <td>5</td>\n",
       "    </tr>\n",
       "    <tr>\n",
       "      <th>6</th>\n",
       "      <td>-122.25</td>\n",
       "      <td>37.84</td>\n",
       "      <td>52.0</td>\n",
       "      <td>2535.0</td>\n",
       "      <td>489.0</td>\n",
       "      <td>1094.0</td>\n",
       "      <td>514.0</td>\n",
       "      <td>3.6591</td>\n",
       "      <td>299200.0</td>\n",
       "      <td>NEAR BAY</td>\n",
       "      <td>6</td>\n",
       "    </tr>\n",
       "  </tbody>\n",
       "</table>\n",
       "</div>"
      ],
      "text/plain": [
       "   longitude  latitude  housing_median_age  total_rooms  total_bedrooms  \\\n",
       "0    -122.23     37.88                41.0        880.0           129.0   \n",
       "1    -122.22     37.86                21.0       7099.0          1106.0   \n",
       "2    -122.24     37.85                52.0       1467.0           190.0   \n",
       "3    -122.25     37.85                52.0       1274.0           235.0   \n",
       "4    -122.25     37.85                52.0       1627.0           280.0   \n",
       "5    -122.25     37.85                52.0        919.0           213.0   \n",
       "6    -122.25     37.84                52.0       2535.0           489.0   \n",
       "\n",
       "   population  households  median_income  median_house_value ocean_proximity  \\\n",
       "0       322.0       126.0         8.3252            452600.0        NEAR BAY   \n",
       "1      2401.0      1138.0         8.3014            358500.0        NEAR BAY   \n",
       "2       496.0       177.0         7.2574            352100.0        NEAR BAY   \n",
       "3       558.0       219.0         5.6431            341300.0        NEAR BAY   \n",
       "4       565.0       259.0         3.8462            342200.0        NEAR BAY   \n",
       "5       413.0       193.0         4.0368            269700.0        NEAR BAY   \n",
       "6      1094.0       514.0         3.6591            299200.0        NEAR BAY   \n",
       "\n",
       "   id  \n",
       "0   0  \n",
       "1   1  \n",
       "2   2  \n",
       "3   3  \n",
       "4   4  \n",
       "5   5  \n",
       "6   6  "
      ]
     },
     "execution_count": 5,
     "metadata": {},
     "output_type": "execute_result"
    }
   ],
   "source": [
    "df = pd.read_csv(DATASET_PATH, sep=',')\n",
    "df.head(7)"
   ]
  },
  {
   "cell_type": "code",
   "execution_count": 6,
   "metadata": {
    "colab": {
     "base_uri": "https://localhost:8080/",
     "height": 206
    },
    "colab_type": "code",
    "id": "WDpQ4AeQ3Vsz",
    "outputId": "9acb74ee-ea99-49d4-ab7d-7b06e9c13f72"
   },
   "outputs": [
    {
     "data": {
      "text/html": [
       "<div>\n",
       "<style scoped>\n",
       "    .dataframe tbody tr th:only-of-type {\n",
       "        vertical-align: middle;\n",
       "    }\n",
       "\n",
       "    .dataframe tbody tr th {\n",
       "        vertical-align: top;\n",
       "    }\n",
       "\n",
       "    .dataframe thead th {\n",
       "        text-align: right;\n",
       "    }\n",
       "</style>\n",
       "<table border=\"1\" class=\"dataframe\">\n",
       "  <thead>\n",
       "    <tr style=\"text-align: right;\">\n",
       "      <th></th>\n",
       "      <th>longitude</th>\n",
       "      <th>latitude</th>\n",
       "      <th>housing_median_age</th>\n",
       "      <th>total_rooms</th>\n",
       "      <th>total_bedrooms</th>\n",
       "      <th>population</th>\n",
       "      <th>households</th>\n",
       "      <th>median_income</th>\n",
       "      <th>median_house_value</th>\n",
       "      <th>ocean_proximity</th>\n",
       "      <th>id</th>\n",
       "    </tr>\n",
       "  </thead>\n",
       "  <tbody>\n",
       "    <tr>\n",
       "      <th>20637</th>\n",
       "      <td>-121.22</td>\n",
       "      <td>39.43</td>\n",
       "      <td>17.0</td>\n",
       "      <td>2254.0</td>\n",
       "      <td>485.0</td>\n",
       "      <td>NaN</td>\n",
       "      <td>433.0</td>\n",
       "      <td>1.7000</td>\n",
       "      <td>92300.0</td>\n",
       "      <td>INLAND</td>\n",
       "      <td>20637</td>\n",
       "    </tr>\n",
       "    <tr>\n",
       "      <th>20638</th>\n",
       "      <td>-121.32</td>\n",
       "      <td>39.43</td>\n",
       "      <td>18.0</td>\n",
       "      <td>1860.0</td>\n",
       "      <td>409.0</td>\n",
       "      <td>741.0</td>\n",
       "      <td>349.0</td>\n",
       "      <td>1.8672</td>\n",
       "      <td>84700.0</td>\n",
       "      <td>INLAND</td>\n",
       "      <td>20638</td>\n",
       "    </tr>\n",
       "    <tr>\n",
       "      <th>20639</th>\n",
       "      <td>-121.24</td>\n",
       "      <td>39.37</td>\n",
       "      <td>16.0</td>\n",
       "      <td>2785.0</td>\n",
       "      <td>616.0</td>\n",
       "      <td>1387.0</td>\n",
       "      <td>530.0</td>\n",
       "      <td>2.3886</td>\n",
       "      <td>89400.0</td>\n",
       "      <td>INLAND</td>\n",
       "      <td>20639</td>\n",
       "    </tr>\n",
       "  </tbody>\n",
       "</table>\n",
       "</div>"
      ],
      "text/plain": [
       "       longitude  latitude  housing_median_age  total_rooms  total_bedrooms  \\\n",
       "20637    -121.22     39.43                17.0       2254.0           485.0   \n",
       "20638    -121.32     39.43                18.0       1860.0           409.0   \n",
       "20639    -121.24     39.37                16.0       2785.0           616.0   \n",
       "\n",
       "       population  households  median_income  median_house_value  \\\n",
       "20637         NaN       433.0         1.7000             92300.0   \n",
       "20638       741.0       349.0         1.8672             84700.0   \n",
       "20639      1387.0       530.0         2.3886             89400.0   \n",
       "\n",
       "      ocean_proximity     id  \n",
       "20637          INLAND  20637  \n",
       "20638          INLAND  20638  \n",
       "20639          INLAND  20639  "
      ]
     },
     "execution_count": 6,
     "metadata": {},
     "output_type": "execute_result"
    }
   ],
   "source": [
    "df.tail(3)"
   ]
  },
  {
   "cell_type": "code",
   "execution_count": 10,
   "metadata": {
    "colab": {
     "base_uri": "https://localhost:8080/",
     "height": 81
    },
    "colab_type": "code",
    "id": "EoPUuaX53T4g",
    "outputId": "1d514b44-663e-47f2-8486-e9c1d08469c9"
   },
   "outputs": [
    {
     "data": {
      "text/html": [
       "<div>\n",
       "<style scoped>\n",
       "    .dataframe tbody tr th:only-of-type {\n",
       "        vertical-align: middle;\n",
       "    }\n",
       "\n",
       "    .dataframe tbody tr th {\n",
       "        vertical-align: top;\n",
       "    }\n",
       "\n",
       "    .dataframe thead th {\n",
       "        text-align: right;\n",
       "    }\n",
       "</style>\n",
       "<table border=\"1\" class=\"dataframe\">\n",
       "  <thead>\n",
       "    <tr style=\"text-align: right;\">\n",
       "      <th></th>\n",
       "      <th>longitude</th>\n",
       "      <th>latitude</th>\n",
       "      <th>housing_median_age</th>\n",
       "      <th>total_rooms</th>\n",
       "      <th>total_bedrooms</th>\n",
       "      <th>population</th>\n",
       "      <th>households</th>\n",
       "      <th>median_income</th>\n",
       "      <th>median_house_value</th>\n",
       "      <th>ocean_proximity</th>\n",
       "      <th>id</th>\n",
       "    </tr>\n",
       "  </thead>\n",
       "  <tbody>\n",
       "    <tr>\n",
       "      <th>265</th>\n",
       "      <td>-122.19</td>\n",
       "      <td>37.78</td>\n",
       "      <td>52.0</td>\n",
       "      <td>1026.0</td>\n",
       "      <td>180.0</td>\n",
       "      <td>469.0</td>\n",
       "      <td>168.0</td>\n",
       "      <td>2.875</td>\n",
       "      <td>160000.0</td>\n",
       "      <td>NEAR BAY</td>\n",
       "      <td>265</td>\n",
       "    </tr>\n",
       "  </tbody>\n",
       "</table>\n",
       "</div>"
      ],
      "text/plain": [
       "     longitude  latitude  housing_median_age  total_rooms  total_bedrooms  \\\n",
       "265    -122.19     37.78                52.0       1026.0           180.0   \n",
       "\n",
       "     population  households  median_income  median_house_value  \\\n",
       "265       469.0       168.0          2.875            160000.0   \n",
       "\n",
       "    ocean_proximity   id  \n",
       "265        NEAR BAY  265  "
      ]
     },
     "execution_count": 10,
     "metadata": {},
     "output_type": "execute_result"
    }
   ],
   "source": [
    "df.sample()"
   ]
  },
  {
   "cell_type": "markdown",
   "metadata": {},
   "source": [
    "С помощью .sample можно получить случайную долю объектов, либо перемешать весь датасет"
   ]
  },
  {
   "cell_type": "code",
   "execution_count": 11,
   "metadata": {
    "colab": {
     "base_uri": "https://localhost:8080/",
     "height": 424
    },
    "colab_type": "code",
    "id": "rwVMUUxe3X0I",
    "outputId": "aeb7d5da-c3e4-4fe5-8c10-6522264876b5"
   },
   "outputs": [
    {
     "data": {
      "text/html": [
       "<div>\n",
       "<style scoped>\n",
       "    .dataframe tbody tr th:only-of-type {\n",
       "        vertical-align: middle;\n",
       "    }\n",
       "\n",
       "    .dataframe tbody tr th {\n",
       "        vertical-align: top;\n",
       "    }\n",
       "\n",
       "    .dataframe thead th {\n",
       "        text-align: right;\n",
       "    }\n",
       "</style>\n",
       "<table border=\"1\" class=\"dataframe\">\n",
       "  <thead>\n",
       "    <tr style=\"text-align: right;\">\n",
       "      <th></th>\n",
       "      <th>longitude</th>\n",
       "      <th>latitude</th>\n",
       "      <th>housing_median_age</th>\n",
       "      <th>total_rooms</th>\n",
       "      <th>total_bedrooms</th>\n",
       "      <th>population</th>\n",
       "      <th>households</th>\n",
       "      <th>median_income</th>\n",
       "      <th>median_house_value</th>\n",
       "      <th>ocean_proximity</th>\n",
       "      <th>id</th>\n",
       "    </tr>\n",
       "  </thead>\n",
       "  <tbody>\n",
       "    <tr>\n",
       "      <th>19547</th>\n",
       "      <td>-121.00</td>\n",
       "      <td>37.63</td>\n",
       "      <td>49.0</td>\n",
       "      <td>2051.0</td>\n",
       "      <td>500.0</td>\n",
       "      <td>NaN</td>\n",
       "      <td>467.0</td>\n",
       "      <td>1.5900</td>\n",
       "      <td>80900.0</td>\n",
       "      <td>INLAND</td>\n",
       "      <td>19547</td>\n",
       "    </tr>\n",
       "    <tr>\n",
       "      <th>12133</th>\n",
       "      <td>-117.21</td>\n",
       "      <td>33.93</td>\n",
       "      <td>4.0</td>\n",
       "      <td>10002.0</td>\n",
       "      <td>1468.0</td>\n",
       "      <td>5439.0</td>\n",
       "      <td>1397.0</td>\n",
       "      <td>5.0223</td>\n",
       "      <td>152600.0</td>\n",
       "      <td>INLAND</td>\n",
       "      <td>12133</td>\n",
       "    </tr>\n",
       "    <tr>\n",
       "      <th>3556</th>\n",
       "      <td>-118.56</td>\n",
       "      <td>34.25</td>\n",
       "      <td>31.0</td>\n",
       "      <td>1962.0</td>\n",
       "      <td>243.0</td>\n",
       "      <td>697.0</td>\n",
       "      <td>242.0</td>\n",
       "      <td>8.5650</td>\n",
       "      <td>500001.0</td>\n",
       "      <td>&lt;1H OCEAN</td>\n",
       "      <td>3556</td>\n",
       "    </tr>\n",
       "    <tr>\n",
       "      <th>9920</th>\n",
       "      <td>-122.33</td>\n",
       "      <td>38.33</td>\n",
       "      <td>15.0</td>\n",
       "      <td>3193.0</td>\n",
       "      <td>468.0</td>\n",
       "      <td>1303.0</td>\n",
       "      <td>426.0</td>\n",
       "      <td>5.3017</td>\n",
       "      <td>202600.0</td>\n",
       "      <td>NEAR BAY</td>\n",
       "      <td>9920</td>\n",
       "    </tr>\n",
       "    <tr>\n",
       "      <th>14192</th>\n",
       "      <td>-117.07</td>\n",
       "      <td>32.69</td>\n",
       "      <td>20.0</td>\n",
       "      <td>2192.0</td>\n",
       "      <td>406.0</td>\n",
       "      <td>1766.0</td>\n",
       "      <td>393.0</td>\n",
       "      <td>4.0921</td>\n",
       "      <td>135000.0</td>\n",
       "      <td>NEAR OCEAN</td>\n",
       "      <td>14192</td>\n",
       "    </tr>\n",
       "    <tr>\n",
       "      <th>...</th>\n",
       "      <td>...</td>\n",
       "      <td>...</td>\n",
       "      <td>...</td>\n",
       "      <td>...</td>\n",
       "      <td>...</td>\n",
       "      <td>...</td>\n",
       "      <td>...</td>\n",
       "      <td>...</td>\n",
       "      <td>...</td>\n",
       "      <td>...</td>\n",
       "      <td>...</td>\n",
       "    </tr>\n",
       "    <tr>\n",
       "      <th>17004</th>\n",
       "      <td>-122.28</td>\n",
       "      <td>37.54</td>\n",
       "      <td>24.0</td>\n",
       "      <td>5114.0</td>\n",
       "      <td>1357.0</td>\n",
       "      <td>3169.0</td>\n",
       "      <td>1268.0</td>\n",
       "      <td>3.9699</td>\n",
       "      <td>293200.0</td>\n",
       "      <td>NEAR OCEAN</td>\n",
       "      <td>17004</td>\n",
       "    </tr>\n",
       "    <tr>\n",
       "      <th>3093</th>\n",
       "      <td>-118.48</td>\n",
       "      <td>35.61</td>\n",
       "      <td>17.0</td>\n",
       "      <td>4002.0</td>\n",
       "      <td>930.0</td>\n",
       "      <td>1614.0</td>\n",
       "      <td>731.0</td>\n",
       "      <td>1.6236</td>\n",
       "      <td>67300.0</td>\n",
       "      <td>INLAND</td>\n",
       "      <td>3093</td>\n",
       "    </tr>\n",
       "    <tr>\n",
       "      <th>14464</th>\n",
       "      <td>-117.23</td>\n",
       "      <td>32.81</td>\n",
       "      <td>24.0</td>\n",
       "      <td>3271.0</td>\n",
       "      <td>508.0</td>\n",
       "      <td>1496.0</td>\n",
       "      <td>482.0</td>\n",
       "      <td>5.9359</td>\n",
       "      <td>422200.0</td>\n",
       "      <td>NEAR OCEAN</td>\n",
       "      <td>14464</td>\n",
       "    </tr>\n",
       "    <tr>\n",
       "      <th>7981</th>\n",
       "      <td>-118.17</td>\n",
       "      <td>33.87</td>\n",
       "      <td>45.0</td>\n",
       "      <td>2110.0</td>\n",
       "      <td>494.0</td>\n",
       "      <td>1404.0</td>\n",
       "      <td>454.0</td>\n",
       "      <td>2.9803</td>\n",
       "      <td>165900.0</td>\n",
       "      <td>&lt;1H OCEAN</td>\n",
       "      <td>7981</td>\n",
       "    </tr>\n",
       "    <tr>\n",
       "      <th>1413</th>\n",
       "      <td>-122.07</td>\n",
       "      <td>37.94</td>\n",
       "      <td>43.0</td>\n",
       "      <td>1454.0</td>\n",
       "      <td>234.0</td>\n",
       "      <td>683.0</td>\n",
       "      <td>258.0</td>\n",
       "      <td>4.4750</td>\n",
       "      <td>265700.0</td>\n",
       "      <td>NEAR BAY</td>\n",
       "      <td>1413</td>\n",
       "    </tr>\n",
       "  </tbody>\n",
       "</table>\n",
       "<p>20640 rows × 11 columns</p>\n",
       "</div>"
      ],
      "text/plain": [
       "       longitude  latitude  housing_median_age  total_rooms  total_bedrooms  \\\n",
       "19547    -121.00     37.63                49.0       2051.0           500.0   \n",
       "12133    -117.21     33.93                 4.0      10002.0          1468.0   \n",
       "3556     -118.56     34.25                31.0       1962.0           243.0   \n",
       "9920     -122.33     38.33                15.0       3193.0           468.0   \n",
       "14192    -117.07     32.69                20.0       2192.0           406.0   \n",
       "...          ...       ...                 ...          ...             ...   \n",
       "17004    -122.28     37.54                24.0       5114.0          1357.0   \n",
       "3093     -118.48     35.61                17.0       4002.0           930.0   \n",
       "14464    -117.23     32.81                24.0       3271.0           508.0   \n",
       "7981     -118.17     33.87                45.0       2110.0           494.0   \n",
       "1413     -122.07     37.94                43.0       1454.0           234.0   \n",
       "\n",
       "       population  households  median_income  median_house_value  \\\n",
       "19547         NaN       467.0         1.5900             80900.0   \n",
       "12133      5439.0      1397.0         5.0223            152600.0   \n",
       "3556        697.0       242.0         8.5650            500001.0   \n",
       "9920       1303.0       426.0         5.3017            202600.0   \n",
       "14192      1766.0       393.0         4.0921            135000.0   \n",
       "...           ...         ...            ...                 ...   \n",
       "17004      3169.0      1268.0         3.9699            293200.0   \n",
       "3093       1614.0       731.0         1.6236             67300.0   \n",
       "14464      1496.0       482.0         5.9359            422200.0   \n",
       "7981       1404.0       454.0         2.9803            165900.0   \n",
       "1413        683.0       258.0         4.4750            265700.0   \n",
       "\n",
       "      ocean_proximity     id  \n",
       "19547          INLAND  19547  \n",
       "12133          INLAND  12133  \n",
       "3556        <1H OCEAN   3556  \n",
       "9920         NEAR BAY   9920  \n",
       "14192      NEAR OCEAN  14192  \n",
       "...               ...    ...  \n",
       "17004      NEAR OCEAN  17004  \n",
       "3093           INLAND   3093  \n",
       "14464      NEAR OCEAN  14464  \n",
       "7981        <1H OCEAN   7981  \n",
       "1413         NEAR BAY   1413  \n",
       "\n",
       "[20640 rows x 11 columns]"
      ]
     },
     "execution_count": 11,
     "metadata": {},
     "output_type": "execute_result"
    }
   ],
   "source": [
    "df.sample(frac=1)"
   ]
  },
  {
   "cell_type": "code",
   "execution_count": 12,
   "metadata": {
    "colab": {
     "base_uri": "https://localhost:8080/",
     "height": 34
    },
    "colab_type": "code",
    "id": "MJX8GopauM4m",
    "outputId": "219fcac5-7b09-4038-923d-843f70aa4976"
   },
   "outputs": [
    {
     "data": {
      "text/plain": [
       "(20640, 11)"
      ]
     },
     "execution_count": 12,
     "metadata": {},
     "output_type": "execute_result"
    }
   ],
   "source": [
    "df.shape"
   ]
  },
  {
   "cell_type": "code",
   "execution_count": 13,
   "metadata": {
    "colab": {
     "base_uri": "https://localhost:8080/",
     "height": 86
    },
    "colab_type": "code",
    "id": "tID7TnIH2znJ",
    "outputId": "5d2883ae-7e92-44b5-cc7c-7f4413e47479"
   },
   "outputs": [
    {
     "data": {
      "text/plain": [
       "Index(['longitude', 'latitude', 'housing_median_age', 'total_rooms',\n",
       "       'total_bedrooms', 'population', 'households', 'median_income',\n",
       "       'median_house_value', 'ocean_proximity', 'id'],\n",
       "      dtype='object')"
      ]
     },
     "execution_count": 13,
     "metadata": {},
     "output_type": "execute_result"
    }
   ],
   "source": [
    "df.columns"
   ]
  },
  {
   "cell_type": "code",
   "execution_count": 14,
   "metadata": {
    "colab": {
     "base_uri": "https://localhost:8080/",
     "height": 34
    },
    "colab_type": "code",
    "id": "Nyc_gPeh2zbE",
    "outputId": "85a43e43-876a-47a8-80f9-e67c3ceceba5"
   },
   "outputs": [
    {
     "data": {
      "text/plain": [
       "RangeIndex(start=0, stop=20640, step=1)"
      ]
     },
     "execution_count": 14,
     "metadata": {},
     "output_type": "execute_result"
    }
   ],
   "source": [
    "df.index"
   ]
  },
  {
   "cell_type": "markdown",
   "metadata": {},
   "source": [
    "Получение одного или нескольких признаков из датасета"
   ]
  },
  {
   "cell_type": "code",
   "execution_count": 15,
   "metadata": {
    "colab": {
     "base_uri": "https://localhost:8080/",
     "height": 225
    },
    "colab_type": "code",
    "id": "vR3mWxM23NxG",
    "outputId": "76af0620-a489-497e-ce1e-4d73b9470e5d"
   },
   "outputs": [
    {
     "data": {
      "text/plain": [
       "0         880.0\n",
       "1        7099.0\n",
       "2        1467.0\n",
       "3        1274.0\n",
       "4        1627.0\n",
       "          ...  \n",
       "20635    1665.0\n",
       "20636     697.0\n",
       "20637    2254.0\n",
       "20638    1860.0\n",
       "20639    2785.0\n",
       "Name: total_rooms, Length: 20640, dtype: float64"
      ]
     },
     "execution_count": 15,
     "metadata": {},
     "output_type": "execute_result"
    }
   ],
   "source": [
    "df['total_rooms']"
   ]
  },
  {
   "cell_type": "code",
   "execution_count": 16,
   "metadata": {
    "scrolled": true
   },
   "outputs": [
    {
     "data": {
      "text/plain": [
       "0         880.0\n",
       "1        7099.0\n",
       "2        1467.0\n",
       "3        1274.0\n",
       "4        1627.0\n",
       "          ...  \n",
       "20635    1665.0\n",
       "20636     697.0\n",
       "20637    2254.0\n",
       "20638    1860.0\n",
       "20639    2785.0\n",
       "Name: total_rooms, Length: 20640, dtype: float64"
      ]
     },
     "execution_count": 16,
     "metadata": {},
     "output_type": "execute_result"
    }
   ],
   "source": [
    "df.total_rooms"
   ]
  },
  {
   "cell_type": "code",
   "execution_count": 17,
   "metadata": {
    "colab": {
     "base_uri": "https://localhost:8080/",
     "height": 424
    },
    "colab_type": "code",
    "id": "oHG3wv053lJ3",
    "outputId": "a4709592-bfa5-497e-b15e-8ebc930c8aec"
   },
   "outputs": [
    {
     "data": {
      "text/html": [
       "<div>\n",
       "<style scoped>\n",
       "    .dataframe tbody tr th:only-of-type {\n",
       "        vertical-align: middle;\n",
       "    }\n",
       "\n",
       "    .dataframe tbody tr th {\n",
       "        vertical-align: top;\n",
       "    }\n",
       "\n",
       "    .dataframe thead th {\n",
       "        text-align: right;\n",
       "    }\n",
       "</style>\n",
       "<table border=\"1\" class=\"dataframe\">\n",
       "  <thead>\n",
       "    <tr style=\"text-align: right;\">\n",
       "      <th></th>\n",
       "      <th>total_rooms</th>\n",
       "      <th>total_bedrooms</th>\n",
       "    </tr>\n",
       "  </thead>\n",
       "  <tbody>\n",
       "    <tr>\n",
       "      <th>0</th>\n",
       "      <td>880.0</td>\n",
       "      <td>129.0</td>\n",
       "    </tr>\n",
       "    <tr>\n",
       "      <th>1</th>\n",
       "      <td>7099.0</td>\n",
       "      <td>1106.0</td>\n",
       "    </tr>\n",
       "    <tr>\n",
       "      <th>2</th>\n",
       "      <td>1467.0</td>\n",
       "      <td>190.0</td>\n",
       "    </tr>\n",
       "    <tr>\n",
       "      <th>3</th>\n",
       "      <td>1274.0</td>\n",
       "      <td>235.0</td>\n",
       "    </tr>\n",
       "    <tr>\n",
       "      <th>4</th>\n",
       "      <td>1627.0</td>\n",
       "      <td>280.0</td>\n",
       "    </tr>\n",
       "    <tr>\n",
       "      <th>...</th>\n",
       "      <td>...</td>\n",
       "      <td>...</td>\n",
       "    </tr>\n",
       "    <tr>\n",
       "      <th>20635</th>\n",
       "      <td>1665.0</td>\n",
       "      <td>374.0</td>\n",
       "    </tr>\n",
       "    <tr>\n",
       "      <th>20636</th>\n",
       "      <td>697.0</td>\n",
       "      <td>150.0</td>\n",
       "    </tr>\n",
       "    <tr>\n",
       "      <th>20637</th>\n",
       "      <td>2254.0</td>\n",
       "      <td>485.0</td>\n",
       "    </tr>\n",
       "    <tr>\n",
       "      <th>20638</th>\n",
       "      <td>1860.0</td>\n",
       "      <td>409.0</td>\n",
       "    </tr>\n",
       "    <tr>\n",
       "      <th>20639</th>\n",
       "      <td>2785.0</td>\n",
       "      <td>616.0</td>\n",
       "    </tr>\n",
       "  </tbody>\n",
       "</table>\n",
       "<p>20640 rows × 2 columns</p>\n",
       "</div>"
      ],
      "text/plain": [
       "       total_rooms  total_bedrooms\n",
       "0            880.0           129.0\n",
       "1           7099.0          1106.0\n",
       "2           1467.0           190.0\n",
       "3           1274.0           235.0\n",
       "4           1627.0           280.0\n",
       "...            ...             ...\n",
       "20635       1665.0           374.0\n",
       "20636        697.0           150.0\n",
       "20637       2254.0           485.0\n",
       "20638       1860.0           409.0\n",
       "20639       2785.0           616.0\n",
       "\n",
       "[20640 rows x 2 columns]"
      ]
     },
     "execution_count": 17,
     "metadata": {},
     "output_type": "execute_result"
    }
   ],
   "source": [
    "df[['total_rooms', 'total_bedrooms']]"
   ]
  },
  {
   "cell_type": "markdown",
   "metadata": {},
   "source": [
    "Фильтрация данных с помощью булевых масок"
   ]
  },
  {
   "cell_type": "code",
   "execution_count": 18,
   "metadata": {
    "colab": {
     "base_uri": "https://localhost:8080/",
     "height": 225
    },
    "colab_type": "code",
    "id": "gkkolajRG7SK",
    "outputId": "474e7d00-4eed-49a0-f6ed-b2e0de729ee0",
    "scrolled": true
   },
   "outputs": [
    {
     "data": {
      "text/plain": [
       "0        False\n",
       "1         True\n",
       "2         True\n",
       "3         True\n",
       "4         True\n",
       "         ...  \n",
       "20635     True\n",
       "20636    False\n",
       "20637    False\n",
       "20638     True\n",
       "20639     True\n",
       "Name: population, Length: 20640, dtype: bool"
      ]
     },
     "execution_count": 18,
     "metadata": {},
     "output_type": "execute_result"
    }
   ],
   "source": [
    "df['population'] > 400"
   ]
  },
  {
   "cell_type": "code",
   "execution_count": 19,
   "metadata": {
    "colab": {
     "base_uri": "https://localhost:8080/",
     "height": 206
    },
    "colab_type": "code",
    "id": "fz6ZBeZUHFDp",
    "outputId": "a858c9f8-03ee-4b3e-d64f-980d0b304e17"
   },
   "outputs": [
    {
     "data": {
      "text/html": [
       "<div>\n",
       "<style scoped>\n",
       "    .dataframe tbody tr th:only-of-type {\n",
       "        vertical-align: middle;\n",
       "    }\n",
       "\n",
       "    .dataframe tbody tr th {\n",
       "        vertical-align: top;\n",
       "    }\n",
       "\n",
       "    .dataframe thead th {\n",
       "        text-align: right;\n",
       "    }\n",
       "</style>\n",
       "<table border=\"1\" class=\"dataframe\">\n",
       "  <thead>\n",
       "    <tr style=\"text-align: right;\">\n",
       "      <th></th>\n",
       "      <th>longitude</th>\n",
       "      <th>latitude</th>\n",
       "      <th>housing_median_age</th>\n",
       "      <th>total_rooms</th>\n",
       "      <th>total_bedrooms</th>\n",
       "      <th>population</th>\n",
       "      <th>households</th>\n",
       "      <th>median_income</th>\n",
       "      <th>median_house_value</th>\n",
       "      <th>ocean_proximity</th>\n",
       "      <th>id</th>\n",
       "    </tr>\n",
       "  </thead>\n",
       "  <tbody>\n",
       "    <tr>\n",
       "      <th>1</th>\n",
       "      <td>-122.22</td>\n",
       "      <td>37.86</td>\n",
       "      <td>21.0</td>\n",
       "      <td>7099.0</td>\n",
       "      <td>1106.0</td>\n",
       "      <td>2401.0</td>\n",
       "      <td>1138.0</td>\n",
       "      <td>8.3014</td>\n",
       "      <td>358500.0</td>\n",
       "      <td>NEAR BAY</td>\n",
       "      <td>1</td>\n",
       "    </tr>\n",
       "    <tr>\n",
       "      <th>2</th>\n",
       "      <td>-122.24</td>\n",
       "      <td>37.85</td>\n",
       "      <td>52.0</td>\n",
       "      <td>1467.0</td>\n",
       "      <td>190.0</td>\n",
       "      <td>496.0</td>\n",
       "      <td>177.0</td>\n",
       "      <td>7.2574</td>\n",
       "      <td>352100.0</td>\n",
       "      <td>NEAR BAY</td>\n",
       "      <td>2</td>\n",
       "    </tr>\n",
       "    <tr>\n",
       "      <th>3</th>\n",
       "      <td>-122.25</td>\n",
       "      <td>37.85</td>\n",
       "      <td>52.0</td>\n",
       "      <td>1274.0</td>\n",
       "      <td>235.0</td>\n",
       "      <td>558.0</td>\n",
       "      <td>219.0</td>\n",
       "      <td>5.6431</td>\n",
       "      <td>341300.0</td>\n",
       "      <td>NEAR BAY</td>\n",
       "      <td>3</td>\n",
       "    </tr>\n",
       "    <tr>\n",
       "      <th>4</th>\n",
       "      <td>-122.25</td>\n",
       "      <td>37.85</td>\n",
       "      <td>52.0</td>\n",
       "      <td>1627.0</td>\n",
       "      <td>280.0</td>\n",
       "      <td>565.0</td>\n",
       "      <td>259.0</td>\n",
       "      <td>3.8462</td>\n",
       "      <td>342200.0</td>\n",
       "      <td>NEAR BAY</td>\n",
       "      <td>4</td>\n",
       "    </tr>\n",
       "    <tr>\n",
       "      <th>5</th>\n",
       "      <td>-122.25</td>\n",
       "      <td>37.85</td>\n",
       "      <td>52.0</td>\n",
       "      <td>919.0</td>\n",
       "      <td>213.0</td>\n",
       "      <td>413.0</td>\n",
       "      <td>193.0</td>\n",
       "      <td>4.0368</td>\n",
       "      <td>269700.0</td>\n",
       "      <td>NEAR BAY</td>\n",
       "      <td>5</td>\n",
       "    </tr>\n",
       "  </tbody>\n",
       "</table>\n",
       "</div>"
      ],
      "text/plain": [
       "   longitude  latitude  housing_median_age  total_rooms  total_bedrooms  \\\n",
       "1    -122.22     37.86                21.0       7099.0          1106.0   \n",
       "2    -122.24     37.85                52.0       1467.0           190.0   \n",
       "3    -122.25     37.85                52.0       1274.0           235.0   \n",
       "4    -122.25     37.85                52.0       1627.0           280.0   \n",
       "5    -122.25     37.85                52.0        919.0           213.0   \n",
       "\n",
       "   population  households  median_income  median_house_value ocean_proximity  \\\n",
       "1      2401.0      1138.0         8.3014            358500.0        NEAR BAY   \n",
       "2       496.0       177.0         7.2574            352100.0        NEAR BAY   \n",
       "3       558.0       219.0         5.6431            341300.0        NEAR BAY   \n",
       "4       565.0       259.0         3.8462            342200.0        NEAR BAY   \n",
       "5       413.0       193.0         4.0368            269700.0        NEAR BAY   \n",
       "\n",
       "   id  \n",
       "1   1  \n",
       "2   2  \n",
       "3   3  \n",
       "4   4  \n",
       "5   5  "
      ]
     },
     "execution_count": 19,
     "metadata": {},
     "output_type": "execute_result"
    }
   ],
   "source": [
    "df[df['population'] > 400].head()"
   ]
  },
  {
   "cell_type": "code",
   "execution_count": 23,
   "metadata": {
    "colab": {
     "base_uri": "https://localhost:8080/",
     "height": 206
    },
    "colab_type": "code",
    "id": "rID7oMEVHHJh",
    "outputId": "c368382a-c4e3-495c-fee8-96a9e83adf71"
   },
   "outputs": [
    {
     "data": {
      "text/html": [
       "<div>\n",
       "<style scoped>\n",
       "    .dataframe tbody tr th:only-of-type {\n",
       "        vertical-align: middle;\n",
       "    }\n",
       "\n",
       "    .dataframe tbody tr th {\n",
       "        vertical-align: top;\n",
       "    }\n",
       "\n",
       "    .dataframe thead th {\n",
       "        text-align: right;\n",
       "    }\n",
       "</style>\n",
       "<table border=\"1\" class=\"dataframe\">\n",
       "  <thead>\n",
       "    <tr style=\"text-align: right;\">\n",
       "      <th></th>\n",
       "      <th>longitude</th>\n",
       "      <th>latitude</th>\n",
       "      <th>housing_median_age</th>\n",
       "      <th>total_rooms</th>\n",
       "      <th>total_bedrooms</th>\n",
       "      <th>population</th>\n",
       "      <th>households</th>\n",
       "      <th>median_income</th>\n",
       "      <th>median_house_value</th>\n",
       "      <th>ocean_proximity</th>\n",
       "      <th>id</th>\n",
       "    </tr>\n",
       "  </thead>\n",
       "  <tbody>\n",
       "    <tr>\n",
       "      <th>0</th>\n",
       "      <td>-122.23</td>\n",
       "      <td>37.88</td>\n",
       "      <td>41.0</td>\n",
       "      <td>880.0</td>\n",
       "      <td>129.0</td>\n",
       "      <td>322.0</td>\n",
       "      <td>126.0</td>\n",
       "      <td>8.3252</td>\n",
       "      <td>452600.0</td>\n",
       "      <td>NEAR BAY</td>\n",
       "      <td>0</td>\n",
       "    </tr>\n",
       "    <tr>\n",
       "      <th>1</th>\n",
       "      <td>-122.22</td>\n",
       "      <td>37.86</td>\n",
       "      <td>21.0</td>\n",
       "      <td>7099.0</td>\n",
       "      <td>1106.0</td>\n",
       "      <td>2401.0</td>\n",
       "      <td>1138.0</td>\n",
       "      <td>8.3014</td>\n",
       "      <td>358500.0</td>\n",
       "      <td>NEAR BAY</td>\n",
       "      <td>1</td>\n",
       "    </tr>\n",
       "    <tr>\n",
       "      <th>2</th>\n",
       "      <td>-122.24</td>\n",
       "      <td>37.85</td>\n",
       "      <td>52.0</td>\n",
       "      <td>1467.0</td>\n",
       "      <td>190.0</td>\n",
       "      <td>496.0</td>\n",
       "      <td>177.0</td>\n",
       "      <td>7.2574</td>\n",
       "      <td>352100.0</td>\n",
       "      <td>NEAR BAY</td>\n",
       "      <td>2</td>\n",
       "    </tr>\n",
       "    <tr>\n",
       "      <th>3</th>\n",
       "      <td>-122.25</td>\n",
       "      <td>37.85</td>\n",
       "      <td>52.0</td>\n",
       "      <td>1274.0</td>\n",
       "      <td>235.0</td>\n",
       "      <td>558.0</td>\n",
       "      <td>219.0</td>\n",
       "      <td>5.6431</td>\n",
       "      <td>341300.0</td>\n",
       "      <td>NEAR BAY</td>\n",
       "      <td>3</td>\n",
       "    </tr>\n",
       "    <tr>\n",
       "      <th>4</th>\n",
       "      <td>-122.25</td>\n",
       "      <td>37.85</td>\n",
       "      <td>52.0</td>\n",
       "      <td>1627.0</td>\n",
       "      <td>280.0</td>\n",
       "      <td>565.0</td>\n",
       "      <td>259.0</td>\n",
       "      <td>3.8462</td>\n",
       "      <td>342200.0</td>\n",
       "      <td>NEAR BAY</td>\n",
       "      <td>4</td>\n",
       "    </tr>\n",
       "  </tbody>\n",
       "</table>\n",
       "</div>"
      ],
      "text/plain": [
       "   longitude  latitude  housing_median_age  total_rooms  total_bedrooms  \\\n",
       "0    -122.23     37.88                41.0        880.0           129.0   \n",
       "1    -122.22     37.86                21.0       7099.0          1106.0   \n",
       "2    -122.24     37.85                52.0       1467.0           190.0   \n",
       "3    -122.25     37.85                52.0       1274.0           235.0   \n",
       "4    -122.25     37.85                52.0       1627.0           280.0   \n",
       "\n",
       "   population  households  median_income  median_house_value ocean_proximity  \\\n",
       "0       322.0       126.0         8.3252            452600.0        NEAR BAY   \n",
       "1      2401.0      1138.0         8.3014            358500.0        NEAR BAY   \n",
       "2       496.0       177.0         7.2574            352100.0        NEAR BAY   \n",
       "3       558.0       219.0         5.6431            341300.0        NEAR BAY   \n",
       "4       565.0       259.0         3.8462            342200.0        NEAR BAY   \n",
       "\n",
       "   id  \n",
       "0   0  \n",
       "1   1  \n",
       "2   2  \n",
       "3   3  \n",
       "4   4  "
      ]
     },
     "execution_count": 23,
     "metadata": {},
     "output_type": "execute_result"
    }
   ],
   "source": [
    "df[(df['population'] > 100) & (df['households'] > 100)].head()"
   ]
  },
  {
   "cell_type": "code",
   "execution_count": 26,
   "metadata": {
    "colab": {
     "base_uri": "https://localhost:8080/",
     "height": 206
    },
    "colab_type": "code",
    "id": "XXm2xf6dHPlK",
    "outputId": "60b16757-26e7-4e7f-c627-592f3aa823d8"
   },
   "outputs": [
    {
     "data": {
      "text/html": [
       "<div>\n",
       "<style scoped>\n",
       "    .dataframe tbody tr th:only-of-type {\n",
       "        vertical-align: middle;\n",
       "    }\n",
       "\n",
       "    .dataframe tbody tr th {\n",
       "        vertical-align: top;\n",
       "    }\n",
       "\n",
       "    .dataframe thead th {\n",
       "        text-align: right;\n",
       "    }\n",
       "</style>\n",
       "<table border=\"1\" class=\"dataframe\">\n",
       "  <thead>\n",
       "    <tr style=\"text-align: right;\">\n",
       "      <th></th>\n",
       "      <th>longitude</th>\n",
       "      <th>latitude</th>\n",
       "      <th>housing_median_age</th>\n",
       "      <th>total_rooms</th>\n",
       "      <th>total_bedrooms</th>\n",
       "      <th>population</th>\n",
       "      <th>households</th>\n",
       "      <th>median_income</th>\n",
       "      <th>median_house_value</th>\n",
       "      <th>ocean_proximity</th>\n",
       "      <th>id</th>\n",
       "    </tr>\n",
       "  </thead>\n",
       "  <tbody>\n",
       "    <tr>\n",
       "      <th>0</th>\n",
       "      <td>-122.23</td>\n",
       "      <td>37.88</td>\n",
       "      <td>41.0</td>\n",
       "      <td>880.0</td>\n",
       "      <td>129.0</td>\n",
       "      <td>322.0</td>\n",
       "      <td>126.0</td>\n",
       "      <td>8.3252</td>\n",
       "      <td>452600.0</td>\n",
       "      <td>NEAR BAY</td>\n",
       "      <td>0</td>\n",
       "    </tr>\n",
       "    <tr>\n",
       "      <th>1</th>\n",
       "      <td>-122.22</td>\n",
       "      <td>37.86</td>\n",
       "      <td>21.0</td>\n",
       "      <td>7099.0</td>\n",
       "      <td>1106.0</td>\n",
       "      <td>2401.0</td>\n",
       "      <td>1138.0</td>\n",
       "      <td>8.3014</td>\n",
       "      <td>358500.0</td>\n",
       "      <td>NEAR BAY</td>\n",
       "      <td>1</td>\n",
       "    </tr>\n",
       "    <tr>\n",
       "      <th>2</th>\n",
       "      <td>-122.24</td>\n",
       "      <td>37.85</td>\n",
       "      <td>52.0</td>\n",
       "      <td>1467.0</td>\n",
       "      <td>190.0</td>\n",
       "      <td>496.0</td>\n",
       "      <td>177.0</td>\n",
       "      <td>7.2574</td>\n",
       "      <td>352100.0</td>\n",
       "      <td>NEAR BAY</td>\n",
       "      <td>2</td>\n",
       "    </tr>\n",
       "    <tr>\n",
       "      <th>3</th>\n",
       "      <td>-122.25</td>\n",
       "      <td>37.85</td>\n",
       "      <td>52.0</td>\n",
       "      <td>1274.0</td>\n",
       "      <td>235.0</td>\n",
       "      <td>558.0</td>\n",
       "      <td>219.0</td>\n",
       "      <td>5.6431</td>\n",
       "      <td>341300.0</td>\n",
       "      <td>NEAR BAY</td>\n",
       "      <td>3</td>\n",
       "    </tr>\n",
       "    <tr>\n",
       "      <th>4</th>\n",
       "      <td>-122.25</td>\n",
       "      <td>37.85</td>\n",
       "      <td>52.0</td>\n",
       "      <td>1627.0</td>\n",
       "      <td>280.0</td>\n",
       "      <td>565.0</td>\n",
       "      <td>259.0</td>\n",
       "      <td>3.8462</td>\n",
       "      <td>342200.0</td>\n",
       "      <td>NEAR BAY</td>\n",
       "      <td>4</td>\n",
       "    </tr>\n",
       "  </tbody>\n",
       "</table>\n",
       "</div>"
      ],
      "text/plain": [
       "   longitude  latitude  housing_median_age  total_rooms  total_bedrooms  \\\n",
       "0    -122.23     37.88                41.0        880.0           129.0   \n",
       "1    -122.22     37.86                21.0       7099.0          1106.0   \n",
       "2    -122.24     37.85                52.0       1467.0           190.0   \n",
       "3    -122.25     37.85                52.0       1274.0           235.0   \n",
       "4    -122.25     37.85                52.0       1627.0           280.0   \n",
       "\n",
       "   population  households  median_income  median_house_value ocean_proximity  \\\n",
       "0       322.0       126.0         8.3252            452600.0        NEAR BAY   \n",
       "1      2401.0      1138.0         8.3014            358500.0        NEAR BAY   \n",
       "2       496.0       177.0         7.2574            352100.0        NEAR BAY   \n",
       "3       558.0       219.0         5.6431            341300.0        NEAR BAY   \n",
       "4       565.0       259.0         3.8462            342200.0        NEAR BAY   \n",
       "\n",
       "   id  \n",
       "0   0  \n",
       "1   1  \n",
       "2   2  \n",
       "3   3  \n",
       "4   4  "
      ]
     },
     "execution_count": 26,
     "metadata": {},
     "output_type": "execute_result"
    }
   ],
   "source": [
    "df[(df['population'] > 100) | (df['households'] > 100)].head()"
   ]
  },
  {
   "cell_type": "code",
   "execution_count": 27,
   "metadata": {},
   "outputs": [
    {
     "data": {
      "text/plain": [
       "0        False\n",
       "1        False\n",
       "2        False\n",
       "3        False\n",
       "4        False\n",
       "         ...  \n",
       "20635    False\n",
       "20636    False\n",
       "20637     True\n",
       "20638    False\n",
       "20639    False\n",
       "Name: population, Length: 20640, dtype: bool"
      ]
     },
     "execution_count": 27,
     "metadata": {},
     "output_type": "execute_result"
    }
   ],
   "source": [
    "~(df['population'] > 100)"
   ]
  },
  {
   "cell_type": "code",
   "execution_count": 28,
   "metadata": {
    "colab": {
     "base_uri": "https://localhost:8080/",
     "height": 206
    },
    "colab_type": "code",
    "id": "bUmjj_QkHTBa",
    "outputId": "4982c1b4-9376-49db-eefd-2c6b5ed400ff"
   },
   "outputs": [
    {
     "data": {
      "text/html": [
       "<div>\n",
       "<style scoped>\n",
       "    .dataframe tbody tr th:only-of-type {\n",
       "        vertical-align: middle;\n",
       "    }\n",
       "\n",
       "    .dataframe tbody tr th {\n",
       "        vertical-align: top;\n",
       "    }\n",
       "\n",
       "    .dataframe thead th {\n",
       "        text-align: right;\n",
       "    }\n",
       "</style>\n",
       "<table border=\"1\" class=\"dataframe\">\n",
       "  <thead>\n",
       "    <tr style=\"text-align: right;\">\n",
       "      <th></th>\n",
       "      <th>longitude</th>\n",
       "      <th>latitude</th>\n",
       "      <th>housing_median_age</th>\n",
       "      <th>total_rooms</th>\n",
       "      <th>total_bedrooms</th>\n",
       "      <th>population</th>\n",
       "      <th>households</th>\n",
       "      <th>median_income</th>\n",
       "      <th>median_house_value</th>\n",
       "      <th>ocean_proximity</th>\n",
       "      <th>id</th>\n",
       "    </tr>\n",
       "  </thead>\n",
       "  <tbody>\n",
       "    <tr>\n",
       "      <th>34</th>\n",
       "      <td>-122.27</td>\n",
       "      <td>37.83</td>\n",
       "      <td>51.0</td>\n",
       "      <td>2665.0</td>\n",
       "      <td>574.0</td>\n",
       "      <td>NaN</td>\n",
       "      <td>536.0</td>\n",
       "      <td>2.7303</td>\n",
       "      <td>109700.0</td>\n",
       "      <td>NEAR BAY</td>\n",
       "      <td>34</td>\n",
       "    </tr>\n",
       "    <tr>\n",
       "      <th>59</th>\n",
       "      <td>-122.29</td>\n",
       "      <td>37.82</td>\n",
       "      <td>2.0</td>\n",
       "      <td>158.0</td>\n",
       "      <td>43.0</td>\n",
       "      <td>94.0</td>\n",
       "      <td>57.0</td>\n",
       "      <td>2.5625</td>\n",
       "      <td>60000.0</td>\n",
       "      <td>NEAR BAY</td>\n",
       "      <td>59</td>\n",
       "    </tr>\n",
       "    <tr>\n",
       "      <th>61</th>\n",
       "      <td>-122.29</td>\n",
       "      <td>37.82</td>\n",
       "      <td>49.0</td>\n",
       "      <td>135.0</td>\n",
       "      <td>29.0</td>\n",
       "      <td>86.0</td>\n",
       "      <td>23.0</td>\n",
       "      <td>6.1183</td>\n",
       "      <td>75000.0</td>\n",
       "      <td>NEAR BAY</td>\n",
       "      <td>61</td>\n",
       "    </tr>\n",
       "    <tr>\n",
       "      <th>73</th>\n",
       "      <td>-122.29</td>\n",
       "      <td>37.81</td>\n",
       "      <td>46.0</td>\n",
       "      <td>12.0</td>\n",
       "      <td>4.0</td>\n",
       "      <td>18.0</td>\n",
       "      <td>7.0</td>\n",
       "      <td>0.4999</td>\n",
       "      <td>67500.0</td>\n",
       "      <td>NEAR BAY</td>\n",
       "      <td>73</td>\n",
       "    </tr>\n",
       "    <tr>\n",
       "      <th>121</th>\n",
       "      <td>-122.24</td>\n",
       "      <td>37.85</td>\n",
       "      <td>37.0</td>\n",
       "      <td>334.0</td>\n",
       "      <td>54.0</td>\n",
       "      <td>98.0</td>\n",
       "      <td>47.0</td>\n",
       "      <td>4.9643</td>\n",
       "      <td>335000.0</td>\n",
       "      <td>NEAR BAY</td>\n",
       "      <td>121</td>\n",
       "    </tr>\n",
       "  </tbody>\n",
       "</table>\n",
       "</div>"
      ],
      "text/plain": [
       "     longitude  latitude  housing_median_age  total_rooms  total_bedrooms  \\\n",
       "34     -122.27     37.83                51.0       2665.0           574.0   \n",
       "59     -122.29     37.82                 2.0        158.0            43.0   \n",
       "61     -122.29     37.82                49.0        135.0            29.0   \n",
       "73     -122.29     37.81                46.0         12.0             4.0   \n",
       "121    -122.24     37.85                37.0        334.0            54.0   \n",
       "\n",
       "     population  households  median_income  median_house_value  \\\n",
       "34          NaN       536.0         2.7303            109700.0   \n",
       "59         94.0        57.0         2.5625             60000.0   \n",
       "61         86.0        23.0         6.1183             75000.0   \n",
       "73         18.0         7.0         0.4999             67500.0   \n",
       "121        98.0        47.0         4.9643            335000.0   \n",
       "\n",
       "    ocean_proximity   id  \n",
       "34         NEAR BAY   34  \n",
       "59         NEAR BAY   59  \n",
       "61         NEAR BAY   61  \n",
       "73         NEAR BAY   73  \n",
       "121        NEAR BAY  121  "
      ]
     },
     "execution_count": 28,
     "metadata": {},
     "output_type": "execute_result"
    }
   ],
   "source": [
    "df[~(df['population'] > 100)].head()"
   ]
  },
  {
   "cell_type": "code",
   "execution_count": 29,
   "metadata": {},
   "outputs": [
    {
     "data": {
      "text/html": [
       "<div>\n",
       "<style scoped>\n",
       "    .dataframe tbody tr th:only-of-type {\n",
       "        vertical-align: middle;\n",
       "    }\n",
       "\n",
       "    .dataframe tbody tr th {\n",
       "        vertical-align: top;\n",
       "    }\n",
       "\n",
       "    .dataframe thead th {\n",
       "        text-align: right;\n",
       "    }\n",
       "</style>\n",
       "<table border=\"1\" class=\"dataframe\">\n",
       "  <thead>\n",
       "    <tr style=\"text-align: right;\">\n",
       "      <th></th>\n",
       "      <th>longitude</th>\n",
       "      <th>latitude</th>\n",
       "      <th>housing_median_age</th>\n",
       "      <th>total_rooms</th>\n",
       "      <th>total_bedrooms</th>\n",
       "      <th>population</th>\n",
       "      <th>households</th>\n",
       "      <th>median_income</th>\n",
       "      <th>median_house_value</th>\n",
       "      <th>ocean_proximity</th>\n",
       "      <th>id</th>\n",
       "    </tr>\n",
       "  </thead>\n",
       "  <tbody>\n",
       "    <tr>\n",
       "      <th>34</th>\n",
       "      <td>-122.27</td>\n",
       "      <td>37.83</td>\n",
       "      <td>51.0</td>\n",
       "      <td>2665.0</td>\n",
       "      <td>574.0</td>\n",
       "      <td>NaN</td>\n",
       "      <td>536.0</td>\n",
       "      <td>2.7303</td>\n",
       "      <td>109700.0</td>\n",
       "      <td>NEAR BAY</td>\n",
       "      <td>34</td>\n",
       "    </tr>\n",
       "    <tr>\n",
       "      <th>59</th>\n",
       "      <td>-122.29</td>\n",
       "      <td>37.82</td>\n",
       "      <td>2.0</td>\n",
       "      <td>158.0</td>\n",
       "      <td>43.0</td>\n",
       "      <td>94.0</td>\n",
       "      <td>57.0</td>\n",
       "      <td>2.5625</td>\n",
       "      <td>60000.0</td>\n",
       "      <td>NEAR BAY</td>\n",
       "      <td>59</td>\n",
       "    </tr>\n",
       "    <tr>\n",
       "      <th>61</th>\n",
       "      <td>-122.29</td>\n",
       "      <td>37.82</td>\n",
       "      <td>49.0</td>\n",
       "      <td>135.0</td>\n",
       "      <td>29.0</td>\n",
       "      <td>86.0</td>\n",
       "      <td>23.0</td>\n",
       "      <td>6.1183</td>\n",
       "      <td>75000.0</td>\n",
       "      <td>NEAR BAY</td>\n",
       "      <td>61</td>\n",
       "    </tr>\n",
       "    <tr>\n",
       "      <th>73</th>\n",
       "      <td>-122.29</td>\n",
       "      <td>37.81</td>\n",
       "      <td>46.0</td>\n",
       "      <td>12.0</td>\n",
       "      <td>4.0</td>\n",
       "      <td>18.0</td>\n",
       "      <td>7.0</td>\n",
       "      <td>0.4999</td>\n",
       "      <td>67500.0</td>\n",
       "      <td>NEAR BAY</td>\n",
       "      <td>73</td>\n",
       "    </tr>\n",
       "    <tr>\n",
       "      <th>121</th>\n",
       "      <td>-122.24</td>\n",
       "      <td>37.85</td>\n",
       "      <td>37.0</td>\n",
       "      <td>334.0</td>\n",
       "      <td>54.0</td>\n",
       "      <td>98.0</td>\n",
       "      <td>47.0</td>\n",
       "      <td>4.9643</td>\n",
       "      <td>335000.0</td>\n",
       "      <td>NEAR BAY</td>\n",
       "      <td>121</td>\n",
       "    </tr>\n",
       "  </tbody>\n",
       "</table>\n",
       "</div>"
      ],
      "text/plain": [
       "     longitude  latitude  housing_median_age  total_rooms  total_bedrooms  \\\n",
       "34     -122.27     37.83                51.0       2665.0           574.0   \n",
       "59     -122.29     37.82                 2.0        158.0            43.0   \n",
       "61     -122.29     37.82                49.0        135.0            29.0   \n",
       "73     -122.29     37.81                46.0         12.0             4.0   \n",
       "121    -122.24     37.85                37.0        334.0            54.0   \n",
       "\n",
       "     population  households  median_income  median_house_value  \\\n",
       "34          NaN       536.0         2.7303            109700.0   \n",
       "59         94.0        57.0         2.5625             60000.0   \n",
       "61         86.0        23.0         6.1183             75000.0   \n",
       "73         18.0         7.0         0.4999             67500.0   \n",
       "121        98.0        47.0         4.9643            335000.0   \n",
       "\n",
       "    ocean_proximity   id  \n",
       "34         NEAR BAY   34  \n",
       "59         NEAR BAY   59  \n",
       "61         NEAR BAY   61  \n",
       "73         NEAR BAY   73  \n",
       "121        NEAR BAY  121  "
      ]
     },
     "execution_count": 29,
     "metadata": {},
     "output_type": "execute_result"
    }
   ],
   "source": [
    "tmp = df[~(df['population'] > 100)]\n",
    "tmp.head()"
   ]
  },
  {
   "cell_type": "code",
   "execution_count": 30,
   "metadata": {},
   "outputs": [
    {
     "data": {
      "text/plain": [
       "Int64Index([   34,    59,    61,    73,   121,   129,   140,   167,   194,\n",
       "              201,\n",
       "            ...\n",
       "            20452, 20453, 20484, 20489, 20502, 20571, 20624, 20625, 20633,\n",
       "            20637],\n",
       "           dtype='int64', length=828)"
      ]
     },
     "execution_count": 30,
     "metadata": {},
     "output_type": "execute_result"
    }
   ],
   "source": [
    "tmp.index"
   ]
  },
  {
   "cell_type": "markdown",
   "metadata": {},
   "source": [
    "Взятие наблюдения по индексу"
   ]
  },
  {
   "cell_type": "code",
   "execution_count": 42,
   "metadata": {
    "colab": {
     "base_uri": "https://localhost:8080/",
     "height": 225
    },
    "colab_type": "code",
    "id": "_CI43UGsIG-1",
    "outputId": "a00cf49c-c2ed-4472-9afc-543c04be55cf"
   },
   "outputs": [
    {
     "data": {
      "text/plain": [
       "longitude              -122.29\n",
       "latitude                 37.82\n",
       "housing_median_age           2\n",
       "total_rooms                158\n",
       "total_bedrooms              43\n",
       "population                  94\n",
       "households                  57\n",
       "median_income           2.5625\n",
       "median_house_value       60000\n",
       "ocean_proximity       NEAR BAY\n",
       "id                          59\n",
       "Name: 59, dtype: object"
      ]
     },
     "execution_count": 42,
     "metadata": {},
     "output_type": "execute_result"
    }
   ],
   "source": [
    "tmp.loc[59]"
   ]
  },
  {
   "cell_type": "code",
   "execution_count": 44,
   "metadata": {
    "colab": {
     "base_uri": "https://localhost:8080/",
     "height": 225
    },
    "colab_type": "code",
    "id": "6Spv3jPMIKtD",
    "outputId": "07015266-5523-4c32-a797-f795ea3b0e84"
   },
   "outputs": [
    {
     "data": {
      "text/plain": [
       "longitude              -122.27\n",
       "latitude                 37.83\n",
       "housing_median_age          51\n",
       "total_rooms               2665\n",
       "total_bedrooms             574\n",
       "population                 NaN\n",
       "households                 536\n",
       "median_income           2.7303\n",
       "median_house_value      109700\n",
       "ocean_proximity       NEAR BAY\n",
       "id                          34\n",
       "Name: 34, dtype: object"
      ]
     },
     "execution_count": 44,
     "metadata": {},
     "output_type": "execute_result"
    }
   ],
   "source": [
    "tmp.iloc[0]"
   ]
  },
  {
   "cell_type": "code",
   "execution_count": 38,
   "metadata": {
    "colab": {
     "base_uri": "https://localhost:8080/",
     "height": 238
    },
    "colab_type": "code",
    "id": "SV4smNDcIc0a",
    "outputId": "c7b06b34-b2d8-4bcf-9b1f-6464fcb2d202"
   },
   "outputs": [
    {
     "data": {
      "text/html": [
       "<div>\n",
       "<style scoped>\n",
       "    .dataframe tbody tr th:only-of-type {\n",
       "        vertical-align: middle;\n",
       "    }\n",
       "\n",
       "    .dataframe tbody tr th {\n",
       "        vertical-align: top;\n",
       "    }\n",
       "\n",
       "    .dataframe thead th {\n",
       "        text-align: right;\n",
       "    }\n",
       "</style>\n",
       "<table border=\"1\" class=\"dataframe\">\n",
       "  <thead>\n",
       "    <tr style=\"text-align: right;\">\n",
       "      <th></th>\n",
       "      <th>longitude</th>\n",
       "      <th>latitude</th>\n",
       "      <th>housing_median_age</th>\n",
       "      <th>total_rooms</th>\n",
       "      <th>total_bedrooms</th>\n",
       "      <th>population</th>\n",
       "      <th>households</th>\n",
       "      <th>median_income</th>\n",
       "      <th>median_house_value</th>\n",
       "      <th>ocean_proximity</th>\n",
       "      <th>id</th>\n",
       "    </tr>\n",
       "  </thead>\n",
       "  <tbody>\n",
       "    <tr>\n",
       "      <th>34</th>\n",
       "      <td>-122.27</td>\n",
       "      <td>37.83</td>\n",
       "      <td>51.0</td>\n",
       "      <td>2665.0</td>\n",
       "      <td>574.0</td>\n",
       "      <td>NaN</td>\n",
       "      <td>536.0</td>\n",
       "      <td>2.7303</td>\n",
       "      <td>109700.0</td>\n",
       "      <td>NEAR BAY</td>\n",
       "      <td>34</td>\n",
       "    </tr>\n",
       "    <tr>\n",
       "      <th>59</th>\n",
       "      <td>-122.29</td>\n",
       "      <td>37.82</td>\n",
       "      <td>2.0</td>\n",
       "      <td>158.0</td>\n",
       "      <td>43.0</td>\n",
       "      <td>94.0</td>\n",
       "      <td>57.0</td>\n",
       "      <td>2.5625</td>\n",
       "      <td>60000.0</td>\n",
       "      <td>NEAR BAY</td>\n",
       "      <td>59</td>\n",
       "    </tr>\n",
       "    <tr>\n",
       "      <th>61</th>\n",
       "      <td>-122.29</td>\n",
       "      <td>37.82</td>\n",
       "      <td>49.0</td>\n",
       "      <td>135.0</td>\n",
       "      <td>29.0</td>\n",
       "      <td>86.0</td>\n",
       "      <td>23.0</td>\n",
       "      <td>6.1183</td>\n",
       "      <td>75000.0</td>\n",
       "      <td>NEAR BAY</td>\n",
       "      <td>61</td>\n",
       "    </tr>\n",
       "  </tbody>\n",
       "</table>\n",
       "</div>"
      ],
      "text/plain": [
       "    longitude  latitude  housing_median_age  total_rooms  total_bedrooms  \\\n",
       "34    -122.27     37.83                51.0       2665.0           574.0   \n",
       "59    -122.29     37.82                 2.0        158.0            43.0   \n",
       "61    -122.29     37.82                49.0        135.0            29.0   \n",
       "\n",
       "    population  households  median_income  median_house_value ocean_proximity  \\\n",
       "34         NaN       536.0         2.7303            109700.0        NEAR BAY   \n",
       "59        94.0        57.0         2.5625             60000.0        NEAR BAY   \n",
       "61        86.0        23.0         6.1183             75000.0        NEAR BAY   \n",
       "\n",
       "    id  \n",
       "34  34  \n",
       "59  59  \n",
       "61  61  "
      ]
     },
     "execution_count": 38,
     "metadata": {},
     "output_type": "execute_result"
    }
   ],
   "source": [
    "tmp.loc[:61]"
   ]
  },
  {
   "cell_type": "code",
   "execution_count": 39,
   "metadata": {
    "colab": {
     "base_uri": "https://localhost:8080/",
     "height": 206
    },
    "colab_type": "code",
    "id": "oCfl66njISDi",
    "outputId": "90cdc168-167d-4ce5-949b-033b21140139"
   },
   "outputs": [
    {
     "data": {
      "text/html": [
       "<div>\n",
       "<style scoped>\n",
       "    .dataframe tbody tr th:only-of-type {\n",
       "        vertical-align: middle;\n",
       "    }\n",
       "\n",
       "    .dataframe tbody tr th {\n",
       "        vertical-align: top;\n",
       "    }\n",
       "\n",
       "    .dataframe thead th {\n",
       "        text-align: right;\n",
       "    }\n",
       "</style>\n",
       "<table border=\"1\" class=\"dataframe\">\n",
       "  <thead>\n",
       "    <tr style=\"text-align: right;\">\n",
       "      <th></th>\n",
       "      <th>longitude</th>\n",
       "      <th>latitude</th>\n",
       "      <th>housing_median_age</th>\n",
       "      <th>total_rooms</th>\n",
       "      <th>total_bedrooms</th>\n",
       "      <th>population</th>\n",
       "      <th>households</th>\n",
       "      <th>median_income</th>\n",
       "      <th>median_house_value</th>\n",
       "      <th>ocean_proximity</th>\n",
       "      <th>id</th>\n",
       "    </tr>\n",
       "  </thead>\n",
       "  <tbody>\n",
       "    <tr>\n",
       "      <th>34</th>\n",
       "      <td>-122.27</td>\n",
       "      <td>37.83</td>\n",
       "      <td>51.0</td>\n",
       "      <td>2665.0</td>\n",
       "      <td>574.0</td>\n",
       "      <td>NaN</td>\n",
       "      <td>536.0</td>\n",
       "      <td>2.7303</td>\n",
       "      <td>109700.0</td>\n",
       "      <td>NEAR BAY</td>\n",
       "      <td>34</td>\n",
       "    </tr>\n",
       "    <tr>\n",
       "      <th>59</th>\n",
       "      <td>-122.29</td>\n",
       "      <td>37.82</td>\n",
       "      <td>2.0</td>\n",
       "      <td>158.0</td>\n",
       "      <td>43.0</td>\n",
       "      <td>94.0</td>\n",
       "      <td>57.0</td>\n",
       "      <td>2.5625</td>\n",
       "      <td>60000.0</td>\n",
       "      <td>NEAR BAY</td>\n",
       "      <td>59</td>\n",
       "    </tr>\n",
       "    <tr>\n",
       "      <th>61</th>\n",
       "      <td>-122.29</td>\n",
       "      <td>37.82</td>\n",
       "      <td>49.0</td>\n",
       "      <td>135.0</td>\n",
       "      <td>29.0</td>\n",
       "      <td>86.0</td>\n",
       "      <td>23.0</td>\n",
       "      <td>6.1183</td>\n",
       "      <td>75000.0</td>\n",
       "      <td>NEAR BAY</td>\n",
       "      <td>61</td>\n",
       "    </tr>\n",
       "    <tr>\n",
       "      <th>73</th>\n",
       "      <td>-122.29</td>\n",
       "      <td>37.81</td>\n",
       "      <td>46.0</td>\n",
       "      <td>12.0</td>\n",
       "      <td>4.0</td>\n",
       "      <td>18.0</td>\n",
       "      <td>7.0</td>\n",
       "      <td>0.4999</td>\n",
       "      <td>67500.0</td>\n",
       "      <td>NEAR BAY</td>\n",
       "      <td>73</td>\n",
       "    </tr>\n",
       "    <tr>\n",
       "      <th>121</th>\n",
       "      <td>-122.24</td>\n",
       "      <td>37.85</td>\n",
       "      <td>37.0</td>\n",
       "      <td>334.0</td>\n",
       "      <td>54.0</td>\n",
       "      <td>98.0</td>\n",
       "      <td>47.0</td>\n",
       "      <td>4.9643</td>\n",
       "      <td>335000.0</td>\n",
       "      <td>NEAR BAY</td>\n",
       "      <td>121</td>\n",
       "    </tr>\n",
       "  </tbody>\n",
       "</table>\n",
       "</div>"
      ],
      "text/plain": [
       "     longitude  latitude  housing_median_age  total_rooms  total_bedrooms  \\\n",
       "34     -122.27     37.83                51.0       2665.0           574.0   \n",
       "59     -122.29     37.82                 2.0        158.0            43.0   \n",
       "61     -122.29     37.82                49.0        135.0            29.0   \n",
       "73     -122.29     37.81                46.0         12.0             4.0   \n",
       "121    -122.24     37.85                37.0        334.0            54.0   \n",
       "\n",
       "     population  households  median_income  median_house_value  \\\n",
       "34          NaN       536.0         2.7303            109700.0   \n",
       "59         94.0        57.0         2.5625             60000.0   \n",
       "61         86.0        23.0         6.1183             75000.0   \n",
       "73         18.0         7.0         0.4999             67500.0   \n",
       "121        98.0        47.0         4.9643            335000.0   \n",
       "\n",
       "    ocean_proximity   id  \n",
       "34         NEAR BAY   34  \n",
       "59         NEAR BAY   59  \n",
       "61         NEAR BAY   61  \n",
       "73         NEAR BAY   73  \n",
       "121        NEAR BAY  121  "
      ]
     },
     "execution_count": 39,
     "metadata": {},
     "output_type": "execute_result"
    }
   ],
   "source": [
    "tmp.iloc[:5]"
   ]
  },
  {
   "cell_type": "code",
   "execution_count": 40,
   "metadata": {
    "colab": {
     "base_uri": "https://localhost:8080/",
     "height": 206
    },
    "colab_type": "code",
    "id": "jR21ses-IVqI",
    "outputId": "eeaa7207-ef18-46f0-d6bf-4672398840ad"
   },
   "outputs": [
    {
     "data": {
      "text/html": [
       "<div>\n",
       "<style scoped>\n",
       "    .dataframe tbody tr th:only-of-type {\n",
       "        vertical-align: middle;\n",
       "    }\n",
       "\n",
       "    .dataframe tbody tr th {\n",
       "        vertical-align: top;\n",
       "    }\n",
       "\n",
       "    .dataframe thead th {\n",
       "        text-align: right;\n",
       "    }\n",
       "</style>\n",
       "<table border=\"1\" class=\"dataframe\">\n",
       "  <thead>\n",
       "    <tr style=\"text-align: right;\">\n",
       "      <th></th>\n",
       "      <th>longitude</th>\n",
       "      <th>latitude</th>\n",
       "      <th>housing_median_age</th>\n",
       "      <th>total_rooms</th>\n",
       "      <th>total_bedrooms</th>\n",
       "      <th>population</th>\n",
       "      <th>households</th>\n",
       "      <th>median_income</th>\n",
       "      <th>median_house_value</th>\n",
       "      <th>ocean_proximity</th>\n",
       "      <th>id</th>\n",
       "    </tr>\n",
       "  </thead>\n",
       "  <tbody>\n",
       "    <tr>\n",
       "      <th>20502</th>\n",
       "      <td>-118.68</td>\n",
       "      <td>34.33</td>\n",
       "      <td>45.0</td>\n",
       "      <td>121.0</td>\n",
       "      <td>25.0</td>\n",
       "      <td>67.0</td>\n",
       "      <td>27.0</td>\n",
       "      <td>2.9821</td>\n",
       "      <td>325000.0</td>\n",
       "      <td>&lt;1H OCEAN</td>\n",
       "      <td>20502</td>\n",
       "    </tr>\n",
       "    <tr>\n",
       "      <th>20571</th>\n",
       "      <td>-121.99</td>\n",
       "      <td>38.53</td>\n",
       "      <td>6.0</td>\n",
       "      <td>4598.0</td>\n",
       "      <td>834.0</td>\n",
       "      <td>NaN</td>\n",
       "      <td>812.0</td>\n",
       "      <td>3.4186</td>\n",
       "      <td>127300.0</td>\n",
       "      <td>INLAND</td>\n",
       "      <td>20571</td>\n",
       "    </tr>\n",
       "    <tr>\n",
       "      <th>20624</th>\n",
       "      <td>-121.41</td>\n",
       "      <td>39.04</td>\n",
       "      <td>16.0</td>\n",
       "      <td>1698.0</td>\n",
       "      <td>300.0</td>\n",
       "      <td>NaN</td>\n",
       "      <td>291.0</td>\n",
       "      <td>3.0739</td>\n",
       "      <td>87200.0</td>\n",
       "      <td>INLAND</td>\n",
       "      <td>20624</td>\n",
       "    </tr>\n",
       "    <tr>\n",
       "      <th>20625</th>\n",
       "      <td>-121.52</td>\n",
       "      <td>39.12</td>\n",
       "      <td>37.0</td>\n",
       "      <td>102.0</td>\n",
       "      <td>17.0</td>\n",
       "      <td>29.0</td>\n",
       "      <td>14.0</td>\n",
       "      <td>4.1250</td>\n",
       "      <td>72000.0</td>\n",
       "      <td>INLAND</td>\n",
       "      <td>20625</td>\n",
       "    </tr>\n",
       "    <tr>\n",
       "      <th>20633</th>\n",
       "      <td>-121.53</td>\n",
       "      <td>39.19</td>\n",
       "      <td>27.0</td>\n",
       "      <td>2080.0</td>\n",
       "      <td>412.0</td>\n",
       "      <td>NaN</td>\n",
       "      <td>382.0</td>\n",
       "      <td>2.5495</td>\n",
       "      <td>98300.0</td>\n",
       "      <td>INLAND</td>\n",
       "      <td>20633</td>\n",
       "    </tr>\n",
       "  </tbody>\n",
       "</table>\n",
       "</div>"
      ],
      "text/plain": [
       "       longitude  latitude  housing_median_age  total_rooms  total_bedrooms  \\\n",
       "20502    -118.68     34.33                45.0        121.0            25.0   \n",
       "20571    -121.99     38.53                 6.0       4598.0           834.0   \n",
       "20624    -121.41     39.04                16.0       1698.0           300.0   \n",
       "20625    -121.52     39.12                37.0        102.0            17.0   \n",
       "20633    -121.53     39.19                27.0       2080.0           412.0   \n",
       "\n",
       "       population  households  median_income  median_house_value  \\\n",
       "20502        67.0        27.0         2.9821            325000.0   \n",
       "20571         NaN       812.0         3.4186            127300.0   \n",
       "20624         NaN       291.0         3.0739             87200.0   \n",
       "20625        29.0        14.0         4.1250             72000.0   \n",
       "20633         NaN       382.0         2.5495             98300.0   \n",
       "\n",
       "      ocean_proximity     id  \n",
       "20502       <1H OCEAN  20502  \n",
       "20571          INLAND  20571  \n",
       "20624          INLAND  20624  \n",
       "20625          INLAND  20625  \n",
       "20633          INLAND  20633  "
      ]
     },
     "execution_count": 40,
     "metadata": {},
     "output_type": "execute_result"
    }
   ],
   "source": [
    "tmp.iloc[-6:-1]"
   ]
  },
  {
   "cell_type": "markdown",
   "metadata": {},
   "source": [
    "Сводная таблица"
   ]
  },
  {
   "cell_type": "code",
   "execution_count": 45,
   "metadata": {},
   "outputs": [
    {
     "data": {
      "text/html": [
       "<div>\n",
       "<style scoped>\n",
       "    .dataframe tbody tr th:only-of-type {\n",
       "        vertical-align: middle;\n",
       "    }\n",
       "\n",
       "    .dataframe tbody tr th {\n",
       "        vertical-align: top;\n",
       "    }\n",
       "\n",
       "    .dataframe thead th {\n",
       "        text-align: right;\n",
       "    }\n",
       "</style>\n",
       "<table border=\"1\" class=\"dataframe\">\n",
       "  <thead>\n",
       "    <tr style=\"text-align: right;\">\n",
       "      <th>housing_median_age</th>\n",
       "      <th>1.0</th>\n",
       "      <th>2.0</th>\n",
       "      <th>3.0</th>\n",
       "      <th>4.0</th>\n",
       "      <th>5.0</th>\n",
       "      <th>6.0</th>\n",
       "      <th>7.0</th>\n",
       "      <th>8.0</th>\n",
       "      <th>9.0</th>\n",
       "      <th>10.0</th>\n",
       "      <th>...</th>\n",
       "      <th>43.0</th>\n",
       "      <th>44.0</th>\n",
       "      <th>45.0</th>\n",
       "      <th>46.0</th>\n",
       "      <th>47.0</th>\n",
       "      <th>48.0</th>\n",
       "      <th>49.0</th>\n",
       "      <th>50.0</th>\n",
       "      <th>51.0</th>\n",
       "      <th>52.0</th>\n",
       "    </tr>\n",
       "    <tr>\n",
       "      <th>ocean_proximity</th>\n",
       "      <th></th>\n",
       "      <th></th>\n",
       "      <th></th>\n",
       "      <th></th>\n",
       "      <th></th>\n",
       "      <th></th>\n",
       "      <th></th>\n",
       "      <th></th>\n",
       "      <th></th>\n",
       "      <th></th>\n",
       "      <th></th>\n",
       "      <th></th>\n",
       "      <th></th>\n",
       "      <th></th>\n",
       "      <th></th>\n",
       "      <th></th>\n",
       "      <th></th>\n",
       "      <th></th>\n",
       "      <th></th>\n",
       "      <th></th>\n",
       "      <th></th>\n",
       "    </tr>\n",
       "  </thead>\n",
       "  <tbody>\n",
       "    <tr>\n",
       "      <th>-</th>\n",
       "      <td>NaN</td>\n",
       "      <td>NaN</td>\n",
       "      <td>NaN</td>\n",
       "      <td>NaN</td>\n",
       "      <td>NaN</td>\n",
       "      <td>NaN</td>\n",
       "      <td>1659.000000</td>\n",
       "      <td>NaN</td>\n",
       "      <td>NaN</td>\n",
       "      <td>NaN</td>\n",
       "      <td>...</td>\n",
       "      <td>NaN</td>\n",
       "      <td>1934.000000</td>\n",
       "      <td>NaN</td>\n",
       "      <td>NaN</td>\n",
       "      <td>NaN</td>\n",
       "      <td>NaN</td>\n",
       "      <td>1141.000000</td>\n",
       "      <td>NaN</td>\n",
       "      <td>NaN</td>\n",
       "      <td>NaN</td>\n",
       "    </tr>\n",
       "    <tr>\n",
       "      <th>&lt;1H OCEAN</th>\n",
       "      <td>NaN</td>\n",
       "      <td>6401.789474</td>\n",
       "      <td>4422.000000</td>\n",
       "      <td>6364.053333</td>\n",
       "      <td>5290.195122</td>\n",
       "      <td>4895.355932</td>\n",
       "      <td>6394.565217</td>\n",
       "      <td>4433.000000</td>\n",
       "      <td>3518.205882</td>\n",
       "      <td>3539.333333</td>\n",
       "      <td>...</td>\n",
       "      <td>1664.389222</td>\n",
       "      <td>1682.994413</td>\n",
       "      <td>1676.606897</td>\n",
       "      <td>1829.878505</td>\n",
       "      <td>1716.526882</td>\n",
       "      <td>1811.365854</td>\n",
       "      <td>1852.320755</td>\n",
       "      <td>1838.890909</td>\n",
       "      <td>1755.384615</td>\n",
       "      <td>1694.745283</td>\n",
       "    </tr>\n",
       "    <tr>\n",
       "      <th>INLAND</th>\n",
       "      <td>1101.25</td>\n",
       "      <td>5609.533333</td>\n",
       "      <td>7826.806452</td>\n",
       "      <td>6194.164384</td>\n",
       "      <td>5110.294118</td>\n",
       "      <td>4365.310811</td>\n",
       "      <td>4938.484848</td>\n",
       "      <td>3915.522936</td>\n",
       "      <td>3979.943925</td>\n",
       "      <td>3545.041096</td>\n",
       "      <td>...</td>\n",
       "      <td>1515.840000</td>\n",
       "      <td>1756.453125</td>\n",
       "      <td>1564.139535</td>\n",
       "      <td>1616.830189</td>\n",
       "      <td>1767.794118</td>\n",
       "      <td>1618.945946</td>\n",
       "      <td>2045.533333</td>\n",
       "      <td>1627.818182</td>\n",
       "      <td>1891.916667</td>\n",
       "      <td>1509.414201</td>\n",
       "    </tr>\n",
       "    <tr>\n",
       "      <th>ISLAND</th>\n",
       "      <td>NaN</td>\n",
       "      <td>NaN</td>\n",
       "      <td>NaN</td>\n",
       "      <td>NaN</td>\n",
       "      <td>NaN</td>\n",
       "      <td>NaN</td>\n",
       "      <td>NaN</td>\n",
       "      <td>NaN</td>\n",
       "      <td>NaN</td>\n",
       "      <td>NaN</td>\n",
       "      <td>...</td>\n",
       "      <td>NaN</td>\n",
       "      <td>NaN</td>\n",
       "      <td>NaN</td>\n",
       "      <td>NaN</td>\n",
       "      <td>NaN</td>\n",
       "      <td>NaN</td>\n",
       "      <td>NaN</td>\n",
       "      <td>NaN</td>\n",
       "      <td>NaN</td>\n",
       "      <td>1827.333333</td>\n",
       "    </tr>\n",
       "    <tr>\n",
       "      <th>NEAR BAY</th>\n",
       "      <td>NaN</td>\n",
       "      <td>712.000000</td>\n",
       "      <td>6623.000000</td>\n",
       "      <td>4549.750000</td>\n",
       "      <td>5140.533333</td>\n",
       "      <td>3219.285714</td>\n",
       "      <td>9565.500000</td>\n",
       "      <td>4166.571429</td>\n",
       "      <td>3413.750000</td>\n",
       "      <td>3447.473684</td>\n",
       "      <td>...</td>\n",
       "      <td>2038.586957</td>\n",
       "      <td>1991.456522</td>\n",
       "      <td>2086.377358</td>\n",
       "      <td>1879.571429</td>\n",
       "      <td>1885.585366</td>\n",
       "      <td>1839.694444</td>\n",
       "      <td>1796.976744</td>\n",
       "      <td>1851.621622</td>\n",
       "      <td>1923.733333</td>\n",
       "      <td>2082.142623</td>\n",
       "    </tr>\n",
       "    <tr>\n",
       "      <th>NEAR OCEAN</th>\n",
       "      <td>NaN</td>\n",
       "      <td>3626.500000</td>\n",
       "      <td>6032.000000</td>\n",
       "      <td>6647.840000</td>\n",
       "      <td>3082.526316</td>\n",
       "      <td>4707.200000</td>\n",
       "      <td>5294.470588</td>\n",
       "      <td>3073.555556</td>\n",
       "      <td>4097.826087</td>\n",
       "      <td>3425.500000</td>\n",
       "      <td>...</td>\n",
       "      <td>1892.844828</td>\n",
       "      <td>1815.714286</td>\n",
       "      <td>1863.288889</td>\n",
       "      <td>1723.250000</td>\n",
       "      <td>1760.583333</td>\n",
       "      <td>1630.117647</td>\n",
       "      <td>1932.941176</td>\n",
       "      <td>1879.263158</td>\n",
       "      <td>1942.833333</td>\n",
       "      <td>1643.606299</td>\n",
       "    </tr>\n",
       "  </tbody>\n",
       "</table>\n",
       "<p>6 rows × 52 columns</p>\n",
       "</div>"
      ],
      "text/plain": [
       "housing_median_age     1.0          2.0          3.0          4.0   \\\n",
       "ocean_proximity                                                      \n",
       "-                       NaN          NaN          NaN          NaN   \n",
       "<1H OCEAN               NaN  6401.789474  4422.000000  6364.053333   \n",
       "INLAND              1101.25  5609.533333  7826.806452  6194.164384   \n",
       "ISLAND                  NaN          NaN          NaN          NaN   \n",
       "NEAR BAY                NaN   712.000000  6623.000000  4549.750000   \n",
       "NEAR OCEAN              NaN  3626.500000  6032.000000  6647.840000   \n",
       "\n",
       "housing_median_age         5.0          6.0          7.0          8.0   \\\n",
       "ocean_proximity                                                          \n",
       "-                           NaN          NaN  1659.000000          NaN   \n",
       "<1H OCEAN           5290.195122  4895.355932  6394.565217  4433.000000   \n",
       "INLAND              5110.294118  4365.310811  4938.484848  3915.522936   \n",
       "ISLAND                      NaN          NaN          NaN          NaN   \n",
       "NEAR BAY            5140.533333  3219.285714  9565.500000  4166.571429   \n",
       "NEAR OCEAN          3082.526316  4707.200000  5294.470588  3073.555556   \n",
       "\n",
       "housing_median_age         9.0          10.0  ...         43.0         44.0  \\\n",
       "ocean_proximity                               ...                             \n",
       "-                           NaN          NaN  ...          NaN  1934.000000   \n",
       "<1H OCEAN           3518.205882  3539.333333  ...  1664.389222  1682.994413   \n",
       "INLAND              3979.943925  3545.041096  ...  1515.840000  1756.453125   \n",
       "ISLAND                      NaN          NaN  ...          NaN          NaN   \n",
       "NEAR BAY            3413.750000  3447.473684  ...  2038.586957  1991.456522   \n",
       "NEAR OCEAN          4097.826087  3425.500000  ...  1892.844828  1815.714286   \n",
       "\n",
       "housing_median_age         45.0         46.0         47.0         48.0  \\\n",
       "ocean_proximity                                                          \n",
       "-                           NaN          NaN          NaN          NaN   \n",
       "<1H OCEAN           1676.606897  1829.878505  1716.526882  1811.365854   \n",
       "INLAND              1564.139535  1616.830189  1767.794118  1618.945946   \n",
       "ISLAND                      NaN          NaN          NaN          NaN   \n",
       "NEAR BAY            2086.377358  1879.571429  1885.585366  1839.694444   \n",
       "NEAR OCEAN          1863.288889  1723.250000  1760.583333  1630.117647   \n",
       "\n",
       "housing_median_age         49.0         50.0         51.0         52.0  \n",
       "ocean_proximity                                                         \n",
       "-                   1141.000000          NaN          NaN          NaN  \n",
       "<1H OCEAN           1852.320755  1838.890909  1755.384615  1694.745283  \n",
       "INLAND              2045.533333  1627.818182  1891.916667  1509.414201  \n",
       "ISLAND                      NaN          NaN          NaN  1827.333333  \n",
       "NEAR BAY            1796.976744  1851.621622  1923.733333  2082.142623  \n",
       "NEAR OCEAN          1932.941176  1879.263158  1942.833333  1643.606299  \n",
       "\n",
       "[6 rows x 52 columns]"
      ]
     },
     "execution_count": 45,
     "metadata": {},
     "output_type": "execute_result"
    }
   ],
   "source": [
    "pd.pivot_table(data=df,\n",
    "               values='total_rooms',\n",
    "               index='ocean_proximity',\n",
    "               columns='housing_median_age',\n",
    "               aggfunc='mean')"
   ]
  },
  {
   "cell_type": "code",
   "execution_count": 51,
   "metadata": {},
   "outputs": [
    {
     "data": {
      "text/plain": [
       "nan"
      ]
     },
     "execution_count": 51,
     "metadata": {},
     "output_type": "execute_result"
    }
   ],
   "source": [
    "df[\n",
    "    (df.housing_median_age == 2)\n",
    "    & (df.ocean_proximity == 'ISLAND')\n",
    "  ]['total_rooms'].mean()"
   ]
  },
  {
   "cell_type": "markdown",
   "metadata": {
    "colab_type": "text",
    "id": "DqBlaJYNuM4s"
   },
   "source": [
    "### 2. Приведение типов данных<a class='anchor' id='types'>"
   ]
  },
  {
   "cell_type": "code",
   "execution_count": 52,
   "metadata": {
    "colab": {
     "base_uri": "https://localhost:8080/",
     "height": 225
    },
    "colab_type": "code",
    "id": "H6Q372WkuM4t",
    "outputId": "310670d3-ed03-4ca4-f9b4-505823693e39"
   },
   "outputs": [
    {
     "data": {
      "text/plain": [
       "longitude             float64\n",
       "latitude              float64\n",
       "housing_median_age    float64\n",
       "total_rooms           float64\n",
       "total_bedrooms        float64\n",
       "population            float64\n",
       "households            float64\n",
       "median_income         float64\n",
       "median_house_value    float64\n",
       "ocean_proximity        object\n",
       "id                      int64\n",
       "dtype: object"
      ]
     },
     "execution_count": 52,
     "metadata": {},
     "output_type": "execute_result"
    }
   ],
   "source": [
    "df.dtypes"
   ]
  },
  {
   "cell_type": "code",
   "execution_count": 53,
   "metadata": {
    "colab": {
     "base_uri": "https://localhost:8080/",
     "height": 34
    },
    "colab_type": "code",
    "id": "twiPmyyvIBbb",
    "outputId": "1f11ab58-25d5-4601-8940-cafe489ebba9"
   },
   "outputs": [
    {
     "data": {
      "text/plain": [
       "pandas.core.series.Series"
      ]
     },
     "execution_count": 53,
     "metadata": {},
     "output_type": "execute_result"
    }
   ],
   "source": [
    "type(df.longitude)"
   ]
  },
  {
   "cell_type": "code",
   "execution_count": 54,
   "metadata": {
    "colab": {},
    "colab_type": "code",
    "id": "hv--_zPzuM4x",
    "outputId": "5675fa8e-4a53-4ba7-e85a-2c07de03bd59"
   },
   "outputs": [
    {
     "data": {
      "text/plain": [
       "dtype('int64')"
      ]
     },
     "execution_count": 54,
     "metadata": {},
     "output_type": "execute_result"
    }
   ],
   "source": [
    "df['id'].dtype"
   ]
  },
  {
   "cell_type": "code",
   "execution_count": 55,
   "metadata": {
    "colab": {
     "base_uri": "https://localhost:8080/",
     "height": 34
    },
    "colab_type": "code",
    "id": "04p9nVKOKxi9",
    "outputId": "50a6cd17-144e-46ed-d976-d78aae11e65a"
   },
   "outputs": [
    {
     "data": {
      "text/plain": [
       "array([    0,     1,     2, ..., 20637, 20638, 20639])"
      ]
     },
     "execution_count": 55,
     "metadata": {},
     "output_type": "execute_result"
    }
   ],
   "source": [
    "df['id'].values"
   ]
  },
  {
   "cell_type": "code",
   "execution_count": 56,
   "metadata": {
    "colab": {
     "base_uri": "https://localhost:8080/",
     "height": 34
    },
    "colab_type": "code",
    "id": "BiCHNcuTK2nS",
    "outputId": "a1e46c3d-7d21-4a7a-e3e8-3969e53e9374"
   },
   "outputs": [
    {
     "data": {
      "text/plain": [
       "numpy.ndarray"
      ]
     },
     "execution_count": 56,
     "metadata": {},
     "output_type": "execute_result"
    }
   ],
   "source": [
    "type(df['id'].values)"
   ]
  },
  {
   "cell_type": "code",
   "execution_count": 57,
   "metadata": {
    "colab": {},
    "colab_type": "code",
    "id": "f0krqHDMuM41",
    "outputId": "12ce5dce-8cc2-438b-ee74-28e387876b21"
   },
   "outputs": [
    {
     "data": {
      "text/plain": [
       "dtype('O')"
      ]
     },
     "execution_count": 57,
     "metadata": {},
     "output_type": "execute_result"
    }
   ],
   "source": [
    "df['id'] = df['id'].astype(str)\n",
    "df['id'].dtype"
   ]
  },
  {
   "cell_type": "markdown",
   "metadata": {
    "colab_type": "text",
    "id": "I-NmOODwuM46"
   },
   "source": [
    "### Обзор количественных переменных<a class='anchor' id='numeric'>\n",
    "    \n",
    "*Количественные (непрерывные) переменные*  - это переменные, которые могут принимать любые числовые значения в некотором диапазоне."
   ]
  },
  {
   "cell_type": "code",
   "execution_count": 58,
   "metadata": {
    "colab": {},
    "colab_type": "code",
    "id": "_3xw1nBVuM47",
    "outputId": "744e3d08-7597-4fa0-b567-2583d300a265"
   },
   "outputs": [
    {
     "data": {
      "text/html": [
       "<div>\n",
       "<style scoped>\n",
       "    .dataframe tbody tr th:only-of-type {\n",
       "        vertical-align: middle;\n",
       "    }\n",
       "\n",
       "    .dataframe tbody tr th {\n",
       "        vertical-align: top;\n",
       "    }\n",
       "\n",
       "    .dataframe thead th {\n",
       "        text-align: right;\n",
       "    }\n",
       "</style>\n",
       "<table border=\"1\" class=\"dataframe\">\n",
       "  <thead>\n",
       "    <tr style=\"text-align: right;\">\n",
       "      <th></th>\n",
       "      <th>longitude</th>\n",
       "      <th>latitude</th>\n",
       "      <th>housing_median_age</th>\n",
       "      <th>total_rooms</th>\n",
       "      <th>total_bedrooms</th>\n",
       "      <th>population</th>\n",
       "      <th>households</th>\n",
       "      <th>median_income</th>\n",
       "      <th>median_house_value</th>\n",
       "    </tr>\n",
       "  </thead>\n",
       "  <tbody>\n",
       "    <tr>\n",
       "      <th>0</th>\n",
       "      <td>-122.23</td>\n",
       "      <td>37.88</td>\n",
       "      <td>41.0</td>\n",
       "      <td>880.0</td>\n",
       "      <td>129.0</td>\n",
       "      <td>322.0</td>\n",
       "      <td>126.0</td>\n",
       "      <td>8.3252</td>\n",
       "      <td>452600.0</td>\n",
       "    </tr>\n",
       "    <tr>\n",
       "      <th>1</th>\n",
       "      <td>-122.22</td>\n",
       "      <td>37.86</td>\n",
       "      <td>21.0</td>\n",
       "      <td>7099.0</td>\n",
       "      <td>1106.0</td>\n",
       "      <td>2401.0</td>\n",
       "      <td>1138.0</td>\n",
       "      <td>8.3014</td>\n",
       "      <td>358500.0</td>\n",
       "    </tr>\n",
       "    <tr>\n",
       "      <th>2</th>\n",
       "      <td>-122.24</td>\n",
       "      <td>37.85</td>\n",
       "      <td>52.0</td>\n",
       "      <td>1467.0</td>\n",
       "      <td>190.0</td>\n",
       "      <td>496.0</td>\n",
       "      <td>177.0</td>\n",
       "      <td>7.2574</td>\n",
       "      <td>352100.0</td>\n",
       "    </tr>\n",
       "    <tr>\n",
       "      <th>3</th>\n",
       "      <td>-122.25</td>\n",
       "      <td>37.85</td>\n",
       "      <td>52.0</td>\n",
       "      <td>1274.0</td>\n",
       "      <td>235.0</td>\n",
       "      <td>558.0</td>\n",
       "      <td>219.0</td>\n",
       "      <td>5.6431</td>\n",
       "      <td>341300.0</td>\n",
       "    </tr>\n",
       "    <tr>\n",
       "      <th>4</th>\n",
       "      <td>-122.25</td>\n",
       "      <td>37.85</td>\n",
       "      <td>52.0</td>\n",
       "      <td>1627.0</td>\n",
       "      <td>280.0</td>\n",
       "      <td>565.0</td>\n",
       "      <td>259.0</td>\n",
       "      <td>3.8462</td>\n",
       "      <td>342200.0</td>\n",
       "    </tr>\n",
       "  </tbody>\n",
       "</table>\n",
       "</div>"
      ],
      "text/plain": [
       "   longitude  latitude  housing_median_age  total_rooms  total_bedrooms  \\\n",
       "0    -122.23     37.88                41.0        880.0           129.0   \n",
       "1    -122.22     37.86                21.0       7099.0          1106.0   \n",
       "2    -122.24     37.85                52.0       1467.0           190.0   \n",
       "3    -122.25     37.85                52.0       1274.0           235.0   \n",
       "4    -122.25     37.85                52.0       1627.0           280.0   \n",
       "\n",
       "   population  households  median_income  median_house_value  \n",
       "0       322.0       126.0         8.3252            452600.0  \n",
       "1      2401.0      1138.0         8.3014            358500.0  \n",
       "2       496.0       177.0         7.2574            352100.0  \n",
       "3       558.0       219.0         5.6431            341300.0  \n",
       "4       565.0       259.0         3.8462            342200.0  "
      ]
     },
     "execution_count": 58,
     "metadata": {},
     "output_type": "execute_result"
    }
   ],
   "source": [
    "df_num_features = df.select_dtypes(include=['float64'])\n",
    "df_num_features.head()"
   ]
  },
  {
   "cell_type": "markdown",
   "metadata": {},
   "source": [
    "С помощью .describe можно получить первичное понимание того, что из себя представляют данные"
   ]
  },
  {
   "cell_type": "code",
   "execution_count": 59,
   "metadata": {
    "colab": {},
    "colab_type": "code",
    "id": "BglQV6-wuM5A",
    "outputId": "3a632e09-c323-430e-cbcf-298b9f78737f"
   },
   "outputs": [
    {
     "data": {
      "text/html": [
       "<div>\n",
       "<style scoped>\n",
       "    .dataframe tbody tr th:only-of-type {\n",
       "        vertical-align: middle;\n",
       "    }\n",
       "\n",
       "    .dataframe tbody tr th {\n",
       "        vertical-align: top;\n",
       "    }\n",
       "\n",
       "    .dataframe thead th {\n",
       "        text-align: right;\n",
       "    }\n",
       "</style>\n",
       "<table border=\"1\" class=\"dataframe\">\n",
       "  <thead>\n",
       "    <tr style=\"text-align: right;\">\n",
       "      <th></th>\n",
       "      <th>longitude</th>\n",
       "      <th>latitude</th>\n",
       "      <th>housing_median_age</th>\n",
       "      <th>total_rooms</th>\n",
       "      <th>total_bedrooms</th>\n",
       "      <th>population</th>\n",
       "      <th>households</th>\n",
       "      <th>median_income</th>\n",
       "      <th>median_house_value</th>\n",
       "    </tr>\n",
       "  </thead>\n",
       "  <tbody>\n",
       "    <tr>\n",
       "      <th>count</th>\n",
       "      <td>20640.000000</td>\n",
       "      <td>20640.000000</td>\n",
       "      <td>19918.000000</td>\n",
       "      <td>20640.000000</td>\n",
       "      <td>20433.000000</td>\n",
       "      <td>20041.000000</td>\n",
       "      <td>20640.000000</td>\n",
       "      <td>20640.000000</td>\n",
       "      <td>20640.000000</td>\n",
       "    </tr>\n",
       "    <tr>\n",
       "      <th>mean</th>\n",
       "      <td>-119.471242</td>\n",
       "      <td>35.036934</td>\n",
       "      <td>28.653630</td>\n",
       "      <td>2635.763081</td>\n",
       "      <td>537.870553</td>\n",
       "      <td>1425.418243</td>\n",
       "      <td>499.539680</td>\n",
       "      <td>3.870671</td>\n",
       "      <td>206855.816909</td>\n",
       "    </tr>\n",
       "    <tr>\n",
       "      <th>std</th>\n",
       "      <td>5.041408</td>\n",
       "      <td>94.903955</td>\n",
       "      <td>12.576796</td>\n",
       "      <td>2181.615252</td>\n",
       "      <td>421.385070</td>\n",
       "      <td>1135.185798</td>\n",
       "      <td>382.329753</td>\n",
       "      <td>1.899822</td>\n",
       "      <td>115395.615874</td>\n",
       "    </tr>\n",
       "    <tr>\n",
       "      <th>min</th>\n",
       "      <td>-124.350000</td>\n",
       "      <td>-13534.030000</td>\n",
       "      <td>1.000000</td>\n",
       "      <td>2.000000</td>\n",
       "      <td>1.000000</td>\n",
       "      <td>3.000000</td>\n",
       "      <td>1.000000</td>\n",
       "      <td>0.499900</td>\n",
       "      <td>14999.000000</td>\n",
       "    </tr>\n",
       "    <tr>\n",
       "      <th>25%</th>\n",
       "      <td>-121.800000</td>\n",
       "      <td>33.930000</td>\n",
       "      <td>18.000000</td>\n",
       "      <td>1447.750000</td>\n",
       "      <td>296.000000</td>\n",
       "      <td>786.000000</td>\n",
       "      <td>280.000000</td>\n",
       "      <td>2.563400</td>\n",
       "      <td>119600.000000</td>\n",
       "    </tr>\n",
       "    <tr>\n",
       "      <th>50%</th>\n",
       "      <td>-118.490000</td>\n",
       "      <td>34.260000</td>\n",
       "      <td>29.000000</td>\n",
       "      <td>2127.000000</td>\n",
       "      <td>435.000000</td>\n",
       "      <td>1165.000000</td>\n",
       "      <td>409.000000</td>\n",
       "      <td>3.534800</td>\n",
       "      <td>179700.000000</td>\n",
       "    </tr>\n",
       "    <tr>\n",
       "      <th>75%</th>\n",
       "      <td>-118.010000</td>\n",
       "      <td>37.710000</td>\n",
       "      <td>37.000000</td>\n",
       "      <td>3148.000000</td>\n",
       "      <td>647.000000</td>\n",
       "      <td>1726.000000</td>\n",
       "      <td>605.000000</td>\n",
       "      <td>4.743250</td>\n",
       "      <td>264725.000000</td>\n",
       "    </tr>\n",
       "    <tr>\n",
       "      <th>max</th>\n",
       "      <td>122.030000</td>\n",
       "      <td>1327.130000</td>\n",
       "      <td>52.000000</td>\n",
       "      <td>39320.000000</td>\n",
       "      <td>6445.000000</td>\n",
       "      <td>35682.000000</td>\n",
       "      <td>6082.000000</td>\n",
       "      <td>15.000100</td>\n",
       "      <td>500001.000000</td>\n",
       "    </tr>\n",
       "  </tbody>\n",
       "</table>\n",
       "</div>"
      ],
      "text/plain": [
       "          longitude      latitude  housing_median_age   total_rooms  \\\n",
       "count  20640.000000  20640.000000        19918.000000  20640.000000   \n",
       "mean    -119.471242     35.036934           28.653630   2635.763081   \n",
       "std        5.041408     94.903955           12.576796   2181.615252   \n",
       "min     -124.350000 -13534.030000            1.000000      2.000000   \n",
       "25%     -121.800000     33.930000           18.000000   1447.750000   \n",
       "50%     -118.490000     34.260000           29.000000   2127.000000   \n",
       "75%     -118.010000     37.710000           37.000000   3148.000000   \n",
       "max      122.030000   1327.130000           52.000000  39320.000000   \n",
       "\n",
       "       total_bedrooms    population    households  median_income  \\\n",
       "count    20433.000000  20041.000000  20640.000000   20640.000000   \n",
       "mean       537.870553   1425.418243    499.539680       3.870671   \n",
       "std        421.385070   1135.185798    382.329753       1.899822   \n",
       "min          1.000000      3.000000      1.000000       0.499900   \n",
       "25%        296.000000    786.000000    280.000000       2.563400   \n",
       "50%        435.000000   1165.000000    409.000000       3.534800   \n",
       "75%        647.000000   1726.000000    605.000000       4.743250   \n",
       "max       6445.000000  35682.000000   6082.000000      15.000100   \n",
       "\n",
       "       median_house_value  \n",
       "count        20640.000000  \n",
       "mean        206855.816909  \n",
       "std         115395.615874  \n",
       "min          14999.000000  \n",
       "25%         119600.000000  \n",
       "50%         179700.000000  \n",
       "75%         264725.000000  \n",
       "max         500001.000000  "
      ]
     },
     "execution_count": 59,
     "metadata": {},
     "output_type": "execute_result"
    }
   ],
   "source": [
    "df.describe()"
   ]
  },
  {
   "cell_type": "code",
   "execution_count": 60,
   "metadata": {
    "colab": {
     "base_uri": "https://localhost:8080/",
     "height": 330
    },
    "colab_type": "code",
    "id": "PkGOEH_5LKuZ",
    "outputId": "e6867755-42eb-489a-df28-39982ff9e0f5"
   },
   "outputs": [
    {
     "name": "stdout",
     "output_type": "stream",
     "text": [
      "<class 'pandas.core.frame.DataFrame'>\n",
      "RangeIndex: 20640 entries, 0 to 20639\n",
      "Data columns (total 11 columns):\n",
      "longitude             20640 non-null float64\n",
      "latitude              20640 non-null float64\n",
      "housing_median_age    19918 non-null float64\n",
      "total_rooms           20640 non-null float64\n",
      "total_bedrooms        20433 non-null float64\n",
      "population            20041 non-null float64\n",
      "households            20640 non-null float64\n",
      "median_income         20640 non-null float64\n",
      "median_house_value    20640 non-null float64\n",
      "ocean_proximity       20640 non-null object\n",
      "id                    20640 non-null object\n",
      "dtypes: float64(9), object(2)\n",
      "memory usage: 1.7+ MB\n"
     ]
    }
   ],
   "source": [
    "df.info()"
   ]
  },
  {
   "cell_type": "markdown",
   "metadata": {
    "colab_type": "text",
    "id": "Njc8GEGNNf8O"
   },
   "source": [
    "### Статистика<a class='anchor' id='stats'>"
   ]
  },
  {
   "cell_type": "code",
   "execution_count": 61,
   "metadata": {
    "colab": {
     "base_uri": "https://localhost:8080/",
     "height": 34
    },
    "colab_type": "code",
    "id": "VRbp_0CVLd4_",
    "outputId": "58c56c6e-738d-404e-e6d5-e33a07d52929"
   },
   "outputs": [
    {
     "data": {
      "text/plain": [
       "array([1, 2, 3, 4, 5])"
      ]
     },
     "execution_count": 61,
     "metadata": {},
     "output_type": "execute_result"
    }
   ],
   "source": [
    "a = np.array([1, 2, 3, 4, 5])\n",
    "a"
   ]
  },
  {
   "cell_type": "markdown",
   "metadata": {},
   "source": [
    "**Среднее арифметическое**"
   ]
  },
  {
   "cell_type": "code",
   "execution_count": 62,
   "metadata": {
    "colab": {
     "base_uri": "https://localhost:8080/",
     "height": 34
    },
    "colab_type": "code",
    "id": "2Gcr9obnI_X8",
    "outputId": "64309e2e-5869-4f74-e07c-4ba124868c34"
   },
   "outputs": [
    {
     "data": {
      "text/plain": [
       "3.0"
      ]
     },
     "execution_count": 62,
     "metadata": {},
     "output_type": "execute_result"
    }
   ],
   "source": [
    "mean = a.sum() / len(a)\n",
    "mean"
   ]
  },
  {
   "cell_type": "markdown",
   "metadata": {},
   "source": [
    "**Дисперсия и стандартное отклонение**\n",
    "\n",
    "*Дисперсия* - это показатель вариации, который представляет собой средний квадрат отклонений от математического ожидания (среднее арифметическое). Она выражает разброс чисел относительно среднего значения.\n",
    "\n",
    "*Стандартное отклонение* (среднеквадратичное отклонение) - это величина, характеризующая разброс данных относительно среднего значения."
   ]
  },
  {
   "cell_type": "code",
   "execution_count": 63,
   "metadata": {},
   "outputs": [
    {
     "data": {
      "text/plain": [
       "array([-2., -1.,  0.,  1.,  2.])"
      ]
     },
     "execution_count": 63,
     "metadata": {},
     "output_type": "execute_result"
    }
   ],
   "source": [
    "a - mean"
   ]
  },
  {
   "cell_type": "code",
   "execution_count": 64,
   "metadata": {
    "colab": {
     "base_uri": "https://localhost:8080/",
     "height": 34
    },
    "colab_type": "code",
    "id": "ht-lBBhUJK1Y",
    "outputId": "f374ddad-993e-44bc-d13e-35fafcb1a446"
   },
   "outputs": [
    {
     "data": {
      "text/plain": [
       "(2.0, 1.4142135623730951)"
      ]
     },
     "execution_count": 64,
     "metadata": {},
     "output_type": "execute_result"
    }
   ],
   "source": [
    "variance = np.mean((a - mean) ** 2)\n",
    "std = np.sqrt(variance)\n",
    "variance, std"
   ]
  },
  {
   "cell_type": "markdown",
   "metadata": {},
   "source": [
    "Подсчет с помощью numpy"
   ]
  },
  {
   "cell_type": "code",
   "execution_count": 65,
   "metadata": {
    "colab": {
     "base_uri": "https://localhost:8080/",
     "height": 34
    },
    "colab_type": "code",
    "id": "HcQeswTaKwYm",
    "outputId": "ac2477b0-1556-4c85-b391-d88ab8cd17fa"
   },
   "outputs": [
    {
     "data": {
      "text/plain": [
       "3.0"
      ]
     },
     "execution_count": 65,
     "metadata": {},
     "output_type": "execute_result"
    }
   ],
   "source": [
    "mean_np = np.mean(a)\n",
    "mean_np"
   ]
  },
  {
   "cell_type": "code",
   "execution_count": 66,
   "metadata": {
    "colab": {
     "base_uri": "https://localhost:8080/",
     "height": 34
    },
    "colab_type": "code",
    "id": "PNhvbJOUK6-J",
    "outputId": "43fd97e3-493e-490f-ebc0-121f8f51db15"
   },
   "outputs": [
    {
     "data": {
      "text/plain": [
       "1.4142135623730951"
      ]
     },
     "execution_count": 66,
     "metadata": {},
     "output_type": "execute_result"
    }
   ],
   "source": [
    "std_np = np.std(a)\n",
    "std_np"
   ]
  },
  {
   "cell_type": "markdown",
   "metadata": {},
   "source": [
    "**Медиана**\n",
    "\n",
    "*Медиана* - значение, которая делит его на две равные части или же проще говоря, это середина отсортированной выборки."
   ]
  },
  {
   "cell_type": "code",
   "execution_count": 86,
   "metadata": {
    "colab": {
     "base_uri": "https://localhost:8080/",
     "height": 34
    },
    "colab_type": "code",
    "id": "ut4MIy8bLjj-",
    "outputId": "88195e22-6532-4b42-c804-acacf766cbba"
   },
   "outputs": [
    {
     "data": {
      "text/plain": [
       "array([1, 2, 2, 3, 4, 5, 6, 6])"
      ]
     },
     "execution_count": 86,
     "metadata": {},
     "output_type": "execute_result"
    }
   ],
   "source": [
    "a = [3, 4, 5, 6, 1, 2, 2, 6]\n",
    "a = np.sort(a)\n",
    "a"
   ]
  },
  {
   "cell_type": "code",
   "execution_count": 80,
   "metadata": {
    "colab": {
     "base_uri": "https://localhost:8080/",
     "height": 34
    },
    "colab_type": "code",
    "id": "-YvNlxlrPZmP",
    "outputId": "4c21c822-bc8c-463e-cb06-955b03adf083"
   },
   "outputs": [
    {
     "data": {
      "text/plain": [
       "8"
      ]
     },
     "execution_count": 80,
     "metadata": {},
     "output_type": "execute_result"
    }
   ],
   "source": [
    "len(a)"
   ]
  },
  {
   "cell_type": "code",
   "execution_count": 81,
   "metadata": {},
   "outputs": [
    {
     "data": {
      "text/plain": [
       "3.5"
      ]
     },
     "execution_count": 81,
     "metadata": {},
     "output_type": "execute_result"
    }
   ],
   "source": [
    "np.median(a)"
   ]
  },
  {
   "cell_type": "markdown",
   "metadata": {},
   "source": [
    "**Квантили**\n",
    "\n",
    "*Квартили* - это значения, которые делят выборку на 4 равные (по количеству объектов) части.\n",
    "Откуда следует, что вторая квартиль - это медиана."
   ]
  },
  {
   "cell_type": "code",
   "execution_count": 82,
   "metadata": {
    "colab": {
     "base_uri": "https://localhost:8080/",
     "height": 34
    },
    "colab_type": "code",
    "id": "t6TnbIf9LU3n",
    "outputId": "a525a384-40be-4ce7-d486-ad017c0778c4"
   },
   "outputs": [
    {
     "data": {
      "text/plain": [
       "3.5"
      ]
     },
     "execution_count": 82,
     "metadata": {},
     "output_type": "execute_result"
    }
   ],
   "source": [
    "np.quantile(a, 0.5)"
   ]
  },
  {
   "cell_type": "code",
   "execution_count": 83,
   "metadata": {
    "colab": {
     "base_uri": "https://localhost:8080/",
     "height": 34
    },
    "colab_type": "code",
    "id": "1y3V4wojLonj",
    "outputId": "a9629181-8790-4722-ff48-23c258288528"
   },
   "outputs": [
    {
     "data": {
      "text/plain": [
       "3.5"
      ]
     },
     "execution_count": 83,
     "metadata": {},
     "output_type": "execute_result"
    }
   ],
   "source": [
    "np.median(a)"
   ]
  },
  {
   "cell_type": "code",
   "execution_count": 84,
   "metadata": {
    "colab": {
     "base_uri": "https://localhost:8080/",
     "height": 34
    },
    "colab_type": "code",
    "id": "d7JxeJqkPRMo",
    "outputId": "f66cb0ee-51f5-4cf0-ba90-6d508f4b0aed"
   },
   "outputs": [
    {
     "data": {
      "text/plain": [
       "2.0"
      ]
     },
     "execution_count": 84,
     "metadata": {},
     "output_type": "execute_result"
    }
   ],
   "source": [
    "np.quantile(a, q=0.25)"
   ]
  },
  {
   "cell_type": "code",
   "execution_count": 85,
   "metadata": {
    "colab": {
     "base_uri": "https://localhost:8080/",
     "height": 34
    },
    "colab_type": "code",
    "id": "rAic5--OP2jm",
    "outputId": "50f57c3f-1c46-496d-cb68-5ee34c1d76de"
   },
   "outputs": [
    {
     "data": {
      "text/plain": [
       "5.25"
      ]
     },
     "execution_count": 85,
     "metadata": {},
     "output_type": "execute_result"
    }
   ],
   "source": [
    "np.quantile(a, q=0.75)"
   ]
  },
  {
   "cell_type": "markdown",
   "metadata": {},
   "source": [
    "**Мода**\n",
    "\n",
    "Мода - это объект с максимальной частотой или проще говоря, самый популярный (частовстречаемый) объект в выборке."
   ]
  },
  {
   "cell_type": "code",
   "execution_count": 87,
   "metadata": {},
   "outputs": [
    {
     "data": {
      "text/plain": [
       "array([1, 2, 2, 3, 4, 5, 6, 6])"
      ]
     },
     "execution_count": 87,
     "metadata": {},
     "output_type": "execute_result"
    }
   ],
   "source": [
    "a"
   ]
  },
  {
   "cell_type": "code",
   "execution_count": 88,
   "metadata": {},
   "outputs": [
    {
     "data": {
      "text/plain": [
       "ModeResult(mode=array([2]), count=array([2]))"
      ]
     },
     "execution_count": 88,
     "metadata": {},
     "output_type": "execute_result"
    }
   ],
   "source": [
    "mode(a)"
   ]
  },
  {
   "cell_type": "markdown",
   "metadata": {},
   "source": [
    "Применим статистику к нашим данным"
   ]
  },
  {
   "cell_type": "code",
   "execution_count": 89,
   "metadata": {
    "colab": {
     "base_uri": "https://localhost:8080/",
     "height": 34
    },
    "colab_type": "code",
    "id": "0RCwGGxBQDkw",
    "outputId": "c4bdef7e-2181-42a2-b4e8-e7b67c1d722f"
   },
   "outputs": [
    {
     "data": {
      "text/plain": [
       "2127.0"
      ]
     },
     "execution_count": 89,
     "metadata": {},
     "output_type": "execute_result"
    }
   ],
   "source": [
    "np.quantile(df['total_rooms'], q=0.5)"
   ]
  },
  {
   "cell_type": "code",
   "execution_count": 90,
   "metadata": {},
   "outputs": [
    {
     "data": {
      "text/plain": [
       "2127.0"
      ]
     },
     "execution_count": 90,
     "metadata": {},
     "output_type": "execute_result"
    }
   ],
   "source": [
    "df['total_rooms'].median()"
   ]
  },
  {
   "cell_type": "code",
   "execution_count": 97,
   "metadata": {},
   "outputs": [
    {
     "data": {
      "text/plain": [
       "81.39000000000001"
      ]
     },
     "execution_count": 97,
     "metadata": {},
     "output_type": "execute_result"
    }
   ],
   "source": [
    "np.quantile(df['total_rooms'], q=0.005)"
   ]
  },
  {
   "cell_type": "code",
   "execution_count": 92,
   "metadata": {},
   "outputs": [
    {
     "data": {
      "text/plain": [
       "count    20640.000000\n",
       "mean      2635.763081\n",
       "std       2181.615252\n",
       "min          2.000000\n",
       "25%       1447.750000\n",
       "50%       2127.000000\n",
       "75%       3148.000000\n",
       "max      39320.000000\n",
       "Name: total_rooms, dtype: float64"
      ]
     },
     "execution_count": 92,
     "metadata": {},
     "output_type": "execute_result"
    }
   ],
   "source": [
    "df['total_rooms'].describe()"
   ]
  },
  {
   "cell_type": "code",
   "execution_count": 93,
   "metadata": {},
   "outputs": [
    {
     "data": {
      "text/plain": [
       "0    1527.0\n",
       "dtype: float64"
      ]
     },
     "execution_count": 93,
     "metadata": {},
     "output_type": "execute_result"
    }
   ],
   "source": [
    "df['total_rooms'].mode()"
   ]
  },
  {
   "cell_type": "code",
   "execution_count": 94,
   "metadata": {},
   "outputs": [
    {
     "data": {
      "text/plain": [
       "1527.0    18\n",
       "1613.0    17\n",
       "1582.0    17\n",
       "2127.0    16\n",
       "1703.0    15\n",
       "          ..\n",
       "7784.0     1\n",
       "7916.0     1\n",
       "6859.0     1\n",
       "6846.0     1\n",
       "5639.0     1\n",
       "Name: total_rooms, Length: 5926, dtype: int64"
      ]
     },
     "execution_count": 94,
     "metadata": {},
     "output_type": "execute_result"
    }
   ],
   "source": [
    "df['total_rooms'].value_counts()"
   ]
  },
  {
   "cell_type": "code",
   "execution_count": 96,
   "metadata": {},
   "outputs": [
    {
     "data": {
      "text/plain": [
       "(18, 11)"
      ]
     },
     "execution_count": 96,
     "metadata": {},
     "output_type": "execute_result"
    }
   ],
   "source": [
    "df[df['total_rooms'] == 1527].shape"
   ]
  },
  {
   "cell_type": "markdown",
   "metadata": {
    "colab_type": "text",
    "id": "FAVcxq8GuM5E"
   },
   "source": [
    "### Обзор номинативных переменных<a class='anchor' id='cats'>\n",
    "    \n",
    "*Номинативная (категориальная) переменная* - тип дискретной переменной, качественная (неколичественная) переменная величина"
   ]
  },
  {
   "cell_type": "code",
   "execution_count": 98,
   "metadata": {
    "colab": {},
    "colab_type": "code",
    "id": "aFTTOVW7uM5F",
    "outputId": "a04302d0-4728-4019-98fe-394db997aa27"
   },
   "outputs": [
    {
     "data": {
      "text/html": [
       "<div>\n",
       "<style scoped>\n",
       "    .dataframe tbody tr th:only-of-type {\n",
       "        vertical-align: middle;\n",
       "    }\n",
       "\n",
       "    .dataframe tbody tr th {\n",
       "        vertical-align: top;\n",
       "    }\n",
       "\n",
       "    .dataframe thead th {\n",
       "        text-align: right;\n",
       "    }\n",
       "</style>\n",
       "<table border=\"1\" class=\"dataframe\">\n",
       "  <thead>\n",
       "    <tr style=\"text-align: right;\">\n",
       "      <th></th>\n",
       "      <th>ocean_proximity</th>\n",
       "      <th>id</th>\n",
       "    </tr>\n",
       "  </thead>\n",
       "  <tbody>\n",
       "    <tr>\n",
       "      <th>0</th>\n",
       "      <td>NEAR BAY</td>\n",
       "      <td>0</td>\n",
       "    </tr>\n",
       "    <tr>\n",
       "      <th>1</th>\n",
       "      <td>NEAR BAY</td>\n",
       "      <td>1</td>\n",
       "    </tr>\n",
       "    <tr>\n",
       "      <th>2</th>\n",
       "      <td>NEAR BAY</td>\n",
       "      <td>2</td>\n",
       "    </tr>\n",
       "    <tr>\n",
       "      <th>3</th>\n",
       "      <td>NEAR BAY</td>\n",
       "      <td>3</td>\n",
       "    </tr>\n",
       "    <tr>\n",
       "      <th>4</th>\n",
       "      <td>NEAR BAY</td>\n",
       "      <td>4</td>\n",
       "    </tr>\n",
       "  </tbody>\n",
       "</table>\n",
       "</div>"
      ],
      "text/plain": [
       "  ocean_proximity id\n",
       "0        NEAR BAY  0\n",
       "1        NEAR BAY  1\n",
       "2        NEAR BAY  2\n",
       "3        NEAR BAY  3\n",
       "4        NEAR BAY  4"
      ]
     },
     "execution_count": 98,
     "metadata": {},
     "output_type": "execute_result"
    }
   ],
   "source": [
    "df_obj_features = df.select_dtypes(include='object')\n",
    "df_obj_features.head()"
   ]
  },
  {
   "cell_type": "code",
   "execution_count": 99,
   "metadata": {
    "colab": {},
    "colab_type": "code",
    "id": "jJQlUVFXuM5K",
    "outputId": "7dfd65f3-8085-4b31-eb53-35579c2358cb"
   },
   "outputs": [
    {
     "data": {
      "text/plain": [
       "<1H OCEAN     9127\n",
       "INLAND        6542\n",
       "NEAR OCEAN    2655\n",
       "NEAR BAY      2288\n",
       "-               23\n",
       "ISLAND           5\n",
       "Name: ocean_proximity, dtype: int64"
      ]
     },
     "execution_count": 99,
     "metadata": {},
     "output_type": "execute_result"
    }
   ],
   "source": [
    "df['ocean_proximity'].value_counts()"
   ]
  },
  {
   "cell_type": "code",
   "execution_count": 100,
   "metadata": {
    "colab": {
     "base_uri": "https://localhost:8080/",
     "height": 52
    },
    "colab_type": "code",
    "id": "cxdAJuWkQcfj",
    "outputId": "706dd66e-481a-458d-c40e-75ff19775a0a"
   },
   "outputs": [
    {
     "data": {
      "text/plain": [
       "array(['NEAR BAY', '<1H OCEAN', 'INLAND', '-', 'NEAR OCEAN', 'ISLAND'],\n",
       "      dtype=object)"
      ]
     },
     "execution_count": 100,
     "metadata": {},
     "output_type": "execute_result"
    }
   ],
   "source": [
    "df['ocean_proximity'].unique()"
   ]
  },
  {
   "cell_type": "code",
   "execution_count": 101,
   "metadata": {
    "colab": {
     "base_uri": "https://localhost:8080/",
     "height": 34
    },
    "colab_type": "code",
    "id": "fU_h-c2IQe1l",
    "outputId": "2e91a87a-8fcb-4586-c53d-35ad81074faa"
   },
   "outputs": [
    {
     "data": {
      "text/plain": [
       "6"
      ]
     },
     "execution_count": 101,
     "metadata": {},
     "output_type": "execute_result"
    }
   ],
   "source": [
    "df['ocean_proximity'].nunique()"
   ]
  },
  {
   "cell_type": "markdown",
   "metadata": {
    "colab_type": "text",
    "id": "oB8bJixsuM5O"
   },
   "source": [
    "### 3. Обработка пропусков<a class='anchor' id='nan'>"
   ]
  },
  {
   "cell_type": "markdown",
   "metadata": {},
   "source": [
    "Что можно делать с ними?\n",
    "1. Выкинуть эти данные\n",
    "2. Заменять пропуски разными методами (медианы, средние значения и т.д.)\n",
    "3. Делать/не делать дополнительную фичу\n",
    "4. Ничего не делать"
   ]
  },
  {
   "cell_type": "code",
   "execution_count": 102,
   "metadata": {
    "colab": {
     "base_uri": "https://localhost:8080/",
     "height": 424
    },
    "colab_type": "code",
    "id": "H6B8B0CwQnka",
    "outputId": "d93b1ec8-a5d7-434e-d553-3c066b820a0f"
   },
   "outputs": [
    {
     "data": {
      "text/html": [
       "<div>\n",
       "<style scoped>\n",
       "    .dataframe tbody tr th:only-of-type {\n",
       "        vertical-align: middle;\n",
       "    }\n",
       "\n",
       "    .dataframe tbody tr th {\n",
       "        vertical-align: top;\n",
       "    }\n",
       "\n",
       "    .dataframe thead th {\n",
       "        text-align: right;\n",
       "    }\n",
       "</style>\n",
       "<table border=\"1\" class=\"dataframe\">\n",
       "  <thead>\n",
       "    <tr style=\"text-align: right;\">\n",
       "      <th></th>\n",
       "      <th>longitude</th>\n",
       "      <th>latitude</th>\n",
       "      <th>housing_median_age</th>\n",
       "      <th>total_rooms</th>\n",
       "      <th>total_bedrooms</th>\n",
       "      <th>population</th>\n",
       "      <th>households</th>\n",
       "      <th>median_income</th>\n",
       "      <th>median_house_value</th>\n",
       "      <th>ocean_proximity</th>\n",
       "      <th>id</th>\n",
       "    </tr>\n",
       "  </thead>\n",
       "  <tbody>\n",
       "    <tr>\n",
       "      <th>0</th>\n",
       "      <td>False</td>\n",
       "      <td>False</td>\n",
       "      <td>False</td>\n",
       "      <td>False</td>\n",
       "      <td>False</td>\n",
       "      <td>False</td>\n",
       "      <td>False</td>\n",
       "      <td>False</td>\n",
       "      <td>False</td>\n",
       "      <td>False</td>\n",
       "      <td>False</td>\n",
       "    </tr>\n",
       "    <tr>\n",
       "      <th>1</th>\n",
       "      <td>False</td>\n",
       "      <td>False</td>\n",
       "      <td>False</td>\n",
       "      <td>False</td>\n",
       "      <td>False</td>\n",
       "      <td>False</td>\n",
       "      <td>False</td>\n",
       "      <td>False</td>\n",
       "      <td>False</td>\n",
       "      <td>False</td>\n",
       "      <td>False</td>\n",
       "    </tr>\n",
       "    <tr>\n",
       "      <th>2</th>\n",
       "      <td>False</td>\n",
       "      <td>False</td>\n",
       "      <td>False</td>\n",
       "      <td>False</td>\n",
       "      <td>False</td>\n",
       "      <td>False</td>\n",
       "      <td>False</td>\n",
       "      <td>False</td>\n",
       "      <td>False</td>\n",
       "      <td>False</td>\n",
       "      <td>False</td>\n",
       "    </tr>\n",
       "    <tr>\n",
       "      <th>3</th>\n",
       "      <td>False</td>\n",
       "      <td>False</td>\n",
       "      <td>False</td>\n",
       "      <td>False</td>\n",
       "      <td>False</td>\n",
       "      <td>False</td>\n",
       "      <td>False</td>\n",
       "      <td>False</td>\n",
       "      <td>False</td>\n",
       "      <td>False</td>\n",
       "      <td>False</td>\n",
       "    </tr>\n",
       "    <tr>\n",
       "      <th>4</th>\n",
       "      <td>False</td>\n",
       "      <td>False</td>\n",
       "      <td>False</td>\n",
       "      <td>False</td>\n",
       "      <td>False</td>\n",
       "      <td>False</td>\n",
       "      <td>False</td>\n",
       "      <td>False</td>\n",
       "      <td>False</td>\n",
       "      <td>False</td>\n",
       "      <td>False</td>\n",
       "    </tr>\n",
       "    <tr>\n",
       "      <th>...</th>\n",
       "      <td>...</td>\n",
       "      <td>...</td>\n",
       "      <td>...</td>\n",
       "      <td>...</td>\n",
       "      <td>...</td>\n",
       "      <td>...</td>\n",
       "      <td>...</td>\n",
       "      <td>...</td>\n",
       "      <td>...</td>\n",
       "      <td>...</td>\n",
       "      <td>...</td>\n",
       "    </tr>\n",
       "    <tr>\n",
       "      <th>20635</th>\n",
       "      <td>False</td>\n",
       "      <td>False</td>\n",
       "      <td>False</td>\n",
       "      <td>False</td>\n",
       "      <td>False</td>\n",
       "      <td>False</td>\n",
       "      <td>False</td>\n",
       "      <td>False</td>\n",
       "      <td>False</td>\n",
       "      <td>False</td>\n",
       "      <td>False</td>\n",
       "    </tr>\n",
       "    <tr>\n",
       "      <th>20636</th>\n",
       "      <td>False</td>\n",
       "      <td>False</td>\n",
       "      <td>False</td>\n",
       "      <td>False</td>\n",
       "      <td>False</td>\n",
       "      <td>False</td>\n",
       "      <td>False</td>\n",
       "      <td>False</td>\n",
       "      <td>False</td>\n",
       "      <td>False</td>\n",
       "      <td>False</td>\n",
       "    </tr>\n",
       "    <tr>\n",
       "      <th>20637</th>\n",
       "      <td>False</td>\n",
       "      <td>False</td>\n",
       "      <td>False</td>\n",
       "      <td>False</td>\n",
       "      <td>False</td>\n",
       "      <td>True</td>\n",
       "      <td>False</td>\n",
       "      <td>False</td>\n",
       "      <td>False</td>\n",
       "      <td>False</td>\n",
       "      <td>False</td>\n",
       "    </tr>\n",
       "    <tr>\n",
       "      <th>20638</th>\n",
       "      <td>False</td>\n",
       "      <td>False</td>\n",
       "      <td>False</td>\n",
       "      <td>False</td>\n",
       "      <td>False</td>\n",
       "      <td>False</td>\n",
       "      <td>False</td>\n",
       "      <td>False</td>\n",
       "      <td>False</td>\n",
       "      <td>False</td>\n",
       "      <td>False</td>\n",
       "    </tr>\n",
       "    <tr>\n",
       "      <th>20639</th>\n",
       "      <td>False</td>\n",
       "      <td>False</td>\n",
       "      <td>False</td>\n",
       "      <td>False</td>\n",
       "      <td>False</td>\n",
       "      <td>False</td>\n",
       "      <td>False</td>\n",
       "      <td>False</td>\n",
       "      <td>False</td>\n",
       "      <td>False</td>\n",
       "      <td>False</td>\n",
       "    </tr>\n",
       "  </tbody>\n",
       "</table>\n",
       "<p>20640 rows × 11 columns</p>\n",
       "</div>"
      ],
      "text/plain": [
       "       longitude  latitude  housing_median_age  total_rooms  total_bedrooms  \\\n",
       "0          False     False               False        False           False   \n",
       "1          False     False               False        False           False   \n",
       "2          False     False               False        False           False   \n",
       "3          False     False               False        False           False   \n",
       "4          False     False               False        False           False   \n",
       "...          ...       ...                 ...          ...             ...   \n",
       "20635      False     False               False        False           False   \n",
       "20636      False     False               False        False           False   \n",
       "20637      False     False               False        False           False   \n",
       "20638      False     False               False        False           False   \n",
       "20639      False     False               False        False           False   \n",
       "\n",
       "       population  households  median_income  median_house_value  \\\n",
       "0           False       False          False               False   \n",
       "1           False       False          False               False   \n",
       "2           False       False          False               False   \n",
       "3           False       False          False               False   \n",
       "4           False       False          False               False   \n",
       "...           ...         ...            ...                 ...   \n",
       "20635       False       False          False               False   \n",
       "20636       False       False          False               False   \n",
       "20637        True       False          False               False   \n",
       "20638       False       False          False               False   \n",
       "20639       False       False          False               False   \n",
       "\n",
       "       ocean_proximity     id  \n",
       "0                False  False  \n",
       "1                False  False  \n",
       "2                False  False  \n",
       "3                False  False  \n",
       "4                False  False  \n",
       "...                ...    ...  \n",
       "20635            False  False  \n",
       "20636            False  False  \n",
       "20637            False  False  \n",
       "20638            False  False  \n",
       "20639            False  False  \n",
       "\n",
       "[20640 rows x 11 columns]"
      ]
     },
     "execution_count": 102,
     "metadata": {},
     "output_type": "execute_result"
    }
   ],
   "source": [
    "df.isna()"
   ]
  },
  {
   "cell_type": "code",
   "execution_count": 104,
   "metadata": {
    "colab": {
     "base_uri": "https://localhost:8080/",
     "height": 225
    },
    "colab_type": "code",
    "id": "VN3QKWTXQsYy",
    "outputId": "8f7fdf2f-db56-49cc-8639-ce3839b4e0bf"
   },
   "outputs": [
    {
     "data": {
      "text/plain": [
       "longitude               0\n",
       "latitude                0\n",
       "housing_median_age    722\n",
       "total_rooms             0\n",
       "total_bedrooms        207\n",
       "population            599\n",
       "households              0\n",
       "median_income           0\n",
       "median_house_value      0\n",
       "ocean_proximity         0\n",
       "id                      0\n",
       "dtype: int64"
      ]
     },
     "execution_count": 104,
     "metadata": {},
     "output_type": "execute_result"
    }
   ],
   "source": [
    "df.isna().sum()"
   ]
  },
  {
   "cell_type": "markdown",
   "metadata": {
    "colab_type": "text",
    "id": "abglWkAHuM5T"
   },
   "source": [
    "**housing_median_age**\n",
    "\n",
    "Создадим вспомогательный признак и заполним его 0, если пропуска в housing_median_age нет и 1, когда пропуски есть "
   ]
  },
  {
   "cell_type": "code",
   "execution_count": 105,
   "metadata": {},
   "outputs": [
    {
     "data": {
      "text/html": [
       "<div>\n",
       "<style scoped>\n",
       "    .dataframe tbody tr th:only-of-type {\n",
       "        vertical-align: middle;\n",
       "    }\n",
       "\n",
       "    .dataframe tbody tr th {\n",
       "        vertical-align: top;\n",
       "    }\n",
       "\n",
       "    .dataframe thead th {\n",
       "        text-align: right;\n",
       "    }\n",
       "</style>\n",
       "<table border=\"1\" class=\"dataframe\">\n",
       "  <thead>\n",
       "    <tr style=\"text-align: right;\">\n",
       "      <th></th>\n",
       "      <th>longitude</th>\n",
       "      <th>latitude</th>\n",
       "      <th>housing_median_age</th>\n",
       "      <th>total_rooms</th>\n",
       "      <th>total_bedrooms</th>\n",
       "      <th>population</th>\n",
       "      <th>households</th>\n",
       "      <th>median_income</th>\n",
       "      <th>median_house_value</th>\n",
       "      <th>ocean_proximity</th>\n",
       "      <th>id</th>\n",
       "      <th>housing_median_age_nan</th>\n",
       "    </tr>\n",
       "  </thead>\n",
       "  <tbody>\n",
       "    <tr>\n",
       "      <th>0</th>\n",
       "      <td>-122.23</td>\n",
       "      <td>37.88</td>\n",
       "      <td>41.0</td>\n",
       "      <td>880.0</td>\n",
       "      <td>129.0</td>\n",
       "      <td>322.0</td>\n",
       "      <td>126.0</td>\n",
       "      <td>8.3252</td>\n",
       "      <td>452600.0</td>\n",
       "      <td>NEAR BAY</td>\n",
       "      <td>0</td>\n",
       "      <td>0</td>\n",
       "    </tr>\n",
       "    <tr>\n",
       "      <th>1</th>\n",
       "      <td>-122.22</td>\n",
       "      <td>37.86</td>\n",
       "      <td>21.0</td>\n",
       "      <td>7099.0</td>\n",
       "      <td>1106.0</td>\n",
       "      <td>2401.0</td>\n",
       "      <td>1138.0</td>\n",
       "      <td>8.3014</td>\n",
       "      <td>358500.0</td>\n",
       "      <td>NEAR BAY</td>\n",
       "      <td>1</td>\n",
       "      <td>0</td>\n",
       "    </tr>\n",
       "    <tr>\n",
       "      <th>2</th>\n",
       "      <td>-122.24</td>\n",
       "      <td>37.85</td>\n",
       "      <td>52.0</td>\n",
       "      <td>1467.0</td>\n",
       "      <td>190.0</td>\n",
       "      <td>496.0</td>\n",
       "      <td>177.0</td>\n",
       "      <td>7.2574</td>\n",
       "      <td>352100.0</td>\n",
       "      <td>NEAR BAY</td>\n",
       "      <td>2</td>\n",
       "      <td>0</td>\n",
       "    </tr>\n",
       "    <tr>\n",
       "      <th>3</th>\n",
       "      <td>-122.25</td>\n",
       "      <td>37.85</td>\n",
       "      <td>52.0</td>\n",
       "      <td>1274.0</td>\n",
       "      <td>235.0</td>\n",
       "      <td>558.0</td>\n",
       "      <td>219.0</td>\n",
       "      <td>5.6431</td>\n",
       "      <td>341300.0</td>\n",
       "      <td>NEAR BAY</td>\n",
       "      <td>3</td>\n",
       "      <td>0</td>\n",
       "    </tr>\n",
       "    <tr>\n",
       "      <th>4</th>\n",
       "      <td>-122.25</td>\n",
       "      <td>37.85</td>\n",
       "      <td>52.0</td>\n",
       "      <td>1627.0</td>\n",
       "      <td>280.0</td>\n",
       "      <td>565.0</td>\n",
       "      <td>259.0</td>\n",
       "      <td>3.8462</td>\n",
       "      <td>342200.0</td>\n",
       "      <td>NEAR BAY</td>\n",
       "      <td>4</td>\n",
       "      <td>0</td>\n",
       "    </tr>\n",
       "    <tr>\n",
       "      <th>...</th>\n",
       "      <td>...</td>\n",
       "      <td>...</td>\n",
       "      <td>...</td>\n",
       "      <td>...</td>\n",
       "      <td>...</td>\n",
       "      <td>...</td>\n",
       "      <td>...</td>\n",
       "      <td>...</td>\n",
       "      <td>...</td>\n",
       "      <td>...</td>\n",
       "      <td>...</td>\n",
       "      <td>...</td>\n",
       "    </tr>\n",
       "    <tr>\n",
       "      <th>20635</th>\n",
       "      <td>-121.09</td>\n",
       "      <td>39.48</td>\n",
       "      <td>25.0</td>\n",
       "      <td>1665.0</td>\n",
       "      <td>374.0</td>\n",
       "      <td>845.0</td>\n",
       "      <td>330.0</td>\n",
       "      <td>1.5603</td>\n",
       "      <td>78100.0</td>\n",
       "      <td>INLAND</td>\n",
       "      <td>20635</td>\n",
       "      <td>0</td>\n",
       "    </tr>\n",
       "    <tr>\n",
       "      <th>20636</th>\n",
       "      <td>-121.21</td>\n",
       "      <td>39.49</td>\n",
       "      <td>18.0</td>\n",
       "      <td>697.0</td>\n",
       "      <td>150.0</td>\n",
       "      <td>356.0</td>\n",
       "      <td>114.0</td>\n",
       "      <td>2.5568</td>\n",
       "      <td>77100.0</td>\n",
       "      <td>INLAND</td>\n",
       "      <td>20636</td>\n",
       "      <td>0</td>\n",
       "    </tr>\n",
       "    <tr>\n",
       "      <th>20637</th>\n",
       "      <td>-121.22</td>\n",
       "      <td>39.43</td>\n",
       "      <td>17.0</td>\n",
       "      <td>2254.0</td>\n",
       "      <td>485.0</td>\n",
       "      <td>NaN</td>\n",
       "      <td>433.0</td>\n",
       "      <td>1.7000</td>\n",
       "      <td>92300.0</td>\n",
       "      <td>INLAND</td>\n",
       "      <td>20637</td>\n",
       "      <td>0</td>\n",
       "    </tr>\n",
       "    <tr>\n",
       "      <th>20638</th>\n",
       "      <td>-121.32</td>\n",
       "      <td>39.43</td>\n",
       "      <td>18.0</td>\n",
       "      <td>1860.0</td>\n",
       "      <td>409.0</td>\n",
       "      <td>741.0</td>\n",
       "      <td>349.0</td>\n",
       "      <td>1.8672</td>\n",
       "      <td>84700.0</td>\n",
       "      <td>INLAND</td>\n",
       "      <td>20638</td>\n",
       "      <td>0</td>\n",
       "    </tr>\n",
       "    <tr>\n",
       "      <th>20639</th>\n",
       "      <td>-121.24</td>\n",
       "      <td>39.37</td>\n",
       "      <td>16.0</td>\n",
       "      <td>2785.0</td>\n",
       "      <td>616.0</td>\n",
       "      <td>1387.0</td>\n",
       "      <td>530.0</td>\n",
       "      <td>2.3886</td>\n",
       "      <td>89400.0</td>\n",
       "      <td>INLAND</td>\n",
       "      <td>20639</td>\n",
       "      <td>0</td>\n",
       "    </tr>\n",
       "  </tbody>\n",
       "</table>\n",
       "<p>20640 rows × 12 columns</p>\n",
       "</div>"
      ],
      "text/plain": [
       "       longitude  latitude  housing_median_age  total_rooms  total_bedrooms  \\\n",
       "0        -122.23     37.88                41.0        880.0           129.0   \n",
       "1        -122.22     37.86                21.0       7099.0          1106.0   \n",
       "2        -122.24     37.85                52.0       1467.0           190.0   \n",
       "3        -122.25     37.85                52.0       1274.0           235.0   \n",
       "4        -122.25     37.85                52.0       1627.0           280.0   \n",
       "...          ...       ...                 ...          ...             ...   \n",
       "20635    -121.09     39.48                25.0       1665.0           374.0   \n",
       "20636    -121.21     39.49                18.0        697.0           150.0   \n",
       "20637    -121.22     39.43                17.0       2254.0           485.0   \n",
       "20638    -121.32     39.43                18.0       1860.0           409.0   \n",
       "20639    -121.24     39.37                16.0       2785.0           616.0   \n",
       "\n",
       "       population  households  median_income  median_house_value  \\\n",
       "0           322.0       126.0         8.3252            452600.0   \n",
       "1          2401.0      1138.0         8.3014            358500.0   \n",
       "2           496.0       177.0         7.2574            352100.0   \n",
       "3           558.0       219.0         5.6431            341300.0   \n",
       "4           565.0       259.0         3.8462            342200.0   \n",
       "...           ...         ...            ...                 ...   \n",
       "20635       845.0       330.0         1.5603             78100.0   \n",
       "20636       356.0       114.0         2.5568             77100.0   \n",
       "20637         NaN       433.0         1.7000             92300.0   \n",
       "20638       741.0       349.0         1.8672             84700.0   \n",
       "20639      1387.0       530.0         2.3886             89400.0   \n",
       "\n",
       "      ocean_proximity     id  housing_median_age_nan  \n",
       "0            NEAR BAY      0                       0  \n",
       "1            NEAR BAY      1                       0  \n",
       "2            NEAR BAY      2                       0  \n",
       "3            NEAR BAY      3                       0  \n",
       "4            NEAR BAY      4                       0  \n",
       "...               ...    ...                     ...  \n",
       "20635          INLAND  20635                       0  \n",
       "20636          INLAND  20636                       0  \n",
       "20637          INLAND  20637                       0  \n",
       "20638          INLAND  20638                       0  \n",
       "20639          INLAND  20639                       0  \n",
       "\n",
       "[20640 rows x 12 columns]"
      ]
     },
     "execution_count": 105,
     "metadata": {},
     "output_type": "execute_result"
    }
   ],
   "source": [
    "df['housing_median_age_nan'] = 0\n",
    "df"
   ]
  },
  {
   "cell_type": "code",
   "execution_count": 107,
   "metadata": {},
   "outputs": [
    {
     "data": {
      "text/plain": [
       "25       0\n",
       "117      0\n",
       "138      0\n",
       "170      0\n",
       "299      0\n",
       "        ..\n",
       "20531    0\n",
       "20536    0\n",
       "20600    0\n",
       "20601    0\n",
       "20604    0\n",
       "Name: housing_median_age_nan, Length: 722, dtype: int64"
      ]
     },
     "execution_count": 107,
     "metadata": {},
     "output_type": "execute_result"
    }
   ],
   "source": [
    "df.loc[df['housing_median_age'].isna(), 'housing_median_age_nan']"
   ]
  },
  {
   "cell_type": "code",
   "execution_count": 108,
   "metadata": {},
   "outputs": [],
   "source": [
    "df.loc[df['housing_median_age'].isna(), 'housing_median_age_nan'] = 1"
   ]
  },
  {
   "cell_type": "code",
   "execution_count": 109,
   "metadata": {},
   "outputs": [
    {
     "data": {
      "text/html": [
       "<div>\n",
       "<style scoped>\n",
       "    .dataframe tbody tr th:only-of-type {\n",
       "        vertical-align: middle;\n",
       "    }\n",
       "\n",
       "    .dataframe tbody tr th {\n",
       "        vertical-align: top;\n",
       "    }\n",
       "\n",
       "    .dataframe thead th {\n",
       "        text-align: right;\n",
       "    }\n",
       "</style>\n",
       "<table border=\"1\" class=\"dataframe\">\n",
       "  <thead>\n",
       "    <tr style=\"text-align: right;\">\n",
       "      <th></th>\n",
       "      <th>longitude</th>\n",
       "      <th>latitude</th>\n",
       "      <th>housing_median_age</th>\n",
       "      <th>total_rooms</th>\n",
       "      <th>total_bedrooms</th>\n",
       "      <th>population</th>\n",
       "      <th>households</th>\n",
       "      <th>median_income</th>\n",
       "      <th>median_house_value</th>\n",
       "      <th>ocean_proximity</th>\n",
       "      <th>id</th>\n",
       "      <th>housing_median_age_nan</th>\n",
       "    </tr>\n",
       "  </thead>\n",
       "  <tbody>\n",
       "    <tr>\n",
       "      <th>25</th>\n",
       "      <td>-122.28</td>\n",
       "      <td>37.85</td>\n",
       "      <td>NaN</td>\n",
       "      <td>535.0</td>\n",
       "      <td>123.0</td>\n",
       "      <td>317.0</td>\n",
       "      <td>119.0</td>\n",
       "      <td>2.4038</td>\n",
       "      <td>107500.0</td>\n",
       "      <td>NEAR BAY</td>\n",
       "      <td>25</td>\n",
       "      <td>1</td>\n",
       "    </tr>\n",
       "    <tr>\n",
       "      <th>117</th>\n",
       "      <td>-122.25</td>\n",
       "      <td>37.83</td>\n",
       "      <td>NaN</td>\n",
       "      <td>4190.0</td>\n",
       "      <td>1105.0</td>\n",
       "      <td>1786.0</td>\n",
       "      <td>1037.0</td>\n",
       "      <td>3.0897</td>\n",
       "      <td>234100.0</td>\n",
       "      <td>NEAR BAY</td>\n",
       "      <td>117</td>\n",
       "      <td>1</td>\n",
       "    </tr>\n",
       "    <tr>\n",
       "      <th>138</th>\n",
       "      <td>-122.20</td>\n",
       "      <td>37.82</td>\n",
       "      <td>NaN</td>\n",
       "      <td>1229.0</td>\n",
       "      <td>181.0</td>\n",
       "      <td>420.0</td>\n",
       "      <td>176.0</td>\n",
       "      <td>7.0175</td>\n",
       "      <td>366700.0</td>\n",
       "      <td>NEAR BAY</td>\n",
       "      <td>138</td>\n",
       "      <td>1</td>\n",
       "    </tr>\n",
       "    <tr>\n",
       "      <th>170</th>\n",
       "      <td>-122.25</td>\n",
       "      <td>37.79</td>\n",
       "      <td>NaN</td>\n",
       "      <td>629.0</td>\n",
       "      <td>188.0</td>\n",
       "      <td>742.0</td>\n",
       "      <td>196.0</td>\n",
       "      <td>2.6458</td>\n",
       "      <td>125000.0</td>\n",
       "      <td>NEAR BAY</td>\n",
       "      <td>170</td>\n",
       "      <td>1</td>\n",
       "    </tr>\n",
       "    <tr>\n",
       "      <th>299</th>\n",
       "      <td>-122.17</td>\n",
       "      <td>37.76</td>\n",
       "      <td>NaN</td>\n",
       "      <td>1764.0</td>\n",
       "      <td>397.0</td>\n",
       "      <td>987.0</td>\n",
       "      <td>354.0</td>\n",
       "      <td>2.4333</td>\n",
       "      <td>98200.0</td>\n",
       "      <td>NEAR BAY</td>\n",
       "      <td>299</td>\n",
       "      <td>1</td>\n",
       "    </tr>\n",
       "    <tr>\n",
       "      <th>...</th>\n",
       "      <td>...</td>\n",
       "      <td>...</td>\n",
       "      <td>...</td>\n",
       "      <td>...</td>\n",
       "      <td>...</td>\n",
       "      <td>...</td>\n",
       "      <td>...</td>\n",
       "      <td>...</td>\n",
       "      <td>...</td>\n",
       "      <td>...</td>\n",
       "      <td>...</td>\n",
       "      <td>...</td>\n",
       "    </tr>\n",
       "    <tr>\n",
       "      <th>20531</th>\n",
       "      <td>-121.81</td>\n",
       "      <td>38.58</td>\n",
       "      <td>NaN</td>\n",
       "      <td>1964.0</td>\n",
       "      <td>314.0</td>\n",
       "      <td>808.0</td>\n",
       "      <td>286.0</td>\n",
       "      <td>5.9629</td>\n",
       "      <td>286000.0</td>\n",
       "      <td>INLAND</td>\n",
       "      <td>20531</td>\n",
       "      <td>1</td>\n",
       "    </tr>\n",
       "    <tr>\n",
       "      <th>20536</th>\n",
       "      <td>-121.73</td>\n",
       "      <td>38.55</td>\n",
       "      <td>NaN</td>\n",
       "      <td>1717.0</td>\n",
       "      <td>393.0</td>\n",
       "      <td>1224.0</td>\n",
       "      <td>387.0</td>\n",
       "      <td>2.7917</td>\n",
       "      <td>130800.0</td>\n",
       "      <td>INLAND</td>\n",
       "      <td>20536</td>\n",
       "      <td>1</td>\n",
       "    </tr>\n",
       "    <tr>\n",
       "      <th>20600</th>\n",
       "      <td>-121.57</td>\n",
       "      <td>39.16</td>\n",
       "      <td>NaN</td>\n",
       "      <td>1632.0</td>\n",
       "      <td>367.0</td>\n",
       "      <td>769.0</td>\n",
       "      <td>330.0</td>\n",
       "      <td>3.1029</td>\n",
       "      <td>71700.0</td>\n",
       "      <td>INLAND</td>\n",
       "      <td>20600</td>\n",
       "      <td>1</td>\n",
       "    </tr>\n",
       "    <tr>\n",
       "      <th>20601</th>\n",
       "      <td>-121.57</td>\n",
       "      <td>39.13</td>\n",
       "      <td>NaN</td>\n",
       "      <td>442.0</td>\n",
       "      <td>103.0</td>\n",
       "      <td>413.0</td>\n",
       "      <td>88.0</td>\n",
       "      <td>1.5694</td>\n",
       "      <td>57900.0</td>\n",
       "      <td>INLAND</td>\n",
       "      <td>20601</td>\n",
       "      <td>1</td>\n",
       "    </tr>\n",
       "    <tr>\n",
       "      <th>20604</th>\n",
       "      <td>-121.54</td>\n",
       "      <td>39.12</td>\n",
       "      <td>NaN</td>\n",
       "      <td>4251.0</td>\n",
       "      <td>899.0</td>\n",
       "      <td>3265.0</td>\n",
       "      <td>934.0</td>\n",
       "      <td>2.3496</td>\n",
       "      <td>65000.0</td>\n",
       "      <td>INLAND</td>\n",
       "      <td>20604</td>\n",
       "      <td>1</td>\n",
       "    </tr>\n",
       "  </tbody>\n",
       "</table>\n",
       "<p>722 rows × 12 columns</p>\n",
       "</div>"
      ],
      "text/plain": [
       "       longitude  latitude  housing_median_age  total_rooms  total_bedrooms  \\\n",
       "25       -122.28     37.85                 NaN        535.0           123.0   \n",
       "117      -122.25     37.83                 NaN       4190.0          1105.0   \n",
       "138      -122.20     37.82                 NaN       1229.0           181.0   \n",
       "170      -122.25     37.79                 NaN        629.0           188.0   \n",
       "299      -122.17     37.76                 NaN       1764.0           397.0   \n",
       "...          ...       ...                 ...          ...             ...   \n",
       "20531    -121.81     38.58                 NaN       1964.0           314.0   \n",
       "20536    -121.73     38.55                 NaN       1717.0           393.0   \n",
       "20600    -121.57     39.16                 NaN       1632.0           367.0   \n",
       "20601    -121.57     39.13                 NaN        442.0           103.0   \n",
       "20604    -121.54     39.12                 NaN       4251.0           899.0   \n",
       "\n",
       "       population  households  median_income  median_house_value  \\\n",
       "25          317.0       119.0         2.4038            107500.0   \n",
       "117        1786.0      1037.0         3.0897            234100.0   \n",
       "138         420.0       176.0         7.0175            366700.0   \n",
       "170         742.0       196.0         2.6458            125000.0   \n",
       "299         987.0       354.0         2.4333             98200.0   \n",
       "...           ...         ...            ...                 ...   \n",
       "20531       808.0       286.0         5.9629            286000.0   \n",
       "20536      1224.0       387.0         2.7917            130800.0   \n",
       "20600       769.0       330.0         3.1029             71700.0   \n",
       "20601       413.0        88.0         1.5694             57900.0   \n",
       "20604      3265.0       934.0         2.3496             65000.0   \n",
       "\n",
       "      ocean_proximity     id  housing_median_age_nan  \n",
       "25           NEAR BAY     25                       1  \n",
       "117          NEAR BAY    117                       1  \n",
       "138          NEAR BAY    138                       1  \n",
       "170          NEAR BAY    170                       1  \n",
       "299          NEAR BAY    299                       1  \n",
       "...               ...    ...                     ...  \n",
       "20531          INLAND  20531                       1  \n",
       "20536          INLAND  20536                       1  \n",
       "20600          INLAND  20600                       1  \n",
       "20601          INLAND  20601                       1  \n",
       "20604          INLAND  20604                       1  \n",
       "\n",
       "[722 rows x 12 columns]"
      ]
     },
     "execution_count": 109,
     "metadata": {},
     "output_type": "execute_result"
    }
   ],
   "source": [
    "df[df['housing_median_age_nan'] == 1]"
   ]
  },
  {
   "cell_type": "code",
   "execution_count": 110,
   "metadata": {},
   "outputs": [
    {
     "data": {
      "text/plain": [
       "0    19918\n",
       "1      722\n",
       "Name: housing_median_age_nan, dtype: int64"
      ]
     },
     "execution_count": 110,
     "metadata": {},
     "output_type": "execute_result"
    }
   ],
   "source": [
    "df['housing_median_age_nan'].value_counts()"
   ]
  },
  {
   "cell_type": "code",
   "execution_count": 114,
   "metadata": {},
   "outputs": [
    {
     "data": {
      "text/plain": [
       "0        41.0\n",
       "1        21.0\n",
       "2        52.0\n",
       "3        52.0\n",
       "4        52.0\n",
       "         ... \n",
       "20635    25.0\n",
       "20636    18.0\n",
       "20637    17.0\n",
       "20638    18.0\n",
       "20639    16.0\n",
       "Name: housing_median_age, Length: 20640, dtype: float64"
      ]
     },
     "execution_count": 114,
     "metadata": {},
     "output_type": "execute_result"
    }
   ],
   "source": [
    "median = df['housing_median_age'].median()\n",
    "df['housing_median_age'].fillna(median)#.isna().sum()"
   ]
  },
  {
   "cell_type": "code",
   "execution_count": 113,
   "metadata": {},
   "outputs": [
    {
     "data": {
      "text/plain": [
       "722"
      ]
     },
     "execution_count": 113,
     "metadata": {},
     "output_type": "execute_result"
    }
   ],
   "source": [
    "df['housing_median_age'].isna().sum()"
   ]
  },
  {
   "cell_type": "code",
   "execution_count": 115,
   "metadata": {
    "colab": {},
    "colab_type": "code",
    "id": "6pOgf76pQ7p2"
   },
   "outputs": [],
   "source": [
    "df['housing_median_age'] = df['housing_median_age'].fillna(median)"
   ]
  },
  {
   "cell_type": "code",
   "execution_count": 116,
   "metadata": {},
   "outputs": [
    {
     "data": {
      "text/plain": [
       "0"
      ]
     },
     "execution_count": 116,
     "metadata": {},
     "output_type": "execute_result"
    }
   ],
   "source": [
    "df['housing_median_age'].isna().sum()"
   ]
  },
  {
   "cell_type": "code",
   "execution_count": 128,
   "metadata": {},
   "outputs": [
    {
     "data": {
      "text/html": [
       "<div>\n",
       "<style scoped>\n",
       "    .dataframe tbody tr th:only-of-type {\n",
       "        vertical-align: middle;\n",
       "    }\n",
       "\n",
       "    .dataframe tbody tr th {\n",
       "        vertical-align: top;\n",
       "    }\n",
       "\n",
       "    .dataframe thead th {\n",
       "        text-align: right;\n",
       "    }\n",
       "</style>\n",
       "<table border=\"1\" class=\"dataframe\">\n",
       "  <thead>\n",
       "    <tr style=\"text-align: right;\">\n",
       "      <th></th>\n",
       "      <th>longitude</th>\n",
       "      <th>latitude</th>\n",
       "      <th>housing_median_age</th>\n",
       "      <th>total_rooms</th>\n",
       "      <th>total_bedrooms</th>\n",
       "      <th>population</th>\n",
       "      <th>households</th>\n",
       "      <th>median_income</th>\n",
       "      <th>median_house_value</th>\n",
       "      <th>ocean_proximity</th>\n",
       "      <th>id</th>\n",
       "      <th>housing_median_age_nan</th>\n",
       "    </tr>\n",
       "  </thead>\n",
       "  <tbody>\n",
       "    <tr>\n",
       "      <th>25</th>\n",
       "      <td>-122.28</td>\n",
       "      <td>37.85</td>\n",
       "      <td>29.0</td>\n",
       "      <td>535.0</td>\n",
       "      <td>123.0</td>\n",
       "      <td>317.0</td>\n",
       "      <td>119.0</td>\n",
       "      <td>2.4038</td>\n",
       "      <td>107500.0</td>\n",
       "      <td>NEAR BAY</td>\n",
       "      <td>25</td>\n",
       "      <td>1</td>\n",
       "    </tr>\n",
       "    <tr>\n",
       "      <th>117</th>\n",
       "      <td>-122.25</td>\n",
       "      <td>37.83</td>\n",
       "      <td>29.0</td>\n",
       "      <td>4190.0</td>\n",
       "      <td>1105.0</td>\n",
       "      <td>1786.0</td>\n",
       "      <td>1037.0</td>\n",
       "      <td>3.0897</td>\n",
       "      <td>234100.0</td>\n",
       "      <td>NEAR BAY</td>\n",
       "      <td>117</td>\n",
       "      <td>1</td>\n",
       "    </tr>\n",
       "    <tr>\n",
       "      <th>138</th>\n",
       "      <td>-122.20</td>\n",
       "      <td>37.82</td>\n",
       "      <td>29.0</td>\n",
       "      <td>1229.0</td>\n",
       "      <td>181.0</td>\n",
       "      <td>420.0</td>\n",
       "      <td>176.0</td>\n",
       "      <td>7.0175</td>\n",
       "      <td>366700.0</td>\n",
       "      <td>NEAR BAY</td>\n",
       "      <td>138</td>\n",
       "      <td>1</td>\n",
       "    </tr>\n",
       "    <tr>\n",
       "      <th>170</th>\n",
       "      <td>-122.25</td>\n",
       "      <td>37.79</td>\n",
       "      <td>29.0</td>\n",
       "      <td>629.0</td>\n",
       "      <td>188.0</td>\n",
       "      <td>742.0</td>\n",
       "      <td>196.0</td>\n",
       "      <td>2.6458</td>\n",
       "      <td>125000.0</td>\n",
       "      <td>NEAR BAY</td>\n",
       "      <td>170</td>\n",
       "      <td>1</td>\n",
       "    </tr>\n",
       "    <tr>\n",
       "      <th>299</th>\n",
       "      <td>-122.17</td>\n",
       "      <td>37.76</td>\n",
       "      <td>29.0</td>\n",
       "      <td>1764.0</td>\n",
       "      <td>397.0</td>\n",
       "      <td>987.0</td>\n",
       "      <td>354.0</td>\n",
       "      <td>2.4333</td>\n",
       "      <td>98200.0</td>\n",
       "      <td>NEAR BAY</td>\n",
       "      <td>299</td>\n",
       "      <td>1</td>\n",
       "    </tr>\n",
       "    <tr>\n",
       "      <th>...</th>\n",
       "      <td>...</td>\n",
       "      <td>...</td>\n",
       "      <td>...</td>\n",
       "      <td>...</td>\n",
       "      <td>...</td>\n",
       "      <td>...</td>\n",
       "      <td>...</td>\n",
       "      <td>...</td>\n",
       "      <td>...</td>\n",
       "      <td>...</td>\n",
       "      <td>...</td>\n",
       "      <td>...</td>\n",
       "    </tr>\n",
       "    <tr>\n",
       "      <th>20531</th>\n",
       "      <td>-121.81</td>\n",
       "      <td>38.58</td>\n",
       "      <td>29.0</td>\n",
       "      <td>1964.0</td>\n",
       "      <td>314.0</td>\n",
       "      <td>808.0</td>\n",
       "      <td>286.0</td>\n",
       "      <td>5.9629</td>\n",
       "      <td>286000.0</td>\n",
       "      <td>INLAND</td>\n",
       "      <td>20531</td>\n",
       "      <td>1</td>\n",
       "    </tr>\n",
       "    <tr>\n",
       "      <th>20536</th>\n",
       "      <td>-121.73</td>\n",
       "      <td>38.55</td>\n",
       "      <td>29.0</td>\n",
       "      <td>1717.0</td>\n",
       "      <td>393.0</td>\n",
       "      <td>1224.0</td>\n",
       "      <td>387.0</td>\n",
       "      <td>2.7917</td>\n",
       "      <td>130800.0</td>\n",
       "      <td>INLAND</td>\n",
       "      <td>20536</td>\n",
       "      <td>1</td>\n",
       "    </tr>\n",
       "    <tr>\n",
       "      <th>20600</th>\n",
       "      <td>-121.57</td>\n",
       "      <td>39.16</td>\n",
       "      <td>29.0</td>\n",
       "      <td>1632.0</td>\n",
       "      <td>367.0</td>\n",
       "      <td>769.0</td>\n",
       "      <td>330.0</td>\n",
       "      <td>3.1029</td>\n",
       "      <td>71700.0</td>\n",
       "      <td>INLAND</td>\n",
       "      <td>20600</td>\n",
       "      <td>1</td>\n",
       "    </tr>\n",
       "    <tr>\n",
       "      <th>20601</th>\n",
       "      <td>-121.57</td>\n",
       "      <td>39.13</td>\n",
       "      <td>29.0</td>\n",
       "      <td>442.0</td>\n",
       "      <td>103.0</td>\n",
       "      <td>413.0</td>\n",
       "      <td>88.0</td>\n",
       "      <td>1.5694</td>\n",
       "      <td>57900.0</td>\n",
       "      <td>INLAND</td>\n",
       "      <td>20601</td>\n",
       "      <td>1</td>\n",
       "    </tr>\n",
       "    <tr>\n",
       "      <th>20604</th>\n",
       "      <td>-121.54</td>\n",
       "      <td>39.12</td>\n",
       "      <td>29.0</td>\n",
       "      <td>4251.0</td>\n",
       "      <td>899.0</td>\n",
       "      <td>3265.0</td>\n",
       "      <td>934.0</td>\n",
       "      <td>2.3496</td>\n",
       "      <td>65000.0</td>\n",
       "      <td>INLAND</td>\n",
       "      <td>20604</td>\n",
       "      <td>1</td>\n",
       "    </tr>\n",
       "  </tbody>\n",
       "</table>\n",
       "<p>722 rows × 12 columns</p>\n",
       "</div>"
      ],
      "text/plain": [
       "       longitude  latitude  housing_median_age  total_rooms  total_bedrooms  \\\n",
       "25       -122.28     37.85                29.0        535.0           123.0   \n",
       "117      -122.25     37.83                29.0       4190.0          1105.0   \n",
       "138      -122.20     37.82                29.0       1229.0           181.0   \n",
       "170      -122.25     37.79                29.0        629.0           188.0   \n",
       "299      -122.17     37.76                29.0       1764.0           397.0   \n",
       "...          ...       ...                 ...          ...             ...   \n",
       "20531    -121.81     38.58                29.0       1964.0           314.0   \n",
       "20536    -121.73     38.55                29.0       1717.0           393.0   \n",
       "20600    -121.57     39.16                29.0       1632.0           367.0   \n",
       "20601    -121.57     39.13                29.0        442.0           103.0   \n",
       "20604    -121.54     39.12                29.0       4251.0           899.0   \n",
       "\n",
       "       population  households  median_income  median_house_value  \\\n",
       "25          317.0       119.0         2.4038            107500.0   \n",
       "117        1786.0      1037.0         3.0897            234100.0   \n",
       "138         420.0       176.0         7.0175            366700.0   \n",
       "170         742.0       196.0         2.6458            125000.0   \n",
       "299         987.0       354.0         2.4333             98200.0   \n",
       "...           ...         ...            ...                 ...   \n",
       "20531       808.0       286.0         5.9629            286000.0   \n",
       "20536      1224.0       387.0         2.7917            130800.0   \n",
       "20600       769.0       330.0         3.1029             71700.0   \n",
       "20601       413.0        88.0         1.5694             57900.0   \n",
       "20604      3265.0       934.0         2.3496             65000.0   \n",
       "\n",
       "      ocean_proximity     id  housing_median_age_nan  \n",
       "25           NEAR BAY     25                       1  \n",
       "117          NEAR BAY    117                       1  \n",
       "138          NEAR BAY    138                       1  \n",
       "170          NEAR BAY    170                       1  \n",
       "299          NEAR BAY    299                       1  \n",
       "...               ...    ...                     ...  \n",
       "20531          INLAND  20531                       1  \n",
       "20536          INLAND  20536                       1  \n",
       "20600          INLAND  20600                       1  \n",
       "20601          INLAND  20601                       1  \n",
       "20604          INLAND  20604                       1  \n",
       "\n",
       "[722 rows x 12 columns]"
      ]
     },
     "execution_count": 128,
     "metadata": {},
     "output_type": "execute_result"
    }
   ],
   "source": [
    "df[df['housing_median_age_nan'] == 1]"
   ]
  },
  {
   "cell_type": "markdown",
   "metadata": {
    "colab_type": "text",
    "id": "SmVjLv-4uM5Y"
   },
   "source": [
    "**total_bedrooms**"
   ]
  },
  {
   "cell_type": "code",
   "execution_count": 119,
   "metadata": {
    "colab": {},
    "colab_type": "code",
    "id": "0zpIaKSfuM5Y"
   },
   "outputs": [],
   "source": [
    "median = df['total_bedrooms'].median()\n",
    "df['total_bedrooms'].fillna(median, inplace=True)"
   ]
  },
  {
   "cell_type": "code",
   "execution_count": 120,
   "metadata": {},
   "outputs": [
    {
     "data": {
      "text/plain": [
       "0"
      ]
     },
     "execution_count": 120,
     "metadata": {},
     "output_type": "execute_result"
    }
   ],
   "source": [
    "df['total_bedrooms'].isna().sum()"
   ]
  },
  {
   "cell_type": "markdown",
   "metadata": {
    "colab_type": "text",
    "id": "oM3EXwUAuM5c"
   },
   "source": [
    "**population**"
   ]
  },
  {
   "cell_type": "code",
   "execution_count": 121,
   "metadata": {
    "colab": {},
    "colab_type": "code",
    "id": "nagqodUVuM5c"
   },
   "outputs": [],
   "source": [
    "median = df['population'].median()\n",
    "df['population'].fillna(median, inplace=True)"
   ]
  },
  {
   "cell_type": "code",
   "execution_count": 122,
   "metadata": {},
   "outputs": [
    {
     "data": {
      "text/plain": [
       "0"
      ]
     },
     "execution_count": 122,
     "metadata": {},
     "output_type": "execute_result"
    }
   ],
   "source": [
    "df['population'].isna().sum()"
   ]
  },
  {
   "cell_type": "markdown",
   "metadata": {
    "colab_type": "text",
    "id": "qTIGjZS6YC44"
   },
   "source": [
    "**все вместе**"
   ]
  },
  {
   "cell_type": "code",
   "execution_count": 123,
   "metadata": {
    "colab": {
     "base_uri": "https://localhost:8080/",
     "height": 86
    },
    "colab_type": "code",
    "id": "2i3XEuS2RUac",
    "outputId": "f9489251-f196-4f52-dfa3-fb5cba9b7ce1"
   },
   "outputs": [
    {
     "data": {
      "text/plain": [
       "housing_median_age      29.0\n",
       "total_bedrooms         435.0\n",
       "population            1165.0\n",
       "dtype: float64"
      ]
     },
     "execution_count": 123,
     "metadata": {},
     "output_type": "execute_result"
    }
   ],
   "source": [
    "medians = df[['housing_median_age', 'total_bedrooms', 'population']].median()\n",
    "medians"
   ]
  },
  {
   "cell_type": "code",
   "execution_count": 126,
   "metadata": {
    "colab": {},
    "colab_type": "code",
    "id": "zlt8LlH2RfS1"
   },
   "outputs": [],
   "source": [
    "df[['housing_median_age', 'total_bedrooms', 'population']] = \\\n",
    "        df[['housing_median_age', 'total_bedrooms', 'population']].fillna(medians)"
   ]
  },
  {
   "cell_type": "code",
   "execution_count": 127,
   "metadata": {
    "colab": {
     "base_uri": "https://localhost:8080/",
     "height": 225
    },
    "colab_type": "code",
    "id": "dMrT1u9tX8Ap",
    "outputId": "9ca2e57b-de5a-4b57-9403-f75dee13bd42"
   },
   "outputs": [
    {
     "data": {
      "text/plain": [
       "longitude                 0\n",
       "latitude                  0\n",
       "housing_median_age        0\n",
       "total_rooms               0\n",
       "total_bedrooms            0\n",
       "population                0\n",
       "households                0\n",
       "median_income             0\n",
       "median_house_value        0\n",
       "ocean_proximity           0\n",
       "id                        0\n",
       "housing_median_age_nan    0\n",
       "dtype: int64"
      ]
     },
     "execution_count": 127,
     "metadata": {},
     "output_type": "execute_result"
    }
   ],
   "source": [
    "df.isna().sum()"
   ]
  },
  {
   "cell_type": "markdown",
   "metadata": {
    "colab_type": "text",
    "id": "piv5lN7KuM5g"
   },
   "source": [
    "**ocean_proximity**"
   ]
  },
  {
   "cell_type": "code",
   "execution_count": 129,
   "metadata": {},
   "outputs": [],
   "source": [
    "df['ocean_proximity_nan'] = 0\n",
    "df.loc[df['ocean_proximity'] == '-', 'ocean_proximity_nan'] = 1"
   ]
  },
  {
   "cell_type": "code",
   "execution_count": 130,
   "metadata": {},
   "outputs": [
    {
     "data": {
      "text/html": [
       "<div>\n",
       "<style scoped>\n",
       "    .dataframe tbody tr th:only-of-type {\n",
       "        vertical-align: middle;\n",
       "    }\n",
       "\n",
       "    .dataframe tbody tr th {\n",
       "        vertical-align: top;\n",
       "    }\n",
       "\n",
       "    .dataframe thead th {\n",
       "        text-align: right;\n",
       "    }\n",
       "</style>\n",
       "<table border=\"1\" class=\"dataframe\">\n",
       "  <thead>\n",
       "    <tr style=\"text-align: right;\">\n",
       "      <th></th>\n",
       "      <th>longitude</th>\n",
       "      <th>latitude</th>\n",
       "      <th>housing_median_age</th>\n",
       "      <th>total_rooms</th>\n",
       "      <th>total_bedrooms</th>\n",
       "      <th>population</th>\n",
       "      <th>households</th>\n",
       "      <th>median_income</th>\n",
       "      <th>median_house_value</th>\n",
       "      <th>ocean_proximity</th>\n",
       "      <th>id</th>\n",
       "      <th>housing_median_age_nan</th>\n",
       "      <th>ocean_proximity_nan</th>\n",
       "    </tr>\n",
       "  </thead>\n",
       "  <tbody>\n",
       "    <tr>\n",
       "      <th>1153</th>\n",
       "      <td>-121.46</td>\n",
       "      <td>39.54</td>\n",
       "      <td>14.0</td>\n",
       "      <td>5549.0</td>\n",
       "      <td>1000.0</td>\n",
       "      <td>1822.0</td>\n",
       "      <td>919.0</td>\n",
       "      <td>2.9562</td>\n",
       "      <td>142300.0</td>\n",
       "      <td>-</td>\n",
       "      <td>1153</td>\n",
       "      <td>0</td>\n",
       "      <td>1</td>\n",
       "    </tr>\n",
       "    <tr>\n",
       "      <th>2435</th>\n",
       "      <td>-119.59</td>\n",
       "      <td>36.57</td>\n",
       "      <td>19.0</td>\n",
       "      <td>1733.0</td>\n",
       "      <td>303.0</td>\n",
       "      <td>911.0</td>\n",
       "      <td>281.0</td>\n",
       "      <td>3.5987</td>\n",
       "      <td>131700.0</td>\n",
       "      <td>-</td>\n",
       "      <td>2435</td>\n",
       "      <td>0</td>\n",
       "      <td>1</td>\n",
       "    </tr>\n",
       "    <tr>\n",
       "      <th>2636</th>\n",
       "      <td>-124.15</td>\n",
       "      <td>40.59</td>\n",
       "      <td>39.0</td>\n",
       "      <td>1186.0</td>\n",
       "      <td>238.0</td>\n",
       "      <td>539.0</td>\n",
       "      <td>212.0</td>\n",
       "      <td>2.0938</td>\n",
       "      <td>79600.0</td>\n",
       "      <td>-</td>\n",
       "      <td>2636</td>\n",
       "      <td>0</td>\n",
       "      <td>1</td>\n",
       "    </tr>\n",
       "    <tr>\n",
       "      <th>5980</th>\n",
       "      <td>-117.74</td>\n",
       "      <td>34.10</td>\n",
       "      <td>26.0</td>\n",
       "      <td>2723.0</td>\n",
       "      <td>604.0</td>\n",
       "      <td>1847.0</td>\n",
       "      <td>498.0</td>\n",
       "      <td>2.6779</td>\n",
       "      <td>136000.0</td>\n",
       "      <td>-</td>\n",
       "      <td>5980</td>\n",
       "      <td>0</td>\n",
       "      <td>1</td>\n",
       "    </tr>\n",
       "    <tr>\n",
       "      <th>6373</th>\n",
       "      <td>-118.02</td>\n",
       "      <td>34.15</td>\n",
       "      <td>44.0</td>\n",
       "      <td>2419.0</td>\n",
       "      <td>437.0</td>\n",
       "      <td>1045.0</td>\n",
       "      <td>432.0</td>\n",
       "      <td>3.8750</td>\n",
       "      <td>280800.0</td>\n",
       "      <td>-</td>\n",
       "      <td>6373</td>\n",
       "      <td>0</td>\n",
       "      <td>1</td>\n",
       "    </tr>\n",
       "  </tbody>\n",
       "</table>\n",
       "</div>"
      ],
      "text/plain": [
       "      longitude  latitude  housing_median_age  total_rooms  total_bedrooms  \\\n",
       "1153    -121.46     39.54                14.0       5549.0          1000.0   \n",
       "2435    -119.59     36.57                19.0       1733.0           303.0   \n",
       "2636    -124.15     40.59                39.0       1186.0           238.0   \n",
       "5980    -117.74     34.10                26.0       2723.0           604.0   \n",
       "6373    -118.02     34.15                44.0       2419.0           437.0   \n",
       "\n",
       "      population  households  median_income  median_house_value  \\\n",
       "1153      1822.0       919.0         2.9562            142300.0   \n",
       "2435       911.0       281.0         3.5987            131700.0   \n",
       "2636       539.0       212.0         2.0938             79600.0   \n",
       "5980      1847.0       498.0         2.6779            136000.0   \n",
       "6373      1045.0       432.0         3.8750            280800.0   \n",
       "\n",
       "     ocean_proximity    id  housing_median_age_nan  ocean_proximity_nan  \n",
       "1153               -  1153                       0                    1  \n",
       "2435               -  2435                       0                    1  \n",
       "2636               -  2636                       0                    1  \n",
       "5980               -  5980                       0                    1  \n",
       "6373               -  6373                       0                    1  "
      ]
     },
     "execution_count": 130,
     "metadata": {},
     "output_type": "execute_result"
    }
   ],
   "source": [
    "df[df['ocean_proximity_nan'] == 1].head()"
   ]
  },
  {
   "cell_type": "code",
   "execution_count": 131,
   "metadata": {
    "colab": {
     "base_uri": "https://localhost:8080/",
     "height": 52
    },
    "colab_type": "code",
    "id": "qBmYN15guM5h",
    "outputId": "cf0166d1-1dc4-4ad5-f914-8ca3b806732d"
   },
   "outputs": [
    {
     "data": {
      "text/plain": [
       "0    <1H OCEAN\n",
       "dtype: object"
      ]
     },
     "execution_count": 131,
     "metadata": {},
     "output_type": "execute_result"
    }
   ],
   "source": [
    "df['ocean_proximity'].mode()"
   ]
  },
  {
   "cell_type": "code",
   "execution_count": 132,
   "metadata": {
    "colab": {
     "base_uri": "https://localhost:8080/",
     "height": 34
    },
    "colab_type": "code",
    "id": "mbTtRJeLYTUD",
    "outputId": "590bd3ea-c136-48f1-9c69-b33c0bbd269b"
   },
   "outputs": [
    {
     "data": {
      "text/plain": [
       "'<1H OCEAN'"
      ]
     },
     "execution_count": 132,
     "metadata": {},
     "output_type": "execute_result"
    }
   ],
   "source": [
    "df['ocean_proximity'].mode()[0]"
   ]
  },
  {
   "cell_type": "code",
   "execution_count": 133,
   "metadata": {},
   "outputs": [
    {
     "data": {
      "text/plain": [
       "<1H OCEAN     9127\n",
       "INLAND        6542\n",
       "NEAR OCEAN    2655\n",
       "NEAR BAY      2288\n",
       "-               23\n",
       "ISLAND           5\n",
       "Name: ocean_proximity, dtype: int64"
      ]
     },
     "execution_count": 133,
     "metadata": {},
     "output_type": "execute_result"
    }
   ],
   "source": [
    "df['ocean_proximity'].value_counts()"
   ]
  },
  {
   "cell_type": "markdown",
   "metadata": {},
   "source": [
    "Заменим значение \"-\" в признаке ocean_proximity на самое популярное значение в признаке, то есть на моду."
   ]
  },
  {
   "cell_type": "code",
   "execution_count": 135,
   "metadata": {},
   "outputs": [],
   "source": [
    "df.replace(\n",
    "    {'ocean_proximity':\n",
    "     {'-': df['ocean_proximity'].mode()[0]}\n",
    "    },\n",
    "    inplace=True)"
   ]
  },
  {
   "cell_type": "code",
   "execution_count": 136,
   "metadata": {
    "colab": {},
    "colab_type": "code",
    "id": "7n6U4XSQuM5l"
   },
   "outputs": [],
   "source": [
    "df['ocean_proximity'].replace(\n",
    "    {'-': df['ocean_proximity'].mode()[0]},\n",
    "    inplace=True)"
   ]
  },
  {
   "cell_type": "code",
   "execution_count": 137,
   "metadata": {
    "colab": {
     "base_uri": "https://localhost:8080/",
     "height": 121
    },
    "colab_type": "code",
    "id": "TMCJTKk-uM5o",
    "outputId": "da4c6ea9-4fd4-484f-e5e8-e253febf6574"
   },
   "outputs": [
    {
     "data": {
      "text/plain": [
       "<1H OCEAN     9150\n",
       "INLAND        6542\n",
       "NEAR OCEAN    2655\n",
       "NEAR BAY      2288\n",
       "ISLAND           5\n",
       "Name: ocean_proximity, dtype: int64"
      ]
     },
     "execution_count": 137,
     "metadata": {},
     "output_type": "execute_result"
    }
   ],
   "source": [
    "df['ocean_proximity'].value_counts()"
   ]
  },
  {
   "cell_type": "code",
   "execution_count": 138,
   "metadata": {},
   "outputs": [
    {
     "data": {
      "text/html": [
       "<div>\n",
       "<style scoped>\n",
       "    .dataframe tbody tr th:only-of-type {\n",
       "        vertical-align: middle;\n",
       "    }\n",
       "\n",
       "    .dataframe tbody tr th {\n",
       "        vertical-align: top;\n",
       "    }\n",
       "\n",
       "    .dataframe thead th {\n",
       "        text-align: right;\n",
       "    }\n",
       "</style>\n",
       "<table border=\"1\" class=\"dataframe\">\n",
       "  <thead>\n",
       "    <tr style=\"text-align: right;\">\n",
       "      <th></th>\n",
       "      <th>longitude</th>\n",
       "      <th>latitude</th>\n",
       "      <th>housing_median_age</th>\n",
       "      <th>total_rooms</th>\n",
       "      <th>total_bedrooms</th>\n",
       "      <th>population</th>\n",
       "      <th>households</th>\n",
       "      <th>median_income</th>\n",
       "      <th>median_house_value</th>\n",
       "      <th>ocean_proximity</th>\n",
       "      <th>id</th>\n",
       "      <th>housing_median_age_nan</th>\n",
       "      <th>ocean_proximity_nan</th>\n",
       "    </tr>\n",
       "  </thead>\n",
       "  <tbody>\n",
       "    <tr>\n",
       "      <th>1153</th>\n",
       "      <td>-121.46</td>\n",
       "      <td>39.54</td>\n",
       "      <td>14.0</td>\n",
       "      <td>5549.0</td>\n",
       "      <td>1000.0</td>\n",
       "      <td>1822.0</td>\n",
       "      <td>919.0</td>\n",
       "      <td>2.9562</td>\n",
       "      <td>142300.0</td>\n",
       "      <td>&lt;1H OCEAN</td>\n",
       "      <td>1153</td>\n",
       "      <td>0</td>\n",
       "      <td>1</td>\n",
       "    </tr>\n",
       "    <tr>\n",
       "      <th>2435</th>\n",
       "      <td>-119.59</td>\n",
       "      <td>36.57</td>\n",
       "      <td>19.0</td>\n",
       "      <td>1733.0</td>\n",
       "      <td>303.0</td>\n",
       "      <td>911.0</td>\n",
       "      <td>281.0</td>\n",
       "      <td>3.5987</td>\n",
       "      <td>131700.0</td>\n",
       "      <td>&lt;1H OCEAN</td>\n",
       "      <td>2435</td>\n",
       "      <td>0</td>\n",
       "      <td>1</td>\n",
       "    </tr>\n",
       "    <tr>\n",
       "      <th>2636</th>\n",
       "      <td>-124.15</td>\n",
       "      <td>40.59</td>\n",
       "      <td>39.0</td>\n",
       "      <td>1186.0</td>\n",
       "      <td>238.0</td>\n",
       "      <td>539.0</td>\n",
       "      <td>212.0</td>\n",
       "      <td>2.0938</td>\n",
       "      <td>79600.0</td>\n",
       "      <td>&lt;1H OCEAN</td>\n",
       "      <td>2636</td>\n",
       "      <td>0</td>\n",
       "      <td>1</td>\n",
       "    </tr>\n",
       "    <tr>\n",
       "      <th>5980</th>\n",
       "      <td>-117.74</td>\n",
       "      <td>34.10</td>\n",
       "      <td>26.0</td>\n",
       "      <td>2723.0</td>\n",
       "      <td>604.0</td>\n",
       "      <td>1847.0</td>\n",
       "      <td>498.0</td>\n",
       "      <td>2.6779</td>\n",
       "      <td>136000.0</td>\n",
       "      <td>&lt;1H OCEAN</td>\n",
       "      <td>5980</td>\n",
       "      <td>0</td>\n",
       "      <td>1</td>\n",
       "    </tr>\n",
       "    <tr>\n",
       "      <th>6373</th>\n",
       "      <td>-118.02</td>\n",
       "      <td>34.15</td>\n",
       "      <td>44.0</td>\n",
       "      <td>2419.0</td>\n",
       "      <td>437.0</td>\n",
       "      <td>1045.0</td>\n",
       "      <td>432.0</td>\n",
       "      <td>3.8750</td>\n",
       "      <td>280800.0</td>\n",
       "      <td>&lt;1H OCEAN</td>\n",
       "      <td>6373</td>\n",
       "      <td>0</td>\n",
       "      <td>1</td>\n",
       "    </tr>\n",
       "  </tbody>\n",
       "</table>\n",
       "</div>"
      ],
      "text/plain": [
       "      longitude  latitude  housing_median_age  total_rooms  total_bedrooms  \\\n",
       "1153    -121.46     39.54                14.0       5549.0          1000.0   \n",
       "2435    -119.59     36.57                19.0       1733.0           303.0   \n",
       "2636    -124.15     40.59                39.0       1186.0           238.0   \n",
       "5980    -117.74     34.10                26.0       2723.0           604.0   \n",
       "6373    -118.02     34.15                44.0       2419.0           437.0   \n",
       "\n",
       "      population  households  median_income  median_house_value  \\\n",
       "1153      1822.0       919.0         2.9562            142300.0   \n",
       "2435       911.0       281.0         3.5987            131700.0   \n",
       "2636       539.0       212.0         2.0938             79600.0   \n",
       "5980      1847.0       498.0         2.6779            136000.0   \n",
       "6373      1045.0       432.0         3.8750            280800.0   \n",
       "\n",
       "     ocean_proximity    id  housing_median_age_nan  ocean_proximity_nan  \n",
       "1153       <1H OCEAN  1153                       0                    1  \n",
       "2435       <1H OCEAN  2435                       0                    1  \n",
       "2636       <1H OCEAN  2636                       0                    1  \n",
       "5980       <1H OCEAN  5980                       0                    1  \n",
       "6373       <1H OCEAN  6373                       0                    1  "
      ]
     },
     "execution_count": 138,
     "metadata": {},
     "output_type": "execute_result"
    }
   ],
   "source": [
    "df[df['ocean_proximity_nan'] == 1].head()"
   ]
  },
  {
   "cell_type": "markdown",
   "metadata": {
    "colab_type": "text",
    "id": "19-vofBYuM5s"
   },
   "source": [
    "### 4. Обработка выбросов<a class='anchor' id='outlier'>\n",
    "    \n",
    "**Выбросы** - это объекты в данных, которые не принадлежат определенной зависимости. Это ненормальное наблюдение, которое находятся далеко от других наблюдений."
   ]
  },
  {
   "cell_type": "markdown",
   "metadata": {},
   "source": [
    "Что можно делать с ними?\n",
    "1. Выкинуть эти данные\n",
    "2. Заменять выбросы разными методами (медианы, средние значения и т.д.)\n",
    "3. Делать/не делать дополнительную фичу\n",
    "4. Ничего не делать"
   ]
  },
  {
   "cell_type": "code",
   "execution_count": 139,
   "metadata": {
    "colab": {
     "base_uri": "https://localhost:8080/",
     "height": 300
    },
    "colab_type": "code",
    "id": "OPR_RbkUuM5t",
    "outputId": "5a3f7b0a-5930-4b42-d16e-f9e0ea4669f3"
   },
   "outputs": [
    {
     "data": {
      "text/html": [
       "<div>\n",
       "<style scoped>\n",
       "    .dataframe tbody tr th:only-of-type {\n",
       "        vertical-align: middle;\n",
       "    }\n",
       "\n",
       "    .dataframe tbody tr th {\n",
       "        vertical-align: top;\n",
       "    }\n",
       "\n",
       "    .dataframe thead th {\n",
       "        text-align: right;\n",
       "    }\n",
       "</style>\n",
       "<table border=\"1\" class=\"dataframe\">\n",
       "  <thead>\n",
       "    <tr style=\"text-align: right;\">\n",
       "      <th></th>\n",
       "      <th>longitude</th>\n",
       "      <th>latitude</th>\n",
       "      <th>housing_median_age</th>\n",
       "      <th>total_rooms</th>\n",
       "      <th>total_bedrooms</th>\n",
       "      <th>population</th>\n",
       "      <th>households</th>\n",
       "      <th>median_income</th>\n",
       "      <th>median_house_value</th>\n",
       "      <th>housing_median_age_nan</th>\n",
       "      <th>ocean_proximity_nan</th>\n",
       "    </tr>\n",
       "  </thead>\n",
       "  <tbody>\n",
       "    <tr>\n",
       "      <th>count</th>\n",
       "      <td>20640.000000</td>\n",
       "      <td>20640.000000</td>\n",
       "      <td>20640.000000</td>\n",
       "      <td>20640.000000</td>\n",
       "      <td>20640.000000</td>\n",
       "      <td>20640.000000</td>\n",
       "      <td>20640.000000</td>\n",
       "      <td>20640.000000</td>\n",
       "      <td>20640.000000</td>\n",
       "      <td>20640.000000</td>\n",
       "      <td>20640.000000</td>\n",
       "    </tr>\n",
       "    <tr>\n",
       "      <th>mean</th>\n",
       "      <td>-119.471242</td>\n",
       "      <td>35.036934</td>\n",
       "      <td>28.665746</td>\n",
       "      <td>2635.763081</td>\n",
       "      <td>536.838857</td>\n",
       "      <td>1417.860562</td>\n",
       "      <td>499.539680</td>\n",
       "      <td>3.870671</td>\n",
       "      <td>206855.816909</td>\n",
       "      <td>0.034981</td>\n",
       "      <td>0.001114</td>\n",
       "    </tr>\n",
       "    <tr>\n",
       "      <th>std</th>\n",
       "      <td>5.041408</td>\n",
       "      <td>94.903955</td>\n",
       "      <td>12.355019</td>\n",
       "      <td>2181.615252</td>\n",
       "      <td>419.391878</td>\n",
       "      <td>1119.445348</td>\n",
       "      <td>382.329753</td>\n",
       "      <td>1.899822</td>\n",
       "      <td>115395.615874</td>\n",
       "      <td>0.183735</td>\n",
       "      <td>0.033364</td>\n",
       "    </tr>\n",
       "    <tr>\n",
       "      <th>min</th>\n",
       "      <td>-124.350000</td>\n",
       "      <td>-13534.030000</td>\n",
       "      <td>1.000000</td>\n",
       "      <td>2.000000</td>\n",
       "      <td>1.000000</td>\n",
       "      <td>3.000000</td>\n",
       "      <td>1.000000</td>\n",
       "      <td>0.499900</td>\n",
       "      <td>14999.000000</td>\n",
       "      <td>0.000000</td>\n",
       "      <td>0.000000</td>\n",
       "    </tr>\n",
       "    <tr>\n",
       "      <th>25%</th>\n",
       "      <td>-121.800000</td>\n",
       "      <td>33.930000</td>\n",
       "      <td>19.000000</td>\n",
       "      <td>1447.750000</td>\n",
       "      <td>297.000000</td>\n",
       "      <td>797.000000</td>\n",
       "      <td>280.000000</td>\n",
       "      <td>2.563400</td>\n",
       "      <td>119600.000000</td>\n",
       "      <td>0.000000</td>\n",
       "      <td>0.000000</td>\n",
       "    </tr>\n",
       "    <tr>\n",
       "      <th>50%</th>\n",
       "      <td>-118.490000</td>\n",
       "      <td>34.260000</td>\n",
       "      <td>29.000000</td>\n",
       "      <td>2127.000000</td>\n",
       "      <td>435.000000</td>\n",
       "      <td>1165.000000</td>\n",
       "      <td>409.000000</td>\n",
       "      <td>3.534800</td>\n",
       "      <td>179700.000000</td>\n",
       "      <td>0.000000</td>\n",
       "      <td>0.000000</td>\n",
       "    </tr>\n",
       "    <tr>\n",
       "      <th>75%</th>\n",
       "      <td>-118.010000</td>\n",
       "      <td>37.710000</td>\n",
       "      <td>37.000000</td>\n",
       "      <td>3148.000000</td>\n",
       "      <td>643.250000</td>\n",
       "      <td>1701.000000</td>\n",
       "      <td>605.000000</td>\n",
       "      <td>4.743250</td>\n",
       "      <td>264725.000000</td>\n",
       "      <td>0.000000</td>\n",
       "      <td>0.000000</td>\n",
       "    </tr>\n",
       "    <tr>\n",
       "      <th>max</th>\n",
       "      <td>122.030000</td>\n",
       "      <td>1327.130000</td>\n",
       "      <td>52.000000</td>\n",
       "      <td>39320.000000</td>\n",
       "      <td>6445.000000</td>\n",
       "      <td>35682.000000</td>\n",
       "      <td>6082.000000</td>\n",
       "      <td>15.000100</td>\n",
       "      <td>500001.000000</td>\n",
       "      <td>1.000000</td>\n",
       "      <td>1.000000</td>\n",
       "    </tr>\n",
       "  </tbody>\n",
       "</table>\n",
       "</div>"
      ],
      "text/plain": [
       "          longitude      latitude  housing_median_age   total_rooms  \\\n",
       "count  20640.000000  20640.000000        20640.000000  20640.000000   \n",
       "mean    -119.471242     35.036934           28.665746   2635.763081   \n",
       "std        5.041408     94.903955           12.355019   2181.615252   \n",
       "min     -124.350000 -13534.030000            1.000000      2.000000   \n",
       "25%     -121.800000     33.930000           19.000000   1447.750000   \n",
       "50%     -118.490000     34.260000           29.000000   2127.000000   \n",
       "75%     -118.010000     37.710000           37.000000   3148.000000   \n",
       "max      122.030000   1327.130000           52.000000  39320.000000   \n",
       "\n",
       "       total_bedrooms    population    households  median_income  \\\n",
       "count    20640.000000  20640.000000  20640.000000   20640.000000   \n",
       "mean       536.838857   1417.860562    499.539680       3.870671   \n",
       "std        419.391878   1119.445348    382.329753       1.899822   \n",
       "min          1.000000      3.000000      1.000000       0.499900   \n",
       "25%        297.000000    797.000000    280.000000       2.563400   \n",
       "50%        435.000000   1165.000000    409.000000       3.534800   \n",
       "75%        643.250000   1701.000000    605.000000       4.743250   \n",
       "max       6445.000000  35682.000000   6082.000000      15.000100   \n",
       "\n",
       "       median_house_value  housing_median_age_nan  ocean_proximity_nan  \n",
       "count        20640.000000            20640.000000         20640.000000  \n",
       "mean        206855.816909                0.034981             0.001114  \n",
       "std         115395.615874                0.183735             0.033364  \n",
       "min          14999.000000                0.000000             0.000000  \n",
       "25%         119600.000000                0.000000             0.000000  \n",
       "50%         179700.000000                0.000000             0.000000  \n",
       "75%         264725.000000                0.000000             0.000000  \n",
       "max         500001.000000                1.000000             1.000000  "
      ]
     },
     "execution_count": 139,
     "metadata": {},
     "output_type": "execute_result"
    }
   ],
   "source": [
    "df.describe()"
   ]
  },
  {
   "cell_type": "markdown",
   "metadata": {
    "colab_type": "text",
    "id": "JYuPQh9LaFZi"
   },
   "source": [
    "Возможные значения longtitude (долгота) и latitude (широта) можно найти [здесь](https://dateandtime.info/ru/citycoordinates.php?id=5332748)\n",
    "\n"
   ]
  },
  {
   "cell_type": "markdown",
   "metadata": {
    "colab_type": "text",
    "id": "YvKLKbHdaK4G"
   },
   "source": [
    "_Широта принимает значения от −90° до 90°. 0° – широта экватора; −90° – широта Южного полюса; 90° – широта Северного полюса. Положительные значения соответствуют северной широте (точки севернее экватора, сокращённо с.ш. или N); отрицательные – южной широте (точки южнее экватора, сокращённо ю.ш. или S).  \n",
    "Долгота отсчитывается от нулевого меридиана (IERS Reference Meridian в системе WGS 84) и принимает значения от −180° до 180°. Положительные значения соответствуют восточной долготе (сокращённо в.д. или E); отрицательные – западной долготе (сокращённо з.д. или W)._"
   ]
  },
  {
   "cell_type": "markdown",
   "metadata": {
    "colab_type": "text",
    "id": "XaDaNIPsaXkv"
   },
   "source": [
    "Калифорнии находится в западном и северном полушарии.\n",
    "\n",
    "\n",
    "![image.png](data:image/png;base64,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)"
   ]
  },
  {
   "cell_type": "markdown",
   "metadata": {
    "colab_type": "text",
    "id": "SpclbJGzuM5w"
   },
   "source": [
    "**longitude**"
   ]
  },
  {
   "cell_type": "code",
   "execution_count": 140,
   "metadata": {
    "colab": {},
    "colab_type": "code",
    "id": "TKlDsrzMuM5w",
    "outputId": "a38b9b7f-e635-46d5-fc52-26e30b343f39"
   },
   "outputs": [
    {
     "data": {
      "text/html": [
       "<div>\n",
       "<style scoped>\n",
       "    .dataframe tbody tr th:only-of-type {\n",
       "        vertical-align: middle;\n",
       "    }\n",
       "\n",
       "    .dataframe tbody tr th {\n",
       "        vertical-align: top;\n",
       "    }\n",
       "\n",
       "    .dataframe thead th {\n",
       "        text-align: right;\n",
       "    }\n",
       "</style>\n",
       "<table border=\"1\" class=\"dataframe\">\n",
       "  <thead>\n",
       "    <tr style=\"text-align: right;\">\n",
       "      <th></th>\n",
       "      <th>longitude</th>\n",
       "      <th>latitude</th>\n",
       "      <th>housing_median_age</th>\n",
       "      <th>total_rooms</th>\n",
       "      <th>total_bedrooms</th>\n",
       "      <th>population</th>\n",
       "      <th>households</th>\n",
       "      <th>median_income</th>\n",
       "      <th>median_house_value</th>\n",
       "      <th>ocean_proximity</th>\n",
       "      <th>id</th>\n",
       "      <th>housing_median_age_nan</th>\n",
       "      <th>ocean_proximity_nan</th>\n",
       "    </tr>\n",
       "  </thead>\n",
       "  <tbody>\n",
       "    <tr>\n",
       "      <th>3479</th>\n",
       "      <td>118.51</td>\n",
       "      <td>34.29</td>\n",
       "      <td>29.0</td>\n",
       "      <td>1287.0</td>\n",
       "      <td>194.0</td>\n",
       "      <td>525.0</td>\n",
       "      <td>187.0</td>\n",
       "      <td>6.4171</td>\n",
       "      <td>319300.0</td>\n",
       "      <td>&lt;1H OCEAN</td>\n",
       "      <td>3479</td>\n",
       "      <td>0</td>\n",
       "      <td>0</td>\n",
       "    </tr>\n",
       "    <tr>\n",
       "      <th>5904</th>\n",
       "      <td>118.43</td>\n",
       "      <td>34.29</td>\n",
       "      <td>39.0</td>\n",
       "      <td>1769.0</td>\n",
       "      <td>410.0</td>\n",
       "      <td>1499.0</td>\n",
       "      <td>390.0</td>\n",
       "      <td>3.1212</td>\n",
       "      <td>153500.0</td>\n",
       "      <td>&lt;1H OCEAN</td>\n",
       "      <td>5904</td>\n",
       "      <td>0</td>\n",
       "      <td>0</td>\n",
       "    </tr>\n",
       "    <tr>\n",
       "      <th>8405</th>\n",
       "      <td>118.36</td>\n",
       "      <td>33.93</td>\n",
       "      <td>40.0</td>\n",
       "      <td>1625.0</td>\n",
       "      <td>500.0</td>\n",
       "      <td>2036.0</td>\n",
       "      <td>476.0</td>\n",
       "      <td>2.6298</td>\n",
       "      <td>156500.0</td>\n",
       "      <td>&lt;1H OCEAN</td>\n",
       "      <td>8405</td>\n",
       "      <td>0</td>\n",
       "      <td>0</td>\n",
       "    </tr>\n",
       "    <tr>\n",
       "      <th>8636</th>\n",
       "      <td>118.41</td>\n",
       "      <td>33.88</td>\n",
       "      <td>43.0</td>\n",
       "      <td>2492.0</td>\n",
       "      <td>449.0</td>\n",
       "      <td>1033.0</td>\n",
       "      <td>437.0</td>\n",
       "      <td>7.9614</td>\n",
       "      <td>500001.0</td>\n",
       "      <td>&lt;1H OCEAN</td>\n",
       "      <td>8636</td>\n",
       "      <td>0</td>\n",
       "      <td>0</td>\n",
       "    </tr>\n",
       "    <tr>\n",
       "      <th>13051</th>\n",
       "      <td>121.29</td>\n",
       "      <td>38.61</td>\n",
       "      <td>17.0</td>\n",
       "      <td>13553.0</td>\n",
       "      <td>2474.0</td>\n",
       "      <td>6544.0</td>\n",
       "      <td>2359.0</td>\n",
       "      <td>3.9727</td>\n",
       "      <td>132700.0</td>\n",
       "      <td>INLAND</td>\n",
       "      <td>13051</td>\n",
       "      <td>0</td>\n",
       "      <td>0</td>\n",
       "    </tr>\n",
       "    <tr>\n",
       "      <th>15263</th>\n",
       "      <td>117.27</td>\n",
       "      <td>33.02</td>\n",
       "      <td>21.0</td>\n",
       "      <td>2144.0</td>\n",
       "      <td>340.0</td>\n",
       "      <td>928.0</td>\n",
       "      <td>344.0</td>\n",
       "      <td>5.7980</td>\n",
       "      <td>286100.0</td>\n",
       "      <td>NEAR OCEAN</td>\n",
       "      <td>15263</td>\n",
       "      <td>0</td>\n",
       "      <td>0</td>\n",
       "    </tr>\n",
       "    <tr>\n",
       "      <th>17085</th>\n",
       "      <td>0.00</td>\n",
       "      <td>37.47</td>\n",
       "      <td>33.0</td>\n",
       "      <td>1266.0</td>\n",
       "      <td>415.0</td>\n",
       "      <td>1991.0</td>\n",
       "      <td>334.0</td>\n",
       "      <td>2.9200</td>\n",
       "      <td>202800.0</td>\n",
       "      <td>NEAR OCEAN</td>\n",
       "      <td>17085</td>\n",
       "      <td>0</td>\n",
       "      <td>0</td>\n",
       "    </tr>\n",
       "    <tr>\n",
       "      <th>17359</th>\n",
       "      <td>0.00</td>\n",
       "      <td>34.88</td>\n",
       "      <td>4.0</td>\n",
       "      <td>3680.0</td>\n",
       "      <td>559.0</td>\n",
       "      <td>1678.0</td>\n",
       "      <td>569.0</td>\n",
       "      <td>5.0639</td>\n",
       "      <td>201700.0</td>\n",
       "      <td>&lt;1H OCEAN</td>\n",
       "      <td>17359</td>\n",
       "      <td>0</td>\n",
       "      <td>0</td>\n",
       "    </tr>\n",
       "    <tr>\n",
       "      <th>18551</th>\n",
       "      <td>122.03</td>\n",
       "      <td>36.96</td>\n",
       "      <td>28.0</td>\n",
       "      <td>1607.0</td>\n",
       "      <td>421.0</td>\n",
       "      <td>926.0</td>\n",
       "      <td>385.0</td>\n",
       "      <td>2.4250</td>\n",
       "      <td>216100.0</td>\n",
       "      <td>NEAR OCEAN</td>\n",
       "      <td>18551</td>\n",
       "      <td>0</td>\n",
       "      <td>0</td>\n",
       "    </tr>\n",
       "    <tr>\n",
       "      <th>19423</th>\n",
       "      <td>0.00</td>\n",
       "      <td>37.69</td>\n",
       "      <td>5.0</td>\n",
       "      <td>9601.0</td>\n",
       "      <td>1639.0</td>\n",
       "      <td>4449.0</td>\n",
       "      <td>1575.0</td>\n",
       "      <td>4.5332</td>\n",
       "      <td>195500.0</td>\n",
       "      <td>INLAND</td>\n",
       "      <td>19423</td>\n",
       "      <td>0</td>\n",
       "      <td>0</td>\n",
       "    </tr>\n",
       "  </tbody>\n",
       "</table>\n",
       "</div>"
      ],
      "text/plain": [
       "       longitude  latitude  housing_median_age  total_rooms  total_bedrooms  \\\n",
       "3479      118.51     34.29                29.0       1287.0           194.0   \n",
       "5904      118.43     34.29                39.0       1769.0           410.0   \n",
       "8405      118.36     33.93                40.0       1625.0           500.0   \n",
       "8636      118.41     33.88                43.0       2492.0           449.0   \n",
       "13051     121.29     38.61                17.0      13553.0          2474.0   \n",
       "15263     117.27     33.02                21.0       2144.0           340.0   \n",
       "17085       0.00     37.47                33.0       1266.0           415.0   \n",
       "17359       0.00     34.88                 4.0       3680.0           559.0   \n",
       "18551     122.03     36.96                28.0       1607.0           421.0   \n",
       "19423       0.00     37.69                 5.0       9601.0          1639.0   \n",
       "\n",
       "       population  households  median_income  median_house_value  \\\n",
       "3479        525.0       187.0         6.4171            319300.0   \n",
       "5904       1499.0       390.0         3.1212            153500.0   \n",
       "8405       2036.0       476.0         2.6298            156500.0   \n",
       "8636       1033.0       437.0         7.9614            500001.0   \n",
       "13051      6544.0      2359.0         3.9727            132700.0   \n",
       "15263       928.0       344.0         5.7980            286100.0   \n",
       "17085      1991.0       334.0         2.9200            202800.0   \n",
       "17359      1678.0       569.0         5.0639            201700.0   \n",
       "18551       926.0       385.0         2.4250            216100.0   \n",
       "19423      4449.0      1575.0         4.5332            195500.0   \n",
       "\n",
       "      ocean_proximity     id  housing_median_age_nan  ocean_proximity_nan  \n",
       "3479        <1H OCEAN   3479                       0                    0  \n",
       "5904        <1H OCEAN   5904                       0                    0  \n",
       "8405        <1H OCEAN   8405                       0                    0  \n",
       "8636        <1H OCEAN   8636                       0                    0  \n",
       "13051          INLAND  13051                       0                    0  \n",
       "15263      NEAR OCEAN  15263                       0                    0  \n",
       "17085      NEAR OCEAN  17085                       0                    0  \n",
       "17359       <1H OCEAN  17359                       0                    0  \n",
       "18551      NEAR OCEAN  18551                       0                    0  \n",
       "19423          INLAND  19423                       0                    0  "
      ]
     },
     "execution_count": 140,
     "metadata": {},
     "output_type": "execute_result"
    }
   ],
   "source": [
    "df[df['longitude'] >= 0]"
   ]
  },
  {
   "cell_type": "code",
   "execution_count": 141,
   "metadata": {},
   "outputs": [],
   "source": [
    "df['longitude_outlier'] = 0\n",
    "df.loc[df['longitude'] >= 0, 'longitude_outlier'] = 1"
   ]
  },
  {
   "cell_type": "code",
   "execution_count": 142,
   "metadata": {},
   "outputs": [
    {
     "data": {
      "text/html": [
       "<div>\n",
       "<style scoped>\n",
       "    .dataframe tbody tr th:only-of-type {\n",
       "        vertical-align: middle;\n",
       "    }\n",
       "\n",
       "    .dataframe tbody tr th {\n",
       "        vertical-align: top;\n",
       "    }\n",
       "\n",
       "    .dataframe thead th {\n",
       "        text-align: right;\n",
       "    }\n",
       "</style>\n",
       "<table border=\"1\" class=\"dataframe\">\n",
       "  <thead>\n",
       "    <tr style=\"text-align: right;\">\n",
       "      <th></th>\n",
       "      <th>longitude</th>\n",
       "      <th>latitude</th>\n",
       "      <th>housing_median_age</th>\n",
       "      <th>total_rooms</th>\n",
       "      <th>total_bedrooms</th>\n",
       "      <th>population</th>\n",
       "      <th>households</th>\n",
       "      <th>median_income</th>\n",
       "      <th>median_house_value</th>\n",
       "      <th>ocean_proximity</th>\n",
       "      <th>id</th>\n",
       "      <th>housing_median_age_nan</th>\n",
       "      <th>ocean_proximity_nan</th>\n",
       "      <th>longitude_outlier</th>\n",
       "    </tr>\n",
       "  </thead>\n",
       "  <tbody>\n",
       "    <tr>\n",
       "      <th>3479</th>\n",
       "      <td>118.51</td>\n",
       "      <td>34.29</td>\n",
       "      <td>29.0</td>\n",
       "      <td>1287.0</td>\n",
       "      <td>194.0</td>\n",
       "      <td>525.0</td>\n",
       "      <td>187.0</td>\n",
       "      <td>6.4171</td>\n",
       "      <td>319300.0</td>\n",
       "      <td>&lt;1H OCEAN</td>\n",
       "      <td>3479</td>\n",
       "      <td>0</td>\n",
       "      <td>0</td>\n",
       "      <td>1</td>\n",
       "    </tr>\n",
       "    <tr>\n",
       "      <th>5904</th>\n",
       "      <td>118.43</td>\n",
       "      <td>34.29</td>\n",
       "      <td>39.0</td>\n",
       "      <td>1769.0</td>\n",
       "      <td>410.0</td>\n",
       "      <td>1499.0</td>\n",
       "      <td>390.0</td>\n",
       "      <td>3.1212</td>\n",
       "      <td>153500.0</td>\n",
       "      <td>&lt;1H OCEAN</td>\n",
       "      <td>5904</td>\n",
       "      <td>0</td>\n",
       "      <td>0</td>\n",
       "      <td>1</td>\n",
       "    </tr>\n",
       "    <tr>\n",
       "      <th>8405</th>\n",
       "      <td>118.36</td>\n",
       "      <td>33.93</td>\n",
       "      <td>40.0</td>\n",
       "      <td>1625.0</td>\n",
       "      <td>500.0</td>\n",
       "      <td>2036.0</td>\n",
       "      <td>476.0</td>\n",
       "      <td>2.6298</td>\n",
       "      <td>156500.0</td>\n",
       "      <td>&lt;1H OCEAN</td>\n",
       "      <td>8405</td>\n",
       "      <td>0</td>\n",
       "      <td>0</td>\n",
       "      <td>1</td>\n",
       "    </tr>\n",
       "    <tr>\n",
       "      <th>8636</th>\n",
       "      <td>118.41</td>\n",
       "      <td>33.88</td>\n",
       "      <td>43.0</td>\n",
       "      <td>2492.0</td>\n",
       "      <td>449.0</td>\n",
       "      <td>1033.0</td>\n",
       "      <td>437.0</td>\n",
       "      <td>7.9614</td>\n",
       "      <td>500001.0</td>\n",
       "      <td>&lt;1H OCEAN</td>\n",
       "      <td>8636</td>\n",
       "      <td>0</td>\n",
       "      <td>0</td>\n",
       "      <td>1</td>\n",
       "    </tr>\n",
       "    <tr>\n",
       "      <th>13051</th>\n",
       "      <td>121.29</td>\n",
       "      <td>38.61</td>\n",
       "      <td>17.0</td>\n",
       "      <td>13553.0</td>\n",
       "      <td>2474.0</td>\n",
       "      <td>6544.0</td>\n",
       "      <td>2359.0</td>\n",
       "      <td>3.9727</td>\n",
       "      <td>132700.0</td>\n",
       "      <td>INLAND</td>\n",
       "      <td>13051</td>\n",
       "      <td>0</td>\n",
       "      <td>0</td>\n",
       "      <td>1</td>\n",
       "    </tr>\n",
       "    <tr>\n",
       "      <th>15263</th>\n",
       "      <td>117.27</td>\n",
       "      <td>33.02</td>\n",
       "      <td>21.0</td>\n",
       "      <td>2144.0</td>\n",
       "      <td>340.0</td>\n",
       "      <td>928.0</td>\n",
       "      <td>344.0</td>\n",
       "      <td>5.7980</td>\n",
       "      <td>286100.0</td>\n",
       "      <td>NEAR OCEAN</td>\n",
       "      <td>15263</td>\n",
       "      <td>0</td>\n",
       "      <td>0</td>\n",
       "      <td>1</td>\n",
       "    </tr>\n",
       "    <tr>\n",
       "      <th>17085</th>\n",
       "      <td>0.00</td>\n",
       "      <td>37.47</td>\n",
       "      <td>33.0</td>\n",
       "      <td>1266.0</td>\n",
       "      <td>415.0</td>\n",
       "      <td>1991.0</td>\n",
       "      <td>334.0</td>\n",
       "      <td>2.9200</td>\n",
       "      <td>202800.0</td>\n",
       "      <td>NEAR OCEAN</td>\n",
       "      <td>17085</td>\n",
       "      <td>0</td>\n",
       "      <td>0</td>\n",
       "      <td>1</td>\n",
       "    </tr>\n",
       "    <tr>\n",
       "      <th>17359</th>\n",
       "      <td>0.00</td>\n",
       "      <td>34.88</td>\n",
       "      <td>4.0</td>\n",
       "      <td>3680.0</td>\n",
       "      <td>559.0</td>\n",
       "      <td>1678.0</td>\n",
       "      <td>569.0</td>\n",
       "      <td>5.0639</td>\n",
       "      <td>201700.0</td>\n",
       "      <td>&lt;1H OCEAN</td>\n",
       "      <td>17359</td>\n",
       "      <td>0</td>\n",
       "      <td>0</td>\n",
       "      <td>1</td>\n",
       "    </tr>\n",
       "    <tr>\n",
       "      <th>18551</th>\n",
       "      <td>122.03</td>\n",
       "      <td>36.96</td>\n",
       "      <td>28.0</td>\n",
       "      <td>1607.0</td>\n",
       "      <td>421.0</td>\n",
       "      <td>926.0</td>\n",
       "      <td>385.0</td>\n",
       "      <td>2.4250</td>\n",
       "      <td>216100.0</td>\n",
       "      <td>NEAR OCEAN</td>\n",
       "      <td>18551</td>\n",
       "      <td>0</td>\n",
       "      <td>0</td>\n",
       "      <td>1</td>\n",
       "    </tr>\n",
       "    <tr>\n",
       "      <th>19423</th>\n",
       "      <td>0.00</td>\n",
       "      <td>37.69</td>\n",
       "      <td>5.0</td>\n",
       "      <td>9601.0</td>\n",
       "      <td>1639.0</td>\n",
       "      <td>4449.0</td>\n",
       "      <td>1575.0</td>\n",
       "      <td>4.5332</td>\n",
       "      <td>195500.0</td>\n",
       "      <td>INLAND</td>\n",
       "      <td>19423</td>\n",
       "      <td>0</td>\n",
       "      <td>0</td>\n",
       "      <td>1</td>\n",
       "    </tr>\n",
       "  </tbody>\n",
       "</table>\n",
       "</div>"
      ],
      "text/plain": [
       "       longitude  latitude  housing_median_age  total_rooms  total_bedrooms  \\\n",
       "3479      118.51     34.29                29.0       1287.0           194.0   \n",
       "5904      118.43     34.29                39.0       1769.0           410.0   \n",
       "8405      118.36     33.93                40.0       1625.0           500.0   \n",
       "8636      118.41     33.88                43.0       2492.0           449.0   \n",
       "13051     121.29     38.61                17.0      13553.0          2474.0   \n",
       "15263     117.27     33.02                21.0       2144.0           340.0   \n",
       "17085       0.00     37.47                33.0       1266.0           415.0   \n",
       "17359       0.00     34.88                 4.0       3680.0           559.0   \n",
       "18551     122.03     36.96                28.0       1607.0           421.0   \n",
       "19423       0.00     37.69                 5.0       9601.0          1639.0   \n",
       "\n",
       "       population  households  median_income  median_house_value  \\\n",
       "3479        525.0       187.0         6.4171            319300.0   \n",
       "5904       1499.0       390.0         3.1212            153500.0   \n",
       "8405       2036.0       476.0         2.6298            156500.0   \n",
       "8636       1033.0       437.0         7.9614            500001.0   \n",
       "13051      6544.0      2359.0         3.9727            132700.0   \n",
       "15263       928.0       344.0         5.7980            286100.0   \n",
       "17085      1991.0       334.0         2.9200            202800.0   \n",
       "17359      1678.0       569.0         5.0639            201700.0   \n",
       "18551       926.0       385.0         2.4250            216100.0   \n",
       "19423      4449.0      1575.0         4.5332            195500.0   \n",
       "\n",
       "      ocean_proximity     id  housing_median_age_nan  ocean_proximity_nan  \\\n",
       "3479        <1H OCEAN   3479                       0                    0   \n",
       "5904        <1H OCEAN   5904                       0                    0   \n",
       "8405        <1H OCEAN   8405                       0                    0   \n",
       "8636        <1H OCEAN   8636                       0                    0   \n",
       "13051          INLAND  13051                       0                    0   \n",
       "15263      NEAR OCEAN  15263                       0                    0   \n",
       "17085      NEAR OCEAN  17085                       0                    0   \n",
       "17359       <1H OCEAN  17359                       0                    0   \n",
       "18551      NEAR OCEAN  18551                       0                    0   \n",
       "19423          INLAND  19423                       0                    0   \n",
       "\n",
       "       longitude_outlier  \n",
       "3479                   1  \n",
       "5904                   1  \n",
       "8405                   1  \n",
       "8636                   1  \n",
       "13051                  1  \n",
       "15263                  1  \n",
       "17085                  1  \n",
       "17359                  1  \n",
       "18551                  1  \n",
       "19423                  1  "
      ]
     },
     "execution_count": 142,
     "metadata": {},
     "output_type": "execute_result"
    }
   ],
   "source": [
    "df[df['longitude'] >= 0]"
   ]
  },
  {
   "cell_type": "code",
   "execution_count": 143,
   "metadata": {
    "colab": {
     "base_uri": "https://localhost:8080/",
     "height": 156
    },
    "colab_type": "code",
    "id": "806vTOe6bxqf",
    "outputId": "c530103d-e14c-4797-85ce-f622f8e59000"
   },
   "outputs": [
    {
     "data": {
      "text/plain": [
       "3479    -118.51\n",
       "5904    -118.43\n",
       "8405    -118.36\n",
       "8636    -118.41\n",
       "13051   -121.29\n",
       "15263   -117.27\n",
       "18551   -122.03\n",
       "Name: longitude, dtype: float64"
      ]
     },
     "execution_count": 143,
     "metadata": {},
     "output_type": "execute_result"
    }
   ],
   "source": [
    "df.loc[df['longitude'] > 0, 'longitude'] * -1"
   ]
  },
  {
   "cell_type": "code",
   "execution_count": 144,
   "metadata": {
    "colab": {},
    "colab_type": "code",
    "id": "U4Fsl2eTuM51"
   },
   "outputs": [],
   "source": [
    "df.loc[df['longitude'] > 0, 'longitude'] = df.loc[df['longitude'] > 0, 'longitude'] * -1"
   ]
  },
  {
   "cell_type": "code",
   "execution_count": 145,
   "metadata": {
    "colab": {},
    "colab_type": "code",
    "id": "utLQsdaruM54"
   },
   "outputs": [],
   "source": [
    "df.loc[df['longitude'] == 0, 'longitude'] = df['longitude'].median()"
   ]
  },
  {
   "cell_type": "code",
   "execution_count": 146,
   "metadata": {},
   "outputs": [
    {
     "data": {
      "text/html": [
       "<div>\n",
       "<style scoped>\n",
       "    .dataframe tbody tr th:only-of-type {\n",
       "        vertical-align: middle;\n",
       "    }\n",
       "\n",
       "    .dataframe tbody tr th {\n",
       "        vertical-align: top;\n",
       "    }\n",
       "\n",
       "    .dataframe thead th {\n",
       "        text-align: right;\n",
       "    }\n",
       "</style>\n",
       "<table border=\"1\" class=\"dataframe\">\n",
       "  <thead>\n",
       "    <tr style=\"text-align: right;\">\n",
       "      <th></th>\n",
       "      <th>longitude</th>\n",
       "      <th>latitude</th>\n",
       "      <th>housing_median_age</th>\n",
       "      <th>total_rooms</th>\n",
       "      <th>total_bedrooms</th>\n",
       "      <th>population</th>\n",
       "      <th>households</th>\n",
       "      <th>median_income</th>\n",
       "      <th>median_house_value</th>\n",
       "      <th>ocean_proximity</th>\n",
       "      <th>id</th>\n",
       "      <th>housing_median_age_nan</th>\n",
       "      <th>ocean_proximity_nan</th>\n",
       "      <th>longitude_outlier</th>\n",
       "    </tr>\n",
       "  </thead>\n",
       "  <tbody>\n",
       "  </tbody>\n",
       "</table>\n",
       "</div>"
      ],
      "text/plain": [
       "Empty DataFrame\n",
       "Columns: [longitude, latitude, housing_median_age, total_rooms, total_bedrooms, population, households, median_income, median_house_value, ocean_proximity, id, housing_median_age_nan, ocean_proximity_nan, longitude_outlier]\n",
       "Index: []"
      ]
     },
     "execution_count": 146,
     "metadata": {},
     "output_type": "execute_result"
    }
   ],
   "source": [
    "df[df['longitude'] >= 0]"
   ]
  },
  {
   "cell_type": "markdown",
   "metadata": {
    "colab_type": "text",
    "id": "araVM1Z-uM58"
   },
   "source": [
    "**latitude**"
   ]
  },
  {
   "cell_type": "code",
   "execution_count": 147,
   "metadata": {
    "colab": {
     "base_uri": "https://localhost:8080/",
     "height": 112
    },
    "colab_type": "code",
    "id": "iU52t0UquM59",
    "outputId": "c790c937-db99-459f-a76a-ce2c7a038173"
   },
   "outputs": [
    {
     "data": {
      "text/html": [
       "<div>\n",
       "<style scoped>\n",
       "    .dataframe tbody tr th:only-of-type {\n",
       "        vertical-align: middle;\n",
       "    }\n",
       "\n",
       "    .dataframe tbody tr th {\n",
       "        vertical-align: top;\n",
       "    }\n",
       "\n",
       "    .dataframe thead th {\n",
       "        text-align: right;\n",
       "    }\n",
       "</style>\n",
       "<table border=\"1\" class=\"dataframe\">\n",
       "  <thead>\n",
       "    <tr style=\"text-align: right;\">\n",
       "      <th></th>\n",
       "      <th>longitude</th>\n",
       "      <th>latitude</th>\n",
       "      <th>housing_median_age</th>\n",
       "      <th>total_rooms</th>\n",
       "      <th>total_bedrooms</th>\n",
       "      <th>population</th>\n",
       "      <th>households</th>\n",
       "      <th>median_income</th>\n",
       "      <th>median_house_value</th>\n",
       "      <th>ocean_proximity</th>\n",
       "      <th>id</th>\n",
       "      <th>housing_median_age_nan</th>\n",
       "      <th>ocean_proximity_nan</th>\n",
       "      <th>longitude_outlier</th>\n",
       "    </tr>\n",
       "  </thead>\n",
       "  <tbody>\n",
       "    <tr>\n",
       "      <th>8283</th>\n",
       "      <td>-118.13</td>\n",
       "      <td>-13534.03</td>\n",
       "      <td>45.0</td>\n",
       "      <td>1016.0</td>\n",
       "      <td>172.0</td>\n",
       "      <td>361.0</td>\n",
       "      <td>163.0</td>\n",
       "      <td>7.5000</td>\n",
       "      <td>434500.0</td>\n",
       "      <td>NEAR OCEAN</td>\n",
       "      <td>8283</td>\n",
       "      <td>0</td>\n",
       "      <td>0</td>\n",
       "      <td>0</td>\n",
       "    </tr>\n",
       "    <tr>\n",
       "      <th>12772</th>\n",
       "      <td>-121.42</td>\n",
       "      <td>1327.13</td>\n",
       "      <td>29.0</td>\n",
       "      <td>2217.0</td>\n",
       "      <td>536.0</td>\n",
       "      <td>1203.0</td>\n",
       "      <td>507.0</td>\n",
       "      <td>1.9412</td>\n",
       "      <td>73100.0</td>\n",
       "      <td>INLAND</td>\n",
       "      <td>12772</td>\n",
       "      <td>1</td>\n",
       "      <td>0</td>\n",
       "      <td>0</td>\n",
       "    </tr>\n",
       "  </tbody>\n",
       "</table>\n",
       "</div>"
      ],
      "text/plain": [
       "       longitude  latitude  housing_median_age  total_rooms  total_bedrooms  \\\n",
       "8283     -118.13 -13534.03                45.0       1016.0           172.0   \n",
       "12772    -121.42   1327.13                29.0       2217.0           536.0   \n",
       "\n",
       "       population  households  median_income  median_house_value  \\\n",
       "8283        361.0       163.0         7.5000            434500.0   \n",
       "12772      1203.0       507.0         1.9412             73100.0   \n",
       "\n",
       "      ocean_proximity     id  housing_median_age_nan  ocean_proximity_nan  \\\n",
       "8283       NEAR OCEAN   8283                       0                    0   \n",
       "12772          INLAND  12772                       1                    0   \n",
       "\n",
       "       longitude_outlier  \n",
       "8283                   0  \n",
       "12772                  0  "
      ]
     },
     "execution_count": 147,
     "metadata": {},
     "output_type": "execute_result"
    }
   ],
   "source": [
    "df[(df['latitude'] <= 0) | (df['latitude'] > 50)]"
   ]
  },
  {
   "cell_type": "code",
   "execution_count": 148,
   "metadata": {},
   "outputs": [],
   "source": [
    "df['latitude_outlier'] = 0\n",
    "df.loc[(df['latitude'] <= 0) | (df['latitude'] > 50), 'latitude_outlier'] = 1"
   ]
  },
  {
   "cell_type": "code",
   "execution_count": 149,
   "metadata": {},
   "outputs": [
    {
     "data": {
      "text/html": [
       "<div>\n",
       "<style scoped>\n",
       "    .dataframe tbody tr th:only-of-type {\n",
       "        vertical-align: middle;\n",
       "    }\n",
       "\n",
       "    .dataframe tbody tr th {\n",
       "        vertical-align: top;\n",
       "    }\n",
       "\n",
       "    .dataframe thead th {\n",
       "        text-align: right;\n",
       "    }\n",
       "</style>\n",
       "<table border=\"1\" class=\"dataframe\">\n",
       "  <thead>\n",
       "    <tr style=\"text-align: right;\">\n",
       "      <th></th>\n",
       "      <th>longitude</th>\n",
       "      <th>latitude</th>\n",
       "      <th>housing_median_age</th>\n",
       "      <th>total_rooms</th>\n",
       "      <th>total_bedrooms</th>\n",
       "      <th>population</th>\n",
       "      <th>households</th>\n",
       "      <th>median_income</th>\n",
       "      <th>median_house_value</th>\n",
       "      <th>ocean_proximity</th>\n",
       "      <th>id</th>\n",
       "      <th>housing_median_age_nan</th>\n",
       "      <th>ocean_proximity_nan</th>\n",
       "      <th>longitude_outlier</th>\n",
       "      <th>latitude_outlier</th>\n",
       "    </tr>\n",
       "  </thead>\n",
       "  <tbody>\n",
       "    <tr>\n",
       "      <th>8283</th>\n",
       "      <td>-118.13</td>\n",
       "      <td>-13534.03</td>\n",
       "      <td>45.0</td>\n",
       "      <td>1016.0</td>\n",
       "      <td>172.0</td>\n",
       "      <td>361.0</td>\n",
       "      <td>163.0</td>\n",
       "      <td>7.5000</td>\n",
       "      <td>434500.0</td>\n",
       "      <td>NEAR OCEAN</td>\n",
       "      <td>8283</td>\n",
       "      <td>0</td>\n",
       "      <td>0</td>\n",
       "      <td>0</td>\n",
       "      <td>1</td>\n",
       "    </tr>\n",
       "    <tr>\n",
       "      <th>12772</th>\n",
       "      <td>-121.42</td>\n",
       "      <td>1327.13</td>\n",
       "      <td>29.0</td>\n",
       "      <td>2217.0</td>\n",
       "      <td>536.0</td>\n",
       "      <td>1203.0</td>\n",
       "      <td>507.0</td>\n",
       "      <td>1.9412</td>\n",
       "      <td>73100.0</td>\n",
       "      <td>INLAND</td>\n",
       "      <td>12772</td>\n",
       "      <td>1</td>\n",
       "      <td>0</td>\n",
       "      <td>0</td>\n",
       "      <td>1</td>\n",
       "    </tr>\n",
       "  </tbody>\n",
       "</table>\n",
       "</div>"
      ],
      "text/plain": [
       "       longitude  latitude  housing_median_age  total_rooms  total_bedrooms  \\\n",
       "8283     -118.13 -13534.03                45.0       1016.0           172.0   \n",
       "12772    -121.42   1327.13                29.0       2217.0           536.0   \n",
       "\n",
       "       population  households  median_income  median_house_value  \\\n",
       "8283        361.0       163.0         7.5000            434500.0   \n",
       "12772      1203.0       507.0         1.9412             73100.0   \n",
       "\n",
       "      ocean_proximity     id  housing_median_age_nan  ocean_proximity_nan  \\\n",
       "8283       NEAR OCEAN   8283                       0                    0   \n",
       "12772          INLAND  12772                       1                    0   \n",
       "\n",
       "       longitude_outlier  latitude_outlier  \n",
       "8283                   0                 1  \n",
       "12772                  0                 1  "
      ]
     },
     "execution_count": 149,
     "metadata": {},
     "output_type": "execute_result"
    }
   ],
   "source": [
    "df[(df['latitude'] <= 0) | (df['latitude'] > 50)]"
   ]
  },
  {
   "cell_type": "code",
   "execution_count": 150,
   "metadata": {
    "colab": {},
    "colab_type": "code",
    "id": "ei44pMpGuM5_"
   },
   "outputs": [],
   "source": [
    "df.loc[(df['latitude'] <= 0) | (df['latitude'] > 50), 'latitude'] = df['latitude'].median()"
   ]
  },
  {
   "cell_type": "code",
   "execution_count": 151,
   "metadata": {},
   "outputs": [
    {
     "data": {
      "text/html": [
       "<div>\n",
       "<style scoped>\n",
       "    .dataframe tbody tr th:only-of-type {\n",
       "        vertical-align: middle;\n",
       "    }\n",
       "\n",
       "    .dataframe tbody tr th {\n",
       "        vertical-align: top;\n",
       "    }\n",
       "\n",
       "    .dataframe thead th {\n",
       "        text-align: right;\n",
       "    }\n",
       "</style>\n",
       "<table border=\"1\" class=\"dataframe\">\n",
       "  <thead>\n",
       "    <tr style=\"text-align: right;\">\n",
       "      <th></th>\n",
       "      <th>longitude</th>\n",
       "      <th>latitude</th>\n",
       "      <th>housing_median_age</th>\n",
       "      <th>total_rooms</th>\n",
       "      <th>total_bedrooms</th>\n",
       "      <th>population</th>\n",
       "      <th>households</th>\n",
       "      <th>median_income</th>\n",
       "      <th>median_house_value</th>\n",
       "      <th>ocean_proximity</th>\n",
       "      <th>id</th>\n",
       "      <th>housing_median_age_nan</th>\n",
       "      <th>ocean_proximity_nan</th>\n",
       "      <th>longitude_outlier</th>\n",
       "      <th>latitude_outlier</th>\n",
       "    </tr>\n",
       "  </thead>\n",
       "  <tbody>\n",
       "  </tbody>\n",
       "</table>\n",
       "</div>"
      ],
      "text/plain": [
       "Empty DataFrame\n",
       "Columns: [longitude, latitude, housing_median_age, total_rooms, total_bedrooms, population, households, median_income, median_house_value, ocean_proximity, id, housing_median_age_nan, ocean_proximity_nan, longitude_outlier, latitude_outlier]\n",
       "Index: []"
      ]
     },
     "execution_count": 151,
     "metadata": {},
     "output_type": "execute_result"
    }
   ],
   "source": [
    "df[(df['latitude'] <= 0) | (df['latitude'] > 50)]"
   ]
  },
  {
   "cell_type": "markdown",
   "metadata": {},
   "source": [
    "**total_rooms**\n",
    "\n",
    "Найдем выбросы с помощью квантилей. Наблюдения, значения которых больше 97,5% квантиля и которые меньше 2,5% квантиля будем считать выбросами и заменять на медиану."
   ]
  },
  {
   "cell_type": "code",
   "execution_count": 152,
   "metadata": {},
   "outputs": [
    {
     "data": {
      "text/plain": [
       "count    20640.000000\n",
       "mean      2635.763081\n",
       "std       2181.615252\n",
       "min          2.000000\n",
       "25%       1447.750000\n",
       "50%       2127.000000\n",
       "75%       3148.000000\n",
       "max      39320.000000\n",
       "Name: total_rooms, dtype: float64"
      ]
     },
     "execution_count": 152,
     "metadata": {},
     "output_type": "execute_result"
    }
   ],
   "source": [
    "df['total_rooms'].describe()"
   ]
  },
  {
   "cell_type": "code",
   "execution_count": 153,
   "metadata": {},
   "outputs": [
    {
     "data": {
      "text/plain": [
       "8069.074999999993"
      ]
     },
     "execution_count": 153,
     "metadata": {},
     "output_type": "execute_result"
    }
   ],
   "source": [
    "total_rooms_max_value = np.quantile(df['total_rooms'], q=0.975)\n",
    "total_rooms_max_value"
   ]
  },
  {
   "cell_type": "code",
   "execution_count": 154,
   "metadata": {},
   "outputs": [
    {
     "data": {
      "text/plain": [
       "370.975"
      ]
     },
     "execution_count": 154,
     "metadata": {},
     "output_type": "execute_result"
    }
   ],
   "source": [
    "total_rooms_min_value = np.quantile(df['total_rooms'], q=0.025)\n",
    "total_rooms_min_value"
   ]
  },
  {
   "cell_type": "code",
   "execution_count": 155,
   "metadata": {},
   "outputs": [
    {
     "data": {
      "text/html": [
       "<div>\n",
       "<style scoped>\n",
       "    .dataframe tbody tr th:only-of-type {\n",
       "        vertical-align: middle;\n",
       "    }\n",
       "\n",
       "    .dataframe tbody tr th {\n",
       "        vertical-align: top;\n",
       "    }\n",
       "\n",
       "    .dataframe thead th {\n",
       "        text-align: right;\n",
       "    }\n",
       "</style>\n",
       "<table border=\"1\" class=\"dataframe\">\n",
       "  <thead>\n",
       "    <tr style=\"text-align: right;\">\n",
       "      <th></th>\n",
       "      <th>longitude</th>\n",
       "      <th>latitude</th>\n",
       "      <th>housing_median_age</th>\n",
       "      <th>total_rooms</th>\n",
       "      <th>total_bedrooms</th>\n",
       "      <th>population</th>\n",
       "      <th>households</th>\n",
       "      <th>median_income</th>\n",
       "      <th>median_house_value</th>\n",
       "      <th>ocean_proximity</th>\n",
       "      <th>id</th>\n",
       "      <th>housing_median_age_nan</th>\n",
       "      <th>ocean_proximity_nan</th>\n",
       "      <th>longitude_outlier</th>\n",
       "      <th>latitude_outlier</th>\n",
       "    </tr>\n",
       "  </thead>\n",
       "  <tbody>\n",
       "    <tr>\n",
       "      <th>59</th>\n",
       "      <td>-122.29</td>\n",
       "      <td>37.82</td>\n",
       "      <td>2.0</td>\n",
       "      <td>158.0</td>\n",
       "      <td>43.0</td>\n",
       "      <td>94.0</td>\n",
       "      <td>57.0</td>\n",
       "      <td>2.5625</td>\n",
       "      <td>60000.0</td>\n",
       "      <td>NEAR BAY</td>\n",
       "      <td>59</td>\n",
       "      <td>0</td>\n",
       "      <td>0</td>\n",
       "      <td>0</td>\n",
       "      <td>0</td>\n",
       "    </tr>\n",
       "    <tr>\n",
       "      <th>61</th>\n",
       "      <td>-122.29</td>\n",
       "      <td>37.82</td>\n",
       "      <td>49.0</td>\n",
       "      <td>135.0</td>\n",
       "      <td>29.0</td>\n",
       "      <td>86.0</td>\n",
       "      <td>23.0</td>\n",
       "      <td>6.1183</td>\n",
       "      <td>75000.0</td>\n",
       "      <td>NEAR BAY</td>\n",
       "      <td>61</td>\n",
       "      <td>0</td>\n",
       "      <td>0</td>\n",
       "      <td>0</td>\n",
       "      <td>0</td>\n",
       "    </tr>\n",
       "    <tr>\n",
       "      <th>73</th>\n",
       "      <td>-122.29</td>\n",
       "      <td>37.81</td>\n",
       "      <td>46.0</td>\n",
       "      <td>12.0</td>\n",
       "      <td>4.0</td>\n",
       "      <td>18.0</td>\n",
       "      <td>7.0</td>\n",
       "      <td>0.4999</td>\n",
       "      <td>67500.0</td>\n",
       "      <td>NEAR BAY</td>\n",
       "      <td>73</td>\n",
       "      <td>0</td>\n",
       "      <td>0</td>\n",
       "      <td>0</td>\n",
       "      <td>0</td>\n",
       "    </tr>\n",
       "    <tr>\n",
       "      <th>81</th>\n",
       "      <td>-122.27</td>\n",
       "      <td>37.81</td>\n",
       "      <td>52.0</td>\n",
       "      <td>210.0</td>\n",
       "      <td>56.0</td>\n",
       "      <td>183.0</td>\n",
       "      <td>56.0</td>\n",
       "      <td>1.1667</td>\n",
       "      <td>112500.0</td>\n",
       "      <td>NEAR BAY</td>\n",
       "      <td>81</td>\n",
       "      <td>0</td>\n",
       "      <td>0</td>\n",
       "      <td>0</td>\n",
       "      <td>0</td>\n",
       "    </tr>\n",
       "    <tr>\n",
       "      <th>82</th>\n",
       "      <td>-122.28</td>\n",
       "      <td>37.81</td>\n",
       "      <td>52.0</td>\n",
       "      <td>340.0</td>\n",
       "      <td>97.0</td>\n",
       "      <td>200.0</td>\n",
       "      <td>87.0</td>\n",
       "      <td>1.5208</td>\n",
       "      <td>112500.0</td>\n",
       "      <td>NEAR BAY</td>\n",
       "      <td>82</td>\n",
       "      <td>0</td>\n",
       "      <td>0</td>\n",
       "      <td>0</td>\n",
       "      <td>0</td>\n",
       "    </tr>\n",
       "    <tr>\n",
       "      <th>...</th>\n",
       "      <td>...</td>\n",
       "      <td>...</td>\n",
       "      <td>...</td>\n",
       "      <td>...</td>\n",
       "      <td>...</td>\n",
       "      <td>...</td>\n",
       "      <td>...</td>\n",
       "      <td>...</td>\n",
       "      <td>...</td>\n",
       "      <td>...</td>\n",
       "      <td>...</td>\n",
       "      <td>...</td>\n",
       "      <td>...</td>\n",
       "      <td>...</td>\n",
       "      <td>...</td>\n",
       "    </tr>\n",
       "    <tr>\n",
       "      <th>20578</th>\n",
       "      <td>-121.81</td>\n",
       "      <td>38.84</td>\n",
       "      <td>37.0</td>\n",
       "      <td>352.0</td>\n",
       "      <td>65.0</td>\n",
       "      <td>238.0</td>\n",
       "      <td>67.0</td>\n",
       "      <td>2.8542</td>\n",
       "      <td>275000.0</td>\n",
       "      <td>INLAND</td>\n",
       "      <td>20578</td>\n",
       "      <td>0</td>\n",
       "      <td>0</td>\n",
       "      <td>0</td>\n",
       "      <td>0</td>\n",
       "    </tr>\n",
       "    <tr>\n",
       "      <th>20620</th>\n",
       "      <td>-121.48</td>\n",
       "      <td>39.05</td>\n",
       "      <td>40.0</td>\n",
       "      <td>198.0</td>\n",
       "      <td>41.0</td>\n",
       "      <td>151.0</td>\n",
       "      <td>48.0</td>\n",
       "      <td>4.5625</td>\n",
       "      <td>100000.0</td>\n",
       "      <td>INLAND</td>\n",
       "      <td>20620</td>\n",
       "      <td>0</td>\n",
       "      <td>0</td>\n",
       "      <td>0</td>\n",
       "      <td>0</td>\n",
       "    </tr>\n",
       "    <tr>\n",
       "      <th>20625</th>\n",
       "      <td>-121.52</td>\n",
       "      <td>39.12</td>\n",
       "      <td>37.0</td>\n",
       "      <td>102.0</td>\n",
       "      <td>17.0</td>\n",
       "      <td>29.0</td>\n",
       "      <td>14.0</td>\n",
       "      <td>4.1250</td>\n",
       "      <td>72000.0</td>\n",
       "      <td>INLAND</td>\n",
       "      <td>20625</td>\n",
       "      <td>0</td>\n",
       "      <td>0</td>\n",
       "      <td>0</td>\n",
       "      <td>0</td>\n",
       "    </tr>\n",
       "    <tr>\n",
       "      <th>20627</th>\n",
       "      <td>-121.32</td>\n",
       "      <td>39.13</td>\n",
       "      <td>5.0</td>\n",
       "      <td>358.0</td>\n",
       "      <td>65.0</td>\n",
       "      <td>169.0</td>\n",
       "      <td>59.0</td>\n",
       "      <td>3.0000</td>\n",
       "      <td>162500.0</td>\n",
       "      <td>INLAND</td>\n",
       "      <td>20627</td>\n",
       "      <td>0</td>\n",
       "      <td>0</td>\n",
       "      <td>0</td>\n",
       "      <td>0</td>\n",
       "    </tr>\n",
       "    <tr>\n",
       "      <th>20629</th>\n",
       "      <td>-121.39</td>\n",
       "      <td>39.12</td>\n",
       "      <td>28.0</td>\n",
       "      <td>10035.0</td>\n",
       "      <td>1856.0</td>\n",
       "      <td>6912.0</td>\n",
       "      <td>1818.0</td>\n",
       "      <td>2.0943</td>\n",
       "      <td>108300.0</td>\n",
       "      <td>INLAND</td>\n",
       "      <td>20629</td>\n",
       "      <td>0</td>\n",
       "      <td>0</td>\n",
       "      <td>0</td>\n",
       "      <td>0</td>\n",
       "    </tr>\n",
       "  </tbody>\n",
       "</table>\n",
       "<p>1032 rows × 15 columns</p>\n",
       "</div>"
      ],
      "text/plain": [
       "       longitude  latitude  housing_median_age  total_rooms  total_bedrooms  \\\n",
       "59       -122.29     37.82                 2.0        158.0            43.0   \n",
       "61       -122.29     37.82                49.0        135.0            29.0   \n",
       "73       -122.29     37.81                46.0         12.0             4.0   \n",
       "81       -122.27     37.81                52.0        210.0            56.0   \n",
       "82       -122.28     37.81                52.0        340.0            97.0   \n",
       "...          ...       ...                 ...          ...             ...   \n",
       "20578    -121.81     38.84                37.0        352.0            65.0   \n",
       "20620    -121.48     39.05                40.0        198.0            41.0   \n",
       "20625    -121.52     39.12                37.0        102.0            17.0   \n",
       "20627    -121.32     39.13                 5.0        358.0            65.0   \n",
       "20629    -121.39     39.12                28.0      10035.0          1856.0   \n",
       "\n",
       "       population  households  median_income  median_house_value  \\\n",
       "59           94.0        57.0         2.5625             60000.0   \n",
       "61           86.0        23.0         6.1183             75000.0   \n",
       "73           18.0         7.0         0.4999             67500.0   \n",
       "81          183.0        56.0         1.1667            112500.0   \n",
       "82          200.0        87.0         1.5208            112500.0   \n",
       "...           ...         ...            ...                 ...   \n",
       "20578       238.0        67.0         2.8542            275000.0   \n",
       "20620       151.0        48.0         4.5625            100000.0   \n",
       "20625        29.0        14.0         4.1250             72000.0   \n",
       "20627       169.0        59.0         3.0000            162500.0   \n",
       "20629      6912.0      1818.0         2.0943            108300.0   \n",
       "\n",
       "      ocean_proximity     id  housing_median_age_nan  ocean_proximity_nan  \\\n",
       "59           NEAR BAY     59                       0                    0   \n",
       "61           NEAR BAY     61                       0                    0   \n",
       "73           NEAR BAY     73                       0                    0   \n",
       "81           NEAR BAY     81                       0                    0   \n",
       "82           NEAR BAY     82                       0                    0   \n",
       "...               ...    ...                     ...                  ...   \n",
       "20578          INLAND  20578                       0                    0   \n",
       "20620          INLAND  20620                       0                    0   \n",
       "20625          INLAND  20625                       0                    0   \n",
       "20627          INLAND  20627                       0                    0   \n",
       "20629          INLAND  20629                       0                    0   \n",
       "\n",
       "       longitude_outlier  latitude_outlier  \n",
       "59                     0                 0  \n",
       "61                     0                 0  \n",
       "73                     0                 0  \n",
       "81                     0                 0  \n",
       "82                     0                 0  \n",
       "...                  ...               ...  \n",
       "20578                  0                 0  \n",
       "20620                  0                 0  \n",
       "20625                  0                 0  \n",
       "20627                  0                 0  \n",
       "20629                  0                 0  \n",
       "\n",
       "[1032 rows x 15 columns]"
      ]
     },
     "execution_count": 155,
     "metadata": {},
     "output_type": "execute_result"
    }
   ],
   "source": [
    "condition = (df['total_rooms'] > total_rooms_max_value) | (df['total_rooms'] < total_rooms_min_value)\n",
    "df[condition]"
   ]
  },
  {
   "cell_type": "code",
   "execution_count": 156,
   "metadata": {},
   "outputs": [
    {
     "data": {
      "text/plain": [
       "count    20640.000000\n",
       "mean      2435.698837\n",
       "std       1358.232607\n",
       "min        371.000000\n",
       "25%       1511.000000\n",
       "50%       2127.000000\n",
       "75%       3006.000000\n",
       "max       8069.000000\n",
       "Name: total_rooms, dtype: float64"
      ]
     },
     "execution_count": 156,
     "metadata": {},
     "output_type": "execute_result"
    }
   ],
   "source": [
    "df.loc[condition, 'total_rooms'] = df['total_rooms'].median()\n",
    "df['total_rooms'].describe()"
   ]
  },
  {
   "cell_type": "markdown",
   "metadata": {
    "colab_type": "text",
    "id": "G9meHyjYuM6C"
   },
   "source": [
    "### 5. Отбор и построение новых признаков<a class='anchor' id='feature'>"
   ]
  },
  {
   "cell_type": "markdown",
   "metadata": {
    "colab_type": "text",
    "id": "ngkRMuLJuM6D"
   },
   "source": [
    "Исключаем признак \"id\""
   ]
  },
  {
   "cell_type": "code",
   "execution_count": 157,
   "metadata": {},
   "outputs": [
    {
     "data": {
      "text/plain": [
       "Index(['longitude', 'latitude', 'housing_median_age', 'total_rooms',\n",
       "       'total_bedrooms', 'population', 'households', 'median_income',\n",
       "       'median_house_value', 'ocean_proximity', 'id', 'housing_median_age_nan',\n",
       "       'ocean_proximity_nan', 'longitude_outlier', 'latitude_outlier'],\n",
       "      dtype='object')"
      ]
     },
     "execution_count": 157,
     "metadata": {},
     "output_type": "execute_result"
    }
   ],
   "source": [
    "df.columns"
   ]
  },
  {
   "cell_type": "code",
   "execution_count": 159,
   "metadata": {},
   "outputs": [],
   "source": [
    "df.drop(columns=['id'], inplace=True)"
   ]
  },
  {
   "cell_type": "code",
   "execution_count": 160,
   "metadata": {},
   "outputs": [
    {
     "data": {
      "text/plain": [
       "Index(['longitude', 'latitude', 'housing_median_age', 'total_rooms',\n",
       "       'total_bedrooms', 'population', 'households', 'median_income',\n",
       "       'median_house_value', 'ocean_proximity', 'housing_median_age_nan',\n",
       "       'ocean_proximity_nan', 'longitude_outlier', 'latitude_outlier'],\n",
       "      dtype='object')"
      ]
     },
     "execution_count": 160,
     "metadata": {},
     "output_type": "execute_result"
    }
   ],
   "source": [
    "df.columns"
   ]
  },
  {
   "cell_type": "markdown",
   "metadata": {
    "colab_type": "text",
    "id": "woWWXhj_eVGU"
   },
   "source": [
    "**Количественные переменные**"
   ]
  },
  {
   "cell_type": "code",
   "execution_count": 161,
   "metadata": {
    "colab": {},
    "colab_type": "code",
    "id": "dblwGbP2eQiL"
   },
   "outputs": [],
   "source": [
    "# Доля спален в общем кол-ве комнат\n",
    "df['bedroom_share'] = df['total_bedrooms'] / df['total_rooms'] * 100\n",
    "\n",
    "# Сколько человек в среднем живут в одной комнате\n",
    "df['population_per_room'] = df['population'] / df['total_rooms']"
   ]
  },
  {
   "cell_type": "code",
   "execution_count": 162,
   "metadata": {},
   "outputs": [
    {
     "data": {
      "text/html": [
       "<div>\n",
       "<style scoped>\n",
       "    .dataframe tbody tr th:only-of-type {\n",
       "        vertical-align: middle;\n",
       "    }\n",
       "\n",
       "    .dataframe tbody tr th {\n",
       "        vertical-align: top;\n",
       "    }\n",
       "\n",
       "    .dataframe thead th {\n",
       "        text-align: right;\n",
       "    }\n",
       "</style>\n",
       "<table border=\"1\" class=\"dataframe\">\n",
       "  <thead>\n",
       "    <tr style=\"text-align: right;\">\n",
       "      <th></th>\n",
       "      <th>bedroom_share</th>\n",
       "      <th>population_per_room</th>\n",
       "    </tr>\n",
       "  </thead>\n",
       "  <tbody>\n",
       "    <tr>\n",
       "      <th>0</th>\n",
       "      <td>14.659091</td>\n",
       "      <td>0.365909</td>\n",
       "    </tr>\n",
       "    <tr>\n",
       "      <th>1</th>\n",
       "      <td>15.579659</td>\n",
       "      <td>0.338217</td>\n",
       "    </tr>\n",
       "    <tr>\n",
       "      <th>2</th>\n",
       "      <td>12.951602</td>\n",
       "      <td>0.338105</td>\n",
       "    </tr>\n",
       "    <tr>\n",
       "      <th>3</th>\n",
       "      <td>18.445840</td>\n",
       "      <td>0.437991</td>\n",
       "    </tr>\n",
       "    <tr>\n",
       "      <th>4</th>\n",
       "      <td>17.209588</td>\n",
       "      <td>0.347265</td>\n",
       "    </tr>\n",
       "  </tbody>\n",
       "</table>\n",
       "</div>"
      ],
      "text/plain": [
       "   bedroom_share  population_per_room\n",
       "0      14.659091             0.365909\n",
       "1      15.579659             0.338217\n",
       "2      12.951602             0.338105\n",
       "3      18.445840             0.437991\n",
       "4      17.209588             0.347265"
      ]
     },
     "execution_count": 162,
     "metadata": {},
     "output_type": "execute_result"
    }
   ],
   "source": [
    "df[['bedroom_share', 'population_per_room']].head()"
   ]
  },
  {
   "cell_type": "markdown",
   "metadata": {
    "colab_type": "text",
    "id": "sd9tJ5qbZ1KP"
   },
   "source": [
    "**Категориальные переменные**<a class='anchor' id='category'>"
   ]
  },
  {
   "cell_type": "markdown",
   "metadata": {
    "colab_type": "text",
    "id": "y9HUZuT_Z1KP"
   },
   "source": [
    "Неколичественные строковые признаки всегда нужно переводить в числовое представление, так как многие модели машинного обучения не способны работать со строками.\n",
    "\n",
    "Хороший обзор по работе с категориальными признаками можно посмотреть [здесь](https://dyakonov.org/2016/08/03/python-%D0%BA%D0%B0%D1%82%D0%B5%D0%B3%D0%BE%D1%80%D0%B8%D0%B0%D0%BB%D1%8C%D0%BD%D1%8B%D0%B5-%D0%BF%D1%80%D0%B8%D0%B7%D0%BD%D0%B0%D0%BA%D0%B8/)"
   ]
  },
  {
   "cell_type": "code",
   "execution_count": 163,
   "metadata": {},
   "outputs": [
    {
     "data": {
      "text/plain": [
       "<1H OCEAN     9150\n",
       "INLAND        6542\n",
       "NEAR OCEAN    2655\n",
       "NEAR BAY      2288\n",
       "ISLAND           5\n",
       "Name: ocean_proximity, dtype: int64"
      ]
     },
     "execution_count": 163,
     "metadata": {},
     "output_type": "execute_result"
    }
   ],
   "source": [
    "df['ocean_proximity'].value_counts()"
   ]
  },
  {
   "cell_type": "markdown",
   "metadata": {},
   "source": [
    "Заменять строковые значения порядковыми числами не всегда хорошая идея"
   ]
  },
  {
   "cell_type": "code",
   "execution_count": null,
   "metadata": {},
   "outputs": [],
   "source": [
    "1 < 2 < 3 < 4 < 5"
   ]
  },
  {
   "cell_type": "markdown",
   "metadata": {
    "colab_type": "text",
    "id": "NvhUDexpZ1KP"
   },
   "source": [
    "**A) Бинарные (дамми) переменные**<a class='anchor' id='dummy'>"
   ]
  },
  {
   "cell_type": "code",
   "execution_count": 164,
   "metadata": {},
   "outputs": [
    {
     "data": {
      "text/plain": [
       "0        NEAR BAY\n",
       "1        NEAR BAY\n",
       "2        NEAR BAY\n",
       "3        NEAR BAY\n",
       "4        NEAR BAY\n",
       "           ...   \n",
       "20635      INLAND\n",
       "20636      INLAND\n",
       "20637      INLAND\n",
       "20638      INLAND\n",
       "20639      INLAND\n",
       "Name: ocean_proximity, Length: 20640, dtype: object"
      ]
     },
     "execution_count": 164,
     "metadata": {},
     "output_type": "execute_result"
    }
   ],
   "source": [
    "df['ocean_proximity']"
   ]
  },
  {
   "cell_type": "code",
   "execution_count": 165,
   "metadata": {},
   "outputs": [
    {
     "data": {
      "text/html": [
       "<div>\n",
       "<style scoped>\n",
       "    .dataframe tbody tr th:only-of-type {\n",
       "        vertical-align: middle;\n",
       "    }\n",
       "\n",
       "    .dataframe tbody tr th {\n",
       "        vertical-align: top;\n",
       "    }\n",
       "\n",
       "    .dataframe thead th {\n",
       "        text-align: right;\n",
       "    }\n",
       "</style>\n",
       "<table border=\"1\" class=\"dataframe\">\n",
       "  <thead>\n",
       "    <tr style=\"text-align: right;\">\n",
       "      <th></th>\n",
       "      <th>&lt;1H OCEAN</th>\n",
       "      <th>INLAND</th>\n",
       "      <th>ISLAND</th>\n",
       "      <th>NEAR BAY</th>\n",
       "      <th>NEAR OCEAN</th>\n",
       "    </tr>\n",
       "  </thead>\n",
       "  <tbody>\n",
       "    <tr>\n",
       "      <th>0</th>\n",
       "      <td>0</td>\n",
       "      <td>0</td>\n",
       "      <td>0</td>\n",
       "      <td>1</td>\n",
       "      <td>0</td>\n",
       "    </tr>\n",
       "    <tr>\n",
       "      <th>1</th>\n",
       "      <td>0</td>\n",
       "      <td>0</td>\n",
       "      <td>0</td>\n",
       "      <td>1</td>\n",
       "      <td>0</td>\n",
       "    </tr>\n",
       "    <tr>\n",
       "      <th>2</th>\n",
       "      <td>0</td>\n",
       "      <td>0</td>\n",
       "      <td>0</td>\n",
       "      <td>1</td>\n",
       "      <td>0</td>\n",
       "    </tr>\n",
       "    <tr>\n",
       "      <th>3</th>\n",
       "      <td>0</td>\n",
       "      <td>0</td>\n",
       "      <td>0</td>\n",
       "      <td>1</td>\n",
       "      <td>0</td>\n",
       "    </tr>\n",
       "    <tr>\n",
       "      <th>4</th>\n",
       "      <td>0</td>\n",
       "      <td>0</td>\n",
       "      <td>0</td>\n",
       "      <td>1</td>\n",
       "      <td>0</td>\n",
       "    </tr>\n",
       "    <tr>\n",
       "      <th>...</th>\n",
       "      <td>...</td>\n",
       "      <td>...</td>\n",
       "      <td>...</td>\n",
       "      <td>...</td>\n",
       "      <td>...</td>\n",
       "    </tr>\n",
       "    <tr>\n",
       "      <th>20635</th>\n",
       "      <td>0</td>\n",
       "      <td>1</td>\n",
       "      <td>0</td>\n",
       "      <td>0</td>\n",
       "      <td>0</td>\n",
       "    </tr>\n",
       "    <tr>\n",
       "      <th>20636</th>\n",
       "      <td>0</td>\n",
       "      <td>1</td>\n",
       "      <td>0</td>\n",
       "      <td>0</td>\n",
       "      <td>0</td>\n",
       "    </tr>\n",
       "    <tr>\n",
       "      <th>20637</th>\n",
       "      <td>0</td>\n",
       "      <td>1</td>\n",
       "      <td>0</td>\n",
       "      <td>0</td>\n",
       "      <td>0</td>\n",
       "    </tr>\n",
       "    <tr>\n",
       "      <th>20638</th>\n",
       "      <td>0</td>\n",
       "      <td>1</td>\n",
       "      <td>0</td>\n",
       "      <td>0</td>\n",
       "      <td>0</td>\n",
       "    </tr>\n",
       "    <tr>\n",
       "      <th>20639</th>\n",
       "      <td>0</td>\n",
       "      <td>1</td>\n",
       "      <td>0</td>\n",
       "      <td>0</td>\n",
       "      <td>0</td>\n",
       "    </tr>\n",
       "  </tbody>\n",
       "</table>\n",
       "<p>20640 rows × 5 columns</p>\n",
       "</div>"
      ],
      "text/plain": [
       "       <1H OCEAN  INLAND  ISLAND  NEAR BAY  NEAR OCEAN\n",
       "0              0       0       0         1           0\n",
       "1              0       0       0         1           0\n",
       "2              0       0       0         1           0\n",
       "3              0       0       0         1           0\n",
       "4              0       0       0         1           0\n",
       "...          ...     ...     ...       ...         ...\n",
       "20635          0       1       0         0           0\n",
       "20636          0       1       0         0           0\n",
       "20637          0       1       0         0           0\n",
       "20638          0       1       0         0           0\n",
       "20639          0       1       0         0           0\n",
       "\n",
       "[20640 rows x 5 columns]"
      ]
     },
     "execution_count": 165,
     "metadata": {},
     "output_type": "execute_result"
    }
   ],
   "source": [
    "pd.get_dummies(df['ocean_proximity'])"
   ]
  },
  {
   "cell_type": "code",
   "execution_count": 166,
   "metadata": {
    "colab": {},
    "colab_type": "code",
    "id": "v9sPmIx0Z1KR",
    "outputId": "f32b390c-4508-4da4-bbd1-b68ae445c827"
   },
   "outputs": [
    {
     "data": {
      "text/html": [
       "<div>\n",
       "<style scoped>\n",
       "    .dataframe tbody tr th:only-of-type {\n",
       "        vertical-align: middle;\n",
       "    }\n",
       "\n",
       "    .dataframe tbody tr th {\n",
       "        vertical-align: top;\n",
       "    }\n",
       "\n",
       "    .dataframe thead th {\n",
       "        text-align: right;\n",
       "    }\n",
       "</style>\n",
       "<table border=\"1\" class=\"dataframe\">\n",
       "  <thead>\n",
       "    <tr style=\"text-align: right;\">\n",
       "      <th></th>\n",
       "      <th>longitude</th>\n",
       "      <th>latitude</th>\n",
       "      <th>housing_median_age</th>\n",
       "      <th>total_rooms</th>\n",
       "      <th>total_bedrooms</th>\n",
       "      <th>population</th>\n",
       "      <th>households</th>\n",
       "      <th>median_income</th>\n",
       "      <th>median_house_value</th>\n",
       "      <th>ocean_proximity</th>\n",
       "      <th>...</th>\n",
       "      <th>ocean_proximity_nan</th>\n",
       "      <th>longitude_outlier</th>\n",
       "      <th>latitude_outlier</th>\n",
       "      <th>bedroom_share</th>\n",
       "      <th>population_per_room</th>\n",
       "      <th>&lt;1H OCEAN</th>\n",
       "      <th>INLAND</th>\n",
       "      <th>ISLAND</th>\n",
       "      <th>NEAR BAY</th>\n",
       "      <th>NEAR OCEAN</th>\n",
       "    </tr>\n",
       "  </thead>\n",
       "  <tbody>\n",
       "    <tr>\n",
       "      <th>0</th>\n",
       "      <td>-122.23</td>\n",
       "      <td>37.88</td>\n",
       "      <td>41.0</td>\n",
       "      <td>880.0</td>\n",
       "      <td>129.0</td>\n",
       "      <td>322.0</td>\n",
       "      <td>126.0</td>\n",
       "      <td>8.3252</td>\n",
       "      <td>452600.0</td>\n",
       "      <td>NEAR BAY</td>\n",
       "      <td>...</td>\n",
       "      <td>0</td>\n",
       "      <td>0</td>\n",
       "      <td>0</td>\n",
       "      <td>14.659091</td>\n",
       "      <td>0.365909</td>\n",
       "      <td>0</td>\n",
       "      <td>0</td>\n",
       "      <td>0</td>\n",
       "      <td>1</td>\n",
       "      <td>0</td>\n",
       "    </tr>\n",
       "    <tr>\n",
       "      <th>1</th>\n",
       "      <td>-122.22</td>\n",
       "      <td>37.86</td>\n",
       "      <td>21.0</td>\n",
       "      <td>7099.0</td>\n",
       "      <td>1106.0</td>\n",
       "      <td>2401.0</td>\n",
       "      <td>1138.0</td>\n",
       "      <td>8.3014</td>\n",
       "      <td>358500.0</td>\n",
       "      <td>NEAR BAY</td>\n",
       "      <td>...</td>\n",
       "      <td>0</td>\n",
       "      <td>0</td>\n",
       "      <td>0</td>\n",
       "      <td>15.579659</td>\n",
       "      <td>0.338217</td>\n",
       "      <td>0</td>\n",
       "      <td>0</td>\n",
       "      <td>0</td>\n",
       "      <td>1</td>\n",
       "      <td>0</td>\n",
       "    </tr>\n",
       "    <tr>\n",
       "      <th>2</th>\n",
       "      <td>-122.24</td>\n",
       "      <td>37.85</td>\n",
       "      <td>52.0</td>\n",
       "      <td>1467.0</td>\n",
       "      <td>190.0</td>\n",
       "      <td>496.0</td>\n",
       "      <td>177.0</td>\n",
       "      <td>7.2574</td>\n",
       "      <td>352100.0</td>\n",
       "      <td>NEAR BAY</td>\n",
       "      <td>...</td>\n",
       "      <td>0</td>\n",
       "      <td>0</td>\n",
       "      <td>0</td>\n",
       "      <td>12.951602</td>\n",
       "      <td>0.338105</td>\n",
       "      <td>0</td>\n",
       "      <td>0</td>\n",
       "      <td>0</td>\n",
       "      <td>1</td>\n",
       "      <td>0</td>\n",
       "    </tr>\n",
       "    <tr>\n",
       "      <th>3</th>\n",
       "      <td>-122.25</td>\n",
       "      <td>37.85</td>\n",
       "      <td>52.0</td>\n",
       "      <td>1274.0</td>\n",
       "      <td>235.0</td>\n",
       "      <td>558.0</td>\n",
       "      <td>219.0</td>\n",
       "      <td>5.6431</td>\n",
       "      <td>341300.0</td>\n",
       "      <td>NEAR BAY</td>\n",
       "      <td>...</td>\n",
       "      <td>0</td>\n",
       "      <td>0</td>\n",
       "      <td>0</td>\n",
       "      <td>18.445840</td>\n",
       "      <td>0.437991</td>\n",
       "      <td>0</td>\n",
       "      <td>0</td>\n",
       "      <td>0</td>\n",
       "      <td>1</td>\n",
       "      <td>0</td>\n",
       "    </tr>\n",
       "    <tr>\n",
       "      <th>4</th>\n",
       "      <td>-122.25</td>\n",
       "      <td>37.85</td>\n",
       "      <td>52.0</td>\n",
       "      <td>1627.0</td>\n",
       "      <td>280.0</td>\n",
       "      <td>565.0</td>\n",
       "      <td>259.0</td>\n",
       "      <td>3.8462</td>\n",
       "      <td>342200.0</td>\n",
       "      <td>NEAR BAY</td>\n",
       "      <td>...</td>\n",
       "      <td>0</td>\n",
       "      <td>0</td>\n",
       "      <td>0</td>\n",
       "      <td>17.209588</td>\n",
       "      <td>0.347265</td>\n",
       "      <td>0</td>\n",
       "      <td>0</td>\n",
       "      <td>0</td>\n",
       "      <td>1</td>\n",
       "      <td>0</td>\n",
       "    </tr>\n",
       "  </tbody>\n",
       "</table>\n",
       "<p>5 rows × 21 columns</p>\n",
       "</div>"
      ],
      "text/plain": [
       "   longitude  latitude  housing_median_age  total_rooms  total_bedrooms  \\\n",
       "0    -122.23     37.88                41.0        880.0           129.0   \n",
       "1    -122.22     37.86                21.0       7099.0          1106.0   \n",
       "2    -122.24     37.85                52.0       1467.0           190.0   \n",
       "3    -122.25     37.85                52.0       1274.0           235.0   \n",
       "4    -122.25     37.85                52.0       1627.0           280.0   \n",
       "\n",
       "   population  households  median_income  median_house_value ocean_proximity  \\\n",
       "0       322.0       126.0         8.3252            452600.0        NEAR BAY   \n",
       "1      2401.0      1138.0         8.3014            358500.0        NEAR BAY   \n",
       "2       496.0       177.0         7.2574            352100.0        NEAR BAY   \n",
       "3       558.0       219.0         5.6431            341300.0        NEAR BAY   \n",
       "4       565.0       259.0         3.8462            342200.0        NEAR BAY   \n",
       "\n",
       "   ...  ocean_proximity_nan  longitude_outlier  latitude_outlier  \\\n",
       "0  ...                    0                  0                 0   \n",
       "1  ...                    0                  0                 0   \n",
       "2  ...                    0                  0                 0   \n",
       "3  ...                    0                  0                 0   \n",
       "4  ...                    0                  0                 0   \n",
       "\n",
       "   bedroom_share  population_per_room  <1H OCEAN  INLAND  ISLAND  NEAR BAY  \\\n",
       "0      14.659091             0.365909          0       0       0         1   \n",
       "1      15.579659             0.338217          0       0       0         1   \n",
       "2      12.951602             0.338105          0       0       0         1   \n",
       "3      18.445840             0.437991          0       0       0         1   \n",
       "4      17.209588             0.347265          0       0       0         1   \n",
       "\n",
       "   NEAR OCEAN  \n",
       "0           0  \n",
       "1           0  \n",
       "2           0  \n",
       "3           0  \n",
       "4           0  \n",
       "\n",
       "[5 rows x 21 columns]"
      ]
     },
     "execution_count": 166,
     "metadata": {},
     "output_type": "execute_result"
    }
   ],
   "source": [
    "df = pd.concat([df, pd.get_dummies(df['ocean_proximity'])], axis=1)\n",
    "df.head()"
   ]
  },
  {
   "cell_type": "markdown",
   "metadata": {
    "colab_type": "text",
    "id": "-hRoxmbPZ1KT"
   },
   "source": [
    "**Б) Feature encoding**<a class='anchor' id='feature_encoding'>"
   ]
  },
  {
   "cell_type": "markdown",
   "metadata": {
    "colab_type": "text",
    "id": "syjWtSeyhb8R"
   },
   "source": [
    "Описание категории каким-то числом"
   ]
  },
  {
   "cell_type": "code",
   "execution_count": 167,
   "metadata": {
    "colab": {
     "base_uri": "https://localhost:8080/",
     "height": 238
    },
    "colab_type": "code",
    "id": "TOCV-5cCgvnD",
    "outputId": "add717b4-a409-4ad2-f161-f9ae1035d8a7"
   },
   "outputs": [
    {
     "data": {
      "text/html": [
       "<div>\n",
       "<style scoped>\n",
       "    .dataframe tbody tr th:only-of-type {\n",
       "        vertical-align: middle;\n",
       "    }\n",
       "\n",
       "    .dataframe tbody tr th {\n",
       "        vertical-align: top;\n",
       "    }\n",
       "\n",
       "    .dataframe thead th {\n",
       "        text-align: right;\n",
       "    }\n",
       "</style>\n",
       "<table border=\"1\" class=\"dataframe\">\n",
       "  <thead>\n",
       "    <tr style=\"text-align: right;\">\n",
       "      <th></th>\n",
       "      <th>total_rooms</th>\n",
       "    </tr>\n",
       "    <tr>\n",
       "      <th>ocean_proximity</th>\n",
       "      <th></th>\n",
       "    </tr>\n",
       "  </thead>\n",
       "  <tbody>\n",
       "    <tr>\n",
       "      <th>&lt;1H OCEAN</th>\n",
       "      <td>2433.195956</td>\n",
       "    </tr>\n",
       "    <tr>\n",
       "      <th>INLAND</th>\n",
       "      <td>2444.184500</td>\n",
       "    </tr>\n",
       "    <tr>\n",
       "      <th>ISLAND</th>\n",
       "      <td>1574.600000</td>\n",
       "    </tr>\n",
       "    <tr>\n",
       "      <th>NEAR BAY</th>\n",
       "      <td>2393.190559</td>\n",
       "    </tr>\n",
       "    <tr>\n",
       "      <th>NEAR OCEAN</th>\n",
       "      <td>2461.669680</td>\n",
       "    </tr>\n",
       "  </tbody>\n",
       "</table>\n",
       "</div>"
      ],
      "text/plain": [
       "                 total_rooms\n",
       "ocean_proximity             \n",
       "<1H OCEAN        2433.195956\n",
       "INLAND           2444.184500\n",
       "ISLAND           1574.600000\n",
       "NEAR BAY         2393.190559\n",
       "NEAR OCEAN       2461.669680"
      ]
     },
     "execution_count": 167,
     "metadata": {},
     "output_type": "execute_result"
    }
   ],
   "source": [
    "df_cat = df.groupby('ocean_proximity').mean()['total_rooms']\n",
    "df_cat = pd.DataFrame(df_cat)\n",
    "\n",
    "df_cat"
   ]
  },
  {
   "cell_type": "code",
   "execution_count": 168,
   "metadata": {
    "colab": {
     "base_uri": "https://localhost:8080/",
     "height": 206
    },
    "colab_type": "code",
    "id": "sfwweaYcZ1KT",
    "outputId": "557b2762-5385-4b82-e47d-abba06dacbce"
   },
   "outputs": [
    {
     "data": {
      "text/html": [
       "<div>\n",
       "<style scoped>\n",
       "    .dataframe tbody tr th:only-of-type {\n",
       "        vertical-align: middle;\n",
       "    }\n",
       "\n",
       "    .dataframe tbody tr th {\n",
       "        vertical-align: top;\n",
       "    }\n",
       "\n",
       "    .dataframe thead th {\n",
       "        text-align: right;\n",
       "    }\n",
       "</style>\n",
       "<table border=\"1\" class=\"dataframe\">\n",
       "  <thead>\n",
       "    <tr style=\"text-align: right;\">\n",
       "      <th></th>\n",
       "      <th>ocean_proximity</th>\n",
       "      <th>total_rooms</th>\n",
       "    </tr>\n",
       "  </thead>\n",
       "  <tbody>\n",
       "    <tr>\n",
       "      <th>0</th>\n",
       "      <td>&lt;1H OCEAN</td>\n",
       "      <td>2433.195956</td>\n",
       "    </tr>\n",
       "    <tr>\n",
       "      <th>1</th>\n",
       "      <td>INLAND</td>\n",
       "      <td>2444.184500</td>\n",
       "    </tr>\n",
       "    <tr>\n",
       "      <th>2</th>\n",
       "      <td>ISLAND</td>\n",
       "      <td>1574.600000</td>\n",
       "    </tr>\n",
       "    <tr>\n",
       "      <th>3</th>\n",
       "      <td>NEAR BAY</td>\n",
       "      <td>2393.190559</td>\n",
       "    </tr>\n",
       "    <tr>\n",
       "      <th>4</th>\n",
       "      <td>NEAR OCEAN</td>\n",
       "      <td>2461.669680</td>\n",
       "    </tr>\n",
       "  </tbody>\n",
       "</table>\n",
       "</div>"
      ],
      "text/plain": [
       "  ocean_proximity  total_rooms\n",
       "0       <1H OCEAN  2433.195956\n",
       "1          INLAND  2444.184500\n",
       "2          ISLAND  1574.600000\n",
       "3        NEAR BAY  2393.190559\n",
       "4      NEAR OCEAN  2461.669680"
      ]
     },
     "execution_count": 168,
     "metadata": {},
     "output_type": "execute_result"
    }
   ],
   "source": [
    "df_cat = df.groupby('ocean_proximity', as_index=False).mean()[['ocean_proximity', 'total_rooms']]\n",
    "df_cat = pd.DataFrame(df_cat)\n",
    "\n",
    "df_cat"
   ]
  },
  {
   "cell_type": "code",
   "execution_count": 169,
   "metadata": {
    "colab": {},
    "colab_type": "code",
    "id": "9Twf9jRNZ1Ki",
    "outputId": "273a11d3-7b20-4b6d-ff77-61946fd42dc4"
   },
   "outputs": [
    {
     "data": {
      "text/html": [
       "<div>\n",
       "<style scoped>\n",
       "    .dataframe tbody tr th:only-of-type {\n",
       "        vertical-align: middle;\n",
       "    }\n",
       "\n",
       "    .dataframe tbody tr th {\n",
       "        vertical-align: top;\n",
       "    }\n",
       "\n",
       "    .dataframe thead th {\n",
       "        text-align: right;\n",
       "    }\n",
       "</style>\n",
       "<table border=\"1\" class=\"dataframe\">\n",
       "  <thead>\n",
       "    <tr style=\"text-align: right;\">\n",
       "      <th></th>\n",
       "      <th>ocean_proximity</th>\n",
       "      <th>median_rooms</th>\n",
       "    </tr>\n",
       "  </thead>\n",
       "  <tbody>\n",
       "    <tr>\n",
       "      <th>2</th>\n",
       "      <td>ISLAND</td>\n",
       "      <td>1574.600000</td>\n",
       "    </tr>\n",
       "    <tr>\n",
       "      <th>3</th>\n",
       "      <td>NEAR BAY</td>\n",
       "      <td>2393.190559</td>\n",
       "    </tr>\n",
       "    <tr>\n",
       "      <th>0</th>\n",
       "      <td>&lt;1H OCEAN</td>\n",
       "      <td>2433.195956</td>\n",
       "    </tr>\n",
       "    <tr>\n",
       "      <th>1</th>\n",
       "      <td>INLAND</td>\n",
       "      <td>2444.184500</td>\n",
       "    </tr>\n",
       "    <tr>\n",
       "      <th>4</th>\n",
       "      <td>NEAR OCEAN</td>\n",
       "      <td>2461.669680</td>\n",
       "    </tr>\n",
       "  </tbody>\n",
       "</table>\n",
       "</div>"
      ],
      "text/plain": [
       "  ocean_proximity  median_rooms\n",
       "2          ISLAND   1574.600000\n",
       "3        NEAR BAY   2393.190559\n",
       "0       <1H OCEAN   2433.195956\n",
       "1          INLAND   2444.184500\n",
       "4      NEAR OCEAN   2461.669680"
      ]
     },
     "execution_count": 169,
     "metadata": {},
     "output_type": "execute_result"
    }
   ],
   "source": [
    "df_cat.rename(columns={'total_rooms': 'median_rooms'}, inplace=True)\n",
    "\n",
    "df_cat.sort_values(by='median_rooms')"
   ]
  },
  {
   "cell_type": "code",
   "execution_count": 170,
   "metadata": {
    "colab": {},
    "colab_type": "code",
    "id": "F2Iwv1STZ1Kr",
    "outputId": "a011fdd4-236d-4f2d-f160-e84c36072336"
   },
   "outputs": [
    {
     "data": {
      "text/html": [
       "<div>\n",
       "<style scoped>\n",
       "    .dataframe tbody tr th:only-of-type {\n",
       "        vertical-align: middle;\n",
       "    }\n",
       "\n",
       "    .dataframe tbody tr th {\n",
       "        vertical-align: top;\n",
       "    }\n",
       "\n",
       "    .dataframe thead th {\n",
       "        text-align: right;\n",
       "    }\n",
       "</style>\n",
       "<table border=\"1\" class=\"dataframe\">\n",
       "  <thead>\n",
       "    <tr style=\"text-align: right;\">\n",
       "      <th></th>\n",
       "      <th>longitude</th>\n",
       "      <th>latitude</th>\n",
       "      <th>housing_median_age</th>\n",
       "      <th>total_rooms</th>\n",
       "      <th>total_bedrooms</th>\n",
       "      <th>population</th>\n",
       "      <th>households</th>\n",
       "      <th>median_income</th>\n",
       "      <th>median_house_value</th>\n",
       "      <th>ocean_proximity</th>\n",
       "      <th>...</th>\n",
       "      <th>longitude_outlier</th>\n",
       "      <th>latitude_outlier</th>\n",
       "      <th>bedroom_share</th>\n",
       "      <th>population_per_room</th>\n",
       "      <th>&lt;1H OCEAN</th>\n",
       "      <th>INLAND</th>\n",
       "      <th>ISLAND</th>\n",
       "      <th>NEAR BAY</th>\n",
       "      <th>NEAR OCEAN</th>\n",
       "      <th>median_rooms</th>\n",
       "    </tr>\n",
       "  </thead>\n",
       "  <tbody>\n",
       "    <tr>\n",
       "      <th>0</th>\n",
       "      <td>-122.23</td>\n",
       "      <td>37.88</td>\n",
       "      <td>41.0</td>\n",
       "      <td>880.0</td>\n",
       "      <td>129.0</td>\n",
       "      <td>322.0</td>\n",
       "      <td>126.0</td>\n",
       "      <td>8.3252</td>\n",
       "      <td>452600.0</td>\n",
       "      <td>NEAR BAY</td>\n",
       "      <td>...</td>\n",
       "      <td>0</td>\n",
       "      <td>0</td>\n",
       "      <td>14.659091</td>\n",
       "      <td>0.365909</td>\n",
       "      <td>0</td>\n",
       "      <td>0</td>\n",
       "      <td>0</td>\n",
       "      <td>1</td>\n",
       "      <td>0</td>\n",
       "      <td>2393.190559</td>\n",
       "    </tr>\n",
       "    <tr>\n",
       "      <th>1</th>\n",
       "      <td>-122.22</td>\n",
       "      <td>37.86</td>\n",
       "      <td>21.0</td>\n",
       "      <td>7099.0</td>\n",
       "      <td>1106.0</td>\n",
       "      <td>2401.0</td>\n",
       "      <td>1138.0</td>\n",
       "      <td>8.3014</td>\n",
       "      <td>358500.0</td>\n",
       "      <td>NEAR BAY</td>\n",
       "      <td>...</td>\n",
       "      <td>0</td>\n",
       "      <td>0</td>\n",
       "      <td>15.579659</td>\n",
       "      <td>0.338217</td>\n",
       "      <td>0</td>\n",
       "      <td>0</td>\n",
       "      <td>0</td>\n",
       "      <td>1</td>\n",
       "      <td>0</td>\n",
       "      <td>2393.190559</td>\n",
       "    </tr>\n",
       "    <tr>\n",
       "      <th>2</th>\n",
       "      <td>-122.24</td>\n",
       "      <td>37.85</td>\n",
       "      <td>52.0</td>\n",
       "      <td>1467.0</td>\n",
       "      <td>190.0</td>\n",
       "      <td>496.0</td>\n",
       "      <td>177.0</td>\n",
       "      <td>7.2574</td>\n",
       "      <td>352100.0</td>\n",
       "      <td>NEAR BAY</td>\n",
       "      <td>...</td>\n",
       "      <td>0</td>\n",
       "      <td>0</td>\n",
       "      <td>12.951602</td>\n",
       "      <td>0.338105</td>\n",
       "      <td>0</td>\n",
       "      <td>0</td>\n",
       "      <td>0</td>\n",
       "      <td>1</td>\n",
       "      <td>0</td>\n",
       "      <td>2393.190559</td>\n",
       "    </tr>\n",
       "  </tbody>\n",
       "</table>\n",
       "<p>3 rows × 22 columns</p>\n",
       "</div>"
      ],
      "text/plain": [
       "   longitude  latitude  housing_median_age  total_rooms  total_bedrooms  \\\n",
       "0    -122.23     37.88                41.0        880.0           129.0   \n",
       "1    -122.22     37.86                21.0       7099.0          1106.0   \n",
       "2    -122.24     37.85                52.0       1467.0           190.0   \n",
       "\n",
       "   population  households  median_income  median_house_value ocean_proximity  \\\n",
       "0       322.0       126.0         8.3252            452600.0        NEAR BAY   \n",
       "1      2401.0      1138.0         8.3014            358500.0        NEAR BAY   \n",
       "2       496.0       177.0         7.2574            352100.0        NEAR BAY   \n",
       "\n",
       "   ...  longitude_outlier  latitude_outlier  bedroom_share  \\\n",
       "0  ...                  0                 0      14.659091   \n",
       "1  ...                  0                 0      15.579659   \n",
       "2  ...                  0                 0      12.951602   \n",
       "\n",
       "   population_per_room  <1H OCEAN  INLAND  ISLAND  NEAR BAY  NEAR OCEAN  \\\n",
       "0             0.365909          0       0       0         1           0   \n",
       "1             0.338217          0       0       0         1           0   \n",
       "2             0.338105          0       0       0         1           0   \n",
       "\n",
       "   median_rooms  \n",
       "0   2393.190559  \n",
       "1   2393.190559  \n",
       "2   2393.190559  \n",
       "\n",
       "[3 rows x 22 columns]"
      ]
     },
     "execution_count": 170,
     "metadata": {},
     "output_type": "execute_result"
    }
   ],
   "source": [
    "df = df.merge(df_cat, on=['ocean_proximity'])\n",
    "\n",
    "df.head(3)"
   ]
  },
  {
   "cell_type": "markdown",
   "metadata": {
    "colab_type": "text",
    "id": "sd9tJ5qbZ1KP"
   },
   "source": [
    "**Вещественные переменные**<a class='acnhor' id='numeric_feature'>"
   ]
  },
  {
   "cell_type": "markdown",
   "metadata": {
    "colab_type": "text",
    "id": "0cir0aCBZ1K8"
   },
   "source": [
    "Описание методов можно посмотреть [здесь](https://towardsdatascience.com/encoding-categorical-features-21a2651a065c)"
   ]
  },
  {
   "cell_type": "markdown",
   "metadata": {},
   "source": [
    "**A) Feature discretization** <a class='acnhor' id='feature_discretization'>\n",
    "\n",
    "[Статья на эту тему](https://towardsdatascience.com/an-introduction-to-discretization-in-data-science-55ef8c9775a2)\n",
    "\n",
    "**возраст дома (0-100)**\n",
    "\n",
    "1 категория - новые дома (до 5 лет),<br>2 категория - дома от 5 до 10<br>...\n"
   ]
  },
  {
   "cell_type": "code",
   "execution_count": 171,
   "metadata": {},
   "outputs": [
    {
     "data": {
      "text/plain": [
       "count    20640.000000\n",
       "mean        28.665746\n",
       "std         12.355019\n",
       "min          1.000000\n",
       "25%         19.000000\n",
       "50%         29.000000\n",
       "75%         37.000000\n",
       "max         52.000000\n",
       "Name: housing_median_age, dtype: float64"
      ]
     },
     "execution_count": 171,
     "metadata": {},
     "output_type": "execute_result"
    }
   ],
   "source": [
    "df['housing_median_age'].describe()"
   ]
  },
  {
   "cell_type": "code",
   "execution_count": 172,
   "metadata": {},
   "outputs": [],
   "source": [
    "def age_to_cat(X):\n",
    "\n",
    "    X['age_cat'] = 0\n",
    "\n",
    "    X.loc[X['housing_median_age'] <= 5, 'age_cat'] = 1  \n",
    "    X.loc[(X['housing_median_age'] > 5) & (X['housing_median_age'] <= 10), 'age_cat'] = 2\n",
    "    X.loc[(X['housing_median_age'] > 10) & (X['housing_median_age'] <= 25), 'age_cat'] = 3\n",
    "    X.loc[X['housing_median_age'] > 25, 'age_cat'] = 4\n",
    "\n",
    "    return X"
   ]
  },
  {
   "cell_type": "code",
   "execution_count": 173,
   "metadata": {},
   "outputs": [
    {
     "data": {
      "text/html": [
       "<div>\n",
       "<style scoped>\n",
       "    .dataframe tbody tr th:only-of-type {\n",
       "        vertical-align: middle;\n",
       "    }\n",
       "\n",
       "    .dataframe tbody tr th {\n",
       "        vertical-align: top;\n",
       "    }\n",
       "\n",
       "    .dataframe thead th {\n",
       "        text-align: right;\n",
       "    }\n",
       "</style>\n",
       "<table border=\"1\" class=\"dataframe\">\n",
       "  <thead>\n",
       "    <tr style=\"text-align: right;\">\n",
       "      <th></th>\n",
       "      <th>longitude</th>\n",
       "      <th>latitude</th>\n",
       "      <th>housing_median_age</th>\n",
       "      <th>total_rooms</th>\n",
       "      <th>total_bedrooms</th>\n",
       "      <th>population</th>\n",
       "      <th>households</th>\n",
       "      <th>median_income</th>\n",
       "      <th>median_house_value</th>\n",
       "      <th>ocean_proximity</th>\n",
       "      <th>...</th>\n",
       "      <th>latitude_outlier</th>\n",
       "      <th>bedroom_share</th>\n",
       "      <th>population_per_room</th>\n",
       "      <th>&lt;1H OCEAN</th>\n",
       "      <th>INLAND</th>\n",
       "      <th>ISLAND</th>\n",
       "      <th>NEAR BAY</th>\n",
       "      <th>NEAR OCEAN</th>\n",
       "      <th>median_rooms</th>\n",
       "      <th>age_cat</th>\n",
       "    </tr>\n",
       "  </thead>\n",
       "  <tbody>\n",
       "    <tr>\n",
       "      <th>0</th>\n",
       "      <td>-122.23</td>\n",
       "      <td>37.88</td>\n",
       "      <td>41.0</td>\n",
       "      <td>880.0</td>\n",
       "      <td>129.0</td>\n",
       "      <td>322.0</td>\n",
       "      <td>126.0</td>\n",
       "      <td>8.3252</td>\n",
       "      <td>452600.0</td>\n",
       "      <td>NEAR BAY</td>\n",
       "      <td>...</td>\n",
       "      <td>0</td>\n",
       "      <td>14.659091</td>\n",
       "      <td>0.365909</td>\n",
       "      <td>0</td>\n",
       "      <td>0</td>\n",
       "      <td>0</td>\n",
       "      <td>1</td>\n",
       "      <td>0</td>\n",
       "      <td>2393.190559</td>\n",
       "      <td>4</td>\n",
       "    </tr>\n",
       "    <tr>\n",
       "      <th>1</th>\n",
       "      <td>-122.22</td>\n",
       "      <td>37.86</td>\n",
       "      <td>21.0</td>\n",
       "      <td>7099.0</td>\n",
       "      <td>1106.0</td>\n",
       "      <td>2401.0</td>\n",
       "      <td>1138.0</td>\n",
       "      <td>8.3014</td>\n",
       "      <td>358500.0</td>\n",
       "      <td>NEAR BAY</td>\n",
       "      <td>...</td>\n",
       "      <td>0</td>\n",
       "      <td>15.579659</td>\n",
       "      <td>0.338217</td>\n",
       "      <td>0</td>\n",
       "      <td>0</td>\n",
       "      <td>0</td>\n",
       "      <td>1</td>\n",
       "      <td>0</td>\n",
       "      <td>2393.190559</td>\n",
       "      <td>3</td>\n",
       "    </tr>\n",
       "    <tr>\n",
       "      <th>2</th>\n",
       "      <td>-122.24</td>\n",
       "      <td>37.85</td>\n",
       "      <td>52.0</td>\n",
       "      <td>1467.0</td>\n",
       "      <td>190.0</td>\n",
       "      <td>496.0</td>\n",
       "      <td>177.0</td>\n",
       "      <td>7.2574</td>\n",
       "      <td>352100.0</td>\n",
       "      <td>NEAR BAY</td>\n",
       "      <td>...</td>\n",
       "      <td>0</td>\n",
       "      <td>12.951602</td>\n",
       "      <td>0.338105</td>\n",
       "      <td>0</td>\n",
       "      <td>0</td>\n",
       "      <td>0</td>\n",
       "      <td>1</td>\n",
       "      <td>0</td>\n",
       "      <td>2393.190559</td>\n",
       "      <td>4</td>\n",
       "    </tr>\n",
       "    <tr>\n",
       "      <th>3</th>\n",
       "      <td>-122.25</td>\n",
       "      <td>37.85</td>\n",
       "      <td>52.0</td>\n",
       "      <td>1274.0</td>\n",
       "      <td>235.0</td>\n",
       "      <td>558.0</td>\n",
       "      <td>219.0</td>\n",
       "      <td>5.6431</td>\n",
       "      <td>341300.0</td>\n",
       "      <td>NEAR BAY</td>\n",
       "      <td>...</td>\n",
       "      <td>0</td>\n",
       "      <td>18.445840</td>\n",
       "      <td>0.437991</td>\n",
       "      <td>0</td>\n",
       "      <td>0</td>\n",
       "      <td>0</td>\n",
       "      <td>1</td>\n",
       "      <td>0</td>\n",
       "      <td>2393.190559</td>\n",
       "      <td>4</td>\n",
       "    </tr>\n",
       "    <tr>\n",
       "      <th>4</th>\n",
       "      <td>-122.25</td>\n",
       "      <td>37.85</td>\n",
       "      <td>52.0</td>\n",
       "      <td>1627.0</td>\n",
       "      <td>280.0</td>\n",
       "      <td>565.0</td>\n",
       "      <td>259.0</td>\n",
       "      <td>3.8462</td>\n",
       "      <td>342200.0</td>\n",
       "      <td>NEAR BAY</td>\n",
       "      <td>...</td>\n",
       "      <td>0</td>\n",
       "      <td>17.209588</td>\n",
       "      <td>0.347265</td>\n",
       "      <td>0</td>\n",
       "      <td>0</td>\n",
       "      <td>0</td>\n",
       "      <td>1</td>\n",
       "      <td>0</td>\n",
       "      <td>2393.190559</td>\n",
       "      <td>4</td>\n",
       "    </tr>\n",
       "  </tbody>\n",
       "</table>\n",
       "<p>5 rows × 23 columns</p>\n",
       "</div>"
      ],
      "text/plain": [
       "   longitude  latitude  housing_median_age  total_rooms  total_bedrooms  \\\n",
       "0    -122.23     37.88                41.0        880.0           129.0   \n",
       "1    -122.22     37.86                21.0       7099.0          1106.0   \n",
       "2    -122.24     37.85                52.0       1467.0           190.0   \n",
       "3    -122.25     37.85                52.0       1274.0           235.0   \n",
       "4    -122.25     37.85                52.0       1627.0           280.0   \n",
       "\n",
       "   population  households  median_income  median_house_value ocean_proximity  \\\n",
       "0       322.0       126.0         8.3252            452600.0        NEAR BAY   \n",
       "1      2401.0      1138.0         8.3014            358500.0        NEAR BAY   \n",
       "2       496.0       177.0         7.2574            352100.0        NEAR BAY   \n",
       "3       558.0       219.0         5.6431            341300.0        NEAR BAY   \n",
       "4       565.0       259.0         3.8462            342200.0        NEAR BAY   \n",
       "\n",
       "   ...  latitude_outlier  bedroom_share  population_per_room  <1H OCEAN  \\\n",
       "0  ...                 0      14.659091             0.365909          0   \n",
       "1  ...                 0      15.579659             0.338217          0   \n",
       "2  ...                 0      12.951602             0.338105          0   \n",
       "3  ...                 0      18.445840             0.437991          0   \n",
       "4  ...                 0      17.209588             0.347265          0   \n",
       "\n",
       "   INLAND  ISLAND  NEAR BAY  NEAR OCEAN  median_rooms  age_cat  \n",
       "0       0       0         1           0   2393.190559        4  \n",
       "1       0       0         1           0   2393.190559        3  \n",
       "2       0       0         1           0   2393.190559        4  \n",
       "3       0       0         1           0   2393.190559        4  \n",
       "4       0       0         1           0   2393.190559        4  \n",
       "\n",
       "[5 rows x 23 columns]"
      ]
     },
     "execution_count": 173,
     "metadata": {},
     "output_type": "execute_result"
    }
   ],
   "source": [
    "df = age_to_cat(df)\n",
    "df.head()"
   ]
  },
  {
   "cell_type": "markdown",
   "metadata": {
    "colab_type": "text",
    "id": "EyDZgw0YZ1K8"
   },
   "source": [
    "**Б) Feature binarization** <a class='anchor' id='feature_binarization'>\n",
    "\n",
    "[Статья на эту тему](https://subscription.packtpub.com/book/big_data_and_business_intelligence/9781789808452/1/ch01lvl1sec17/binarization)\n",
    "\n",
    "только 1 признак\n",
    "\n",
    "1 - новый дом,<br>0 - старый"
   ]
  },
  {
   "cell_type": "code",
   "execution_count": 174,
   "metadata": {},
   "outputs": [],
   "source": [
    "def age_to_binary_cat(X):\n",
    "\n",
    "    X['age_binary_cat'] = 0\n",
    "    X.loc[X['housing_median_age'] <= 5, 'age_binary_cat'] = 1  \n",
    "\n",
    "    return X"
   ]
  },
  {
   "cell_type": "code",
   "execution_count": 175,
   "metadata": {},
   "outputs": [
    {
     "data": {
      "text/html": [
       "<div>\n",
       "<style scoped>\n",
       "    .dataframe tbody tr th:only-of-type {\n",
       "        vertical-align: middle;\n",
       "    }\n",
       "\n",
       "    .dataframe tbody tr th {\n",
       "        vertical-align: top;\n",
       "    }\n",
       "\n",
       "    .dataframe thead th {\n",
       "        text-align: right;\n",
       "    }\n",
       "</style>\n",
       "<table border=\"1\" class=\"dataframe\">\n",
       "  <thead>\n",
       "    <tr style=\"text-align: right;\">\n",
       "      <th></th>\n",
       "      <th>longitude</th>\n",
       "      <th>latitude</th>\n",
       "      <th>housing_median_age</th>\n",
       "      <th>total_rooms</th>\n",
       "      <th>total_bedrooms</th>\n",
       "      <th>population</th>\n",
       "      <th>households</th>\n",
       "      <th>median_income</th>\n",
       "      <th>median_house_value</th>\n",
       "      <th>ocean_proximity</th>\n",
       "      <th>...</th>\n",
       "      <th>bedroom_share</th>\n",
       "      <th>population_per_room</th>\n",
       "      <th>&lt;1H OCEAN</th>\n",
       "      <th>INLAND</th>\n",
       "      <th>ISLAND</th>\n",
       "      <th>NEAR BAY</th>\n",
       "      <th>NEAR OCEAN</th>\n",
       "      <th>median_rooms</th>\n",
       "      <th>age_cat</th>\n",
       "      <th>age_binary_cat</th>\n",
       "    </tr>\n",
       "  </thead>\n",
       "  <tbody>\n",
       "    <tr>\n",
       "      <th>0</th>\n",
       "      <td>-122.23</td>\n",
       "      <td>37.88</td>\n",
       "      <td>41.0</td>\n",
       "      <td>880.0</td>\n",
       "      <td>129.0</td>\n",
       "      <td>322.0</td>\n",
       "      <td>126.0</td>\n",
       "      <td>8.3252</td>\n",
       "      <td>452600.0</td>\n",
       "      <td>NEAR BAY</td>\n",
       "      <td>...</td>\n",
       "      <td>14.659091</td>\n",
       "      <td>0.365909</td>\n",
       "      <td>0</td>\n",
       "      <td>0</td>\n",
       "      <td>0</td>\n",
       "      <td>1</td>\n",
       "      <td>0</td>\n",
       "      <td>2393.190559</td>\n",
       "      <td>4</td>\n",
       "      <td>0</td>\n",
       "    </tr>\n",
       "    <tr>\n",
       "      <th>1</th>\n",
       "      <td>-122.22</td>\n",
       "      <td>37.86</td>\n",
       "      <td>21.0</td>\n",
       "      <td>7099.0</td>\n",
       "      <td>1106.0</td>\n",
       "      <td>2401.0</td>\n",
       "      <td>1138.0</td>\n",
       "      <td>8.3014</td>\n",
       "      <td>358500.0</td>\n",
       "      <td>NEAR BAY</td>\n",
       "      <td>...</td>\n",
       "      <td>15.579659</td>\n",
       "      <td>0.338217</td>\n",
       "      <td>0</td>\n",
       "      <td>0</td>\n",
       "      <td>0</td>\n",
       "      <td>1</td>\n",
       "      <td>0</td>\n",
       "      <td>2393.190559</td>\n",
       "      <td>3</td>\n",
       "      <td>0</td>\n",
       "    </tr>\n",
       "    <tr>\n",
       "      <th>2</th>\n",
       "      <td>-122.24</td>\n",
       "      <td>37.85</td>\n",
       "      <td>52.0</td>\n",
       "      <td>1467.0</td>\n",
       "      <td>190.0</td>\n",
       "      <td>496.0</td>\n",
       "      <td>177.0</td>\n",
       "      <td>7.2574</td>\n",
       "      <td>352100.0</td>\n",
       "      <td>NEAR BAY</td>\n",
       "      <td>...</td>\n",
       "      <td>12.951602</td>\n",
       "      <td>0.338105</td>\n",
       "      <td>0</td>\n",
       "      <td>0</td>\n",
       "      <td>0</td>\n",
       "      <td>1</td>\n",
       "      <td>0</td>\n",
       "      <td>2393.190559</td>\n",
       "      <td>4</td>\n",
       "      <td>0</td>\n",
       "    </tr>\n",
       "    <tr>\n",
       "      <th>3</th>\n",
       "      <td>-122.25</td>\n",
       "      <td>37.85</td>\n",
       "      <td>52.0</td>\n",
       "      <td>1274.0</td>\n",
       "      <td>235.0</td>\n",
       "      <td>558.0</td>\n",
       "      <td>219.0</td>\n",
       "      <td>5.6431</td>\n",
       "      <td>341300.0</td>\n",
       "      <td>NEAR BAY</td>\n",
       "      <td>...</td>\n",
       "      <td>18.445840</td>\n",
       "      <td>0.437991</td>\n",
       "      <td>0</td>\n",
       "      <td>0</td>\n",
       "      <td>0</td>\n",
       "      <td>1</td>\n",
       "      <td>0</td>\n",
       "      <td>2393.190559</td>\n",
       "      <td>4</td>\n",
       "      <td>0</td>\n",
       "    </tr>\n",
       "    <tr>\n",
       "      <th>4</th>\n",
       "      <td>-122.25</td>\n",
       "      <td>37.85</td>\n",
       "      <td>52.0</td>\n",
       "      <td>1627.0</td>\n",
       "      <td>280.0</td>\n",
       "      <td>565.0</td>\n",
       "      <td>259.0</td>\n",
       "      <td>3.8462</td>\n",
       "      <td>342200.0</td>\n",
       "      <td>NEAR BAY</td>\n",
       "      <td>...</td>\n",
       "      <td>17.209588</td>\n",
       "      <td>0.347265</td>\n",
       "      <td>0</td>\n",
       "      <td>0</td>\n",
       "      <td>0</td>\n",
       "      <td>1</td>\n",
       "      <td>0</td>\n",
       "      <td>2393.190559</td>\n",
       "      <td>4</td>\n",
       "      <td>0</td>\n",
       "    </tr>\n",
       "  </tbody>\n",
       "</table>\n",
       "<p>5 rows × 24 columns</p>\n",
       "</div>"
      ],
      "text/plain": [
       "   longitude  latitude  housing_median_age  total_rooms  total_bedrooms  \\\n",
       "0    -122.23     37.88                41.0        880.0           129.0   \n",
       "1    -122.22     37.86                21.0       7099.0          1106.0   \n",
       "2    -122.24     37.85                52.0       1467.0           190.0   \n",
       "3    -122.25     37.85                52.0       1274.0           235.0   \n",
       "4    -122.25     37.85                52.0       1627.0           280.0   \n",
       "\n",
       "   population  households  median_income  median_house_value ocean_proximity  \\\n",
       "0       322.0       126.0         8.3252            452600.0        NEAR BAY   \n",
       "1      2401.0      1138.0         8.3014            358500.0        NEAR BAY   \n",
       "2       496.0       177.0         7.2574            352100.0        NEAR BAY   \n",
       "3       558.0       219.0         5.6431            341300.0        NEAR BAY   \n",
       "4       565.0       259.0         3.8462            342200.0        NEAR BAY   \n",
       "\n",
       "   ...  bedroom_share  population_per_room  <1H OCEAN  INLAND  ISLAND  \\\n",
       "0  ...      14.659091             0.365909          0       0       0   \n",
       "1  ...      15.579659             0.338217          0       0       0   \n",
       "2  ...      12.951602             0.338105          0       0       0   \n",
       "3  ...      18.445840             0.437991          0       0       0   \n",
       "4  ...      17.209588             0.347265          0       0       0   \n",
       "\n",
       "   NEAR BAY  NEAR OCEAN  median_rooms  age_cat  age_binary_cat  \n",
       "0         1           0   2393.190559        4               0  \n",
       "1         1           0   2393.190559        3               0  \n",
       "2         1           0   2393.190559        4               0  \n",
       "3         1           0   2393.190559        4               0  \n",
       "4         1           0   2393.190559        4               0  \n",
       "\n",
       "[5 rows x 24 columns]"
      ]
     },
     "execution_count": 175,
     "metadata": {},
     "output_type": "execute_result"
    }
   ],
   "source": [
    "df = age_to_binary_cat(df)\n",
    "df.head()"
   ]
  },
  {
   "cell_type": "markdown",
   "metadata": {
    "colab_type": "text",
    "id": "g3GckG55iN7I"
   },
   "source": [
    "### latitude, longitude:"
   ]
  },
  {
   "cell_type": "markdown",
   "metadata": {
    "colab_type": "text",
    "id": "_X6IXZk7Z1Kt"
   },
   "source": [
    "_Идея №1_\n",
    "\n",
    "[Источник](https://medium.com/open-machine-learning-course/open-machine-learning-course-topic-6-feature-engineering-and-feature-selection-8b94f870706a)\n",
    "\n",
    "                   "
   ]
  },
  {
   "cell_type": "code",
   "execution_count": null,
   "metadata": {
    "colab": {
     "base_uri": "https://localhost:8080/",
     "height": 225
    },
    "colab_type": "code",
    "id": "U_FiZXAish-1",
    "outputId": "92c3a303-049b-4d50-8bb4-6a9ea021c202"
   },
   "outputs": [],
   "source": [
    "# !pip install reverse_geocoder"
   ]
  },
  {
   "cell_type": "code",
   "execution_count": 176,
   "metadata": {
    "colab": {
     "base_uri": "https://localhost:8080/",
     "height": 121
    },
    "colab_type": "code",
    "id": "MX2EUTu_Z1Kt",
    "outputId": "8da7bd08-1dae-49f0-abd5-4b94692cef6e"
   },
   "outputs": [
    {
     "name": "stdout",
     "output_type": "stream",
     "text": [
      "Loading formatted geocoded file...\n"
     ]
    },
    {
     "data": {
      "text/plain": [
       "[{'lat': '37.87159',\n",
       "  'lon': '-122.27275',\n",
       "  'name': 'Berkeley',\n",
       "  'admin1': 'California',\n",
       "  'admin2': 'Alameda County',\n",
       "  'cc': 'US'}]"
      ]
     },
     "execution_count": 176,
     "metadata": {},
     "output_type": "execute_result"
    }
   ],
   "source": [
    "import reverse_geocoder as revgc  \n",
    "\n",
    "revgc.search((df.iloc[10].latitude, df.iloc[10].longitude))   "
   ]
  },
  {
   "cell_type": "markdown",
   "metadata": {
    "colab_type": "text",
    "id": "60BlLEdFZ1K7"
   },
   "source": [
    "_Идея №2_\n",
    "\n",
    "- Найти координаты центров городов, достопримечательностей, станций метро, ..\n",
    "- Считать расстояние до <...>\n",
    "- Количество <...> в радиусе 3 км\n",
    "- ..."
   ]
  },
  {
   "cell_type": "markdown",
   "metadata": {},
   "source": [
    "### Обобщение\n",
    "* Генерация новых признаков\n",
    "    1. Категориальные признаки\n",
    "        * Порядковые числа\n",
    "        * pd.get_dummies\n",
    "        * Feature Encoding\n",
    "    2. Вещественные признаки\n",
    "        * Feature discretization\n",
    "        * Feature binarization\n",
    "    3. Основываясь на логике задачи\n",
    "    4. Автоматическая генерация фичей (к примеру, библиотека feature tools)"
   ]
  },
  {
   "cell_type": "markdown",
   "metadata": {
    "colab_type": "text",
    "id": "K29yWf62Z1K8"
   },
   "source": [
    "### 6. Сохранение результатов<a class='anchor' id='save'>"
   ]
  },
  {
   "cell_type": "code",
   "execution_count": 177,
   "metadata": {
    "colab": {
     "base_uri": "https://localhost:8080/",
     "height": 244
    },
    "colab_type": "code",
    "id": "4vPp19oMZ1K9",
    "outputId": "fb10d9d2-635e-4946-b39c-68d993b22c58"
   },
   "outputs": [
    {
     "data": {
      "text/html": [
       "<div>\n",
       "<style scoped>\n",
       "    .dataframe tbody tr th:only-of-type {\n",
       "        vertical-align: middle;\n",
       "    }\n",
       "\n",
       "    .dataframe tbody tr th {\n",
       "        vertical-align: top;\n",
       "    }\n",
       "\n",
       "    .dataframe thead th {\n",
       "        text-align: right;\n",
       "    }\n",
       "</style>\n",
       "<table border=\"1\" class=\"dataframe\">\n",
       "  <thead>\n",
       "    <tr style=\"text-align: right;\">\n",
       "      <th></th>\n",
       "      <th>longitude</th>\n",
       "      <th>latitude</th>\n",
       "      <th>housing_median_age</th>\n",
       "      <th>total_rooms</th>\n",
       "      <th>total_bedrooms</th>\n",
       "      <th>population</th>\n",
       "      <th>households</th>\n",
       "      <th>median_income</th>\n",
       "      <th>median_house_value</th>\n",
       "      <th>ocean_proximity</th>\n",
       "      <th>...</th>\n",
       "      <th>bedroom_share</th>\n",
       "      <th>population_per_room</th>\n",
       "      <th>&lt;1H OCEAN</th>\n",
       "      <th>INLAND</th>\n",
       "      <th>ISLAND</th>\n",
       "      <th>NEAR BAY</th>\n",
       "      <th>NEAR OCEAN</th>\n",
       "      <th>median_rooms</th>\n",
       "      <th>age_cat</th>\n",
       "      <th>age_binary_cat</th>\n",
       "    </tr>\n",
       "  </thead>\n",
       "  <tbody>\n",
       "    <tr>\n",
       "      <th>0</th>\n",
       "      <td>-122.23</td>\n",
       "      <td>37.88</td>\n",
       "      <td>41.0</td>\n",
       "      <td>880.0</td>\n",
       "      <td>129.0</td>\n",
       "      <td>322.0</td>\n",
       "      <td>126.0</td>\n",
       "      <td>8.3252</td>\n",
       "      <td>452600.0</td>\n",
       "      <td>NEAR BAY</td>\n",
       "      <td>...</td>\n",
       "      <td>14.659091</td>\n",
       "      <td>0.365909</td>\n",
       "      <td>0</td>\n",
       "      <td>0</td>\n",
       "      <td>0</td>\n",
       "      <td>1</td>\n",
       "      <td>0</td>\n",
       "      <td>2393.190559</td>\n",
       "      <td>4</td>\n",
       "      <td>0</td>\n",
       "    </tr>\n",
       "    <tr>\n",
       "      <th>1</th>\n",
       "      <td>-122.22</td>\n",
       "      <td>37.86</td>\n",
       "      <td>21.0</td>\n",
       "      <td>7099.0</td>\n",
       "      <td>1106.0</td>\n",
       "      <td>2401.0</td>\n",
       "      <td>1138.0</td>\n",
       "      <td>8.3014</td>\n",
       "      <td>358500.0</td>\n",
       "      <td>NEAR BAY</td>\n",
       "      <td>...</td>\n",
       "      <td>15.579659</td>\n",
       "      <td>0.338217</td>\n",
       "      <td>0</td>\n",
       "      <td>0</td>\n",
       "      <td>0</td>\n",
       "      <td>1</td>\n",
       "      <td>0</td>\n",
       "      <td>2393.190559</td>\n",
       "      <td>3</td>\n",
       "      <td>0</td>\n",
       "    </tr>\n",
       "    <tr>\n",
       "      <th>2</th>\n",
       "      <td>-122.24</td>\n",
       "      <td>37.85</td>\n",
       "      <td>52.0</td>\n",
       "      <td>1467.0</td>\n",
       "      <td>190.0</td>\n",
       "      <td>496.0</td>\n",
       "      <td>177.0</td>\n",
       "      <td>7.2574</td>\n",
       "      <td>352100.0</td>\n",
       "      <td>NEAR BAY</td>\n",
       "      <td>...</td>\n",
       "      <td>12.951602</td>\n",
       "      <td>0.338105</td>\n",
       "      <td>0</td>\n",
       "      <td>0</td>\n",
       "      <td>0</td>\n",
       "      <td>1</td>\n",
       "      <td>0</td>\n",
       "      <td>2393.190559</td>\n",
       "      <td>4</td>\n",
       "      <td>0</td>\n",
       "    </tr>\n",
       "    <tr>\n",
       "      <th>3</th>\n",
       "      <td>-122.25</td>\n",
       "      <td>37.85</td>\n",
       "      <td>52.0</td>\n",
       "      <td>1274.0</td>\n",
       "      <td>235.0</td>\n",
       "      <td>558.0</td>\n",
       "      <td>219.0</td>\n",
       "      <td>5.6431</td>\n",
       "      <td>341300.0</td>\n",
       "      <td>NEAR BAY</td>\n",
       "      <td>...</td>\n",
       "      <td>18.445840</td>\n",
       "      <td>0.437991</td>\n",
       "      <td>0</td>\n",
       "      <td>0</td>\n",
       "      <td>0</td>\n",
       "      <td>1</td>\n",
       "      <td>0</td>\n",
       "      <td>2393.190559</td>\n",
       "      <td>4</td>\n",
       "      <td>0</td>\n",
       "    </tr>\n",
       "    <tr>\n",
       "      <th>4</th>\n",
       "      <td>-122.25</td>\n",
       "      <td>37.85</td>\n",
       "      <td>52.0</td>\n",
       "      <td>1627.0</td>\n",
       "      <td>280.0</td>\n",
       "      <td>565.0</td>\n",
       "      <td>259.0</td>\n",
       "      <td>3.8462</td>\n",
       "      <td>342200.0</td>\n",
       "      <td>NEAR BAY</td>\n",
       "      <td>...</td>\n",
       "      <td>17.209588</td>\n",
       "      <td>0.347265</td>\n",
       "      <td>0</td>\n",
       "      <td>0</td>\n",
       "      <td>0</td>\n",
       "      <td>1</td>\n",
       "      <td>0</td>\n",
       "      <td>2393.190559</td>\n",
       "      <td>4</td>\n",
       "      <td>0</td>\n",
       "    </tr>\n",
       "  </tbody>\n",
       "</table>\n",
       "<p>5 rows × 24 columns</p>\n",
       "</div>"
      ],
      "text/plain": [
       "   longitude  latitude  housing_median_age  total_rooms  total_bedrooms  \\\n",
       "0    -122.23     37.88                41.0        880.0           129.0   \n",
       "1    -122.22     37.86                21.0       7099.0          1106.0   \n",
       "2    -122.24     37.85                52.0       1467.0           190.0   \n",
       "3    -122.25     37.85                52.0       1274.0           235.0   \n",
       "4    -122.25     37.85                52.0       1627.0           280.0   \n",
       "\n",
       "   population  households  median_income  median_house_value ocean_proximity  \\\n",
       "0       322.0       126.0         8.3252            452600.0        NEAR BAY   \n",
       "1      2401.0      1138.0         8.3014            358500.0        NEAR BAY   \n",
       "2       496.0       177.0         7.2574            352100.0        NEAR BAY   \n",
       "3       558.0       219.0         5.6431            341300.0        NEAR BAY   \n",
       "4       565.0       259.0         3.8462            342200.0        NEAR BAY   \n",
       "\n",
       "   ...  bedroom_share  population_per_room  <1H OCEAN  INLAND  ISLAND  \\\n",
       "0  ...      14.659091             0.365909          0       0       0   \n",
       "1  ...      15.579659             0.338217          0       0       0   \n",
       "2  ...      12.951602             0.338105          0       0       0   \n",
       "3  ...      18.445840             0.437991          0       0       0   \n",
       "4  ...      17.209588             0.347265          0       0       0   \n",
       "\n",
       "   NEAR BAY  NEAR OCEAN  median_rooms  age_cat  age_binary_cat  \n",
       "0         1           0   2393.190559        4               0  \n",
       "1         1           0   2393.190559        3               0  \n",
       "2         1           0   2393.190559        4               0  \n",
       "3         1           0   2393.190559        4               0  \n",
       "4         1           0   2393.190559        4               0  \n",
       "\n",
       "[5 rows x 24 columns]"
      ]
     },
     "execution_count": 177,
     "metadata": {},
     "output_type": "execute_result"
    }
   ],
   "source": [
    "df.head()"
   ]
  },
  {
   "cell_type": "code",
   "execution_count": 178,
   "metadata": {
    "colab": {},
    "colab_type": "code",
    "id": "E5VeRWNAZ1LA"
   },
   "outputs": [],
   "source": [
    "df.to_csv(PREPARED_DATASET_PATH, index=False, encoding='utf-8', sep=';')"
   ]
  },
  {
   "cell_type": "markdown",
   "metadata": {
    "colab_type": "text",
    "id": "vlDquLucZ1LL"
   },
   "source": [
    "### 7. Подготовка данных в реальном проекте<a class='anchor' id='real'>"
   ]
  },
  {
   "cell_type": "code",
   "execution_count": 179,
   "metadata": {
    "colab": {},
    "colab_type": "code",
    "id": "ed5Oo4ADZ1LL"
   },
   "outputs": [],
   "source": [
    "import numpy as np\n",
    "import pandas as pd"
   ]
  },
  {
   "cell_type": "code",
   "execution_count": 180,
   "metadata": {
    "colab": {},
    "colab_type": "code",
    "id": "renCufhBZ1LO"
   },
   "outputs": [],
   "source": [
    "class DataPipeline:\n",
    "    \"\"\"Подготовка исходных данных\"\"\"\n",
    "    \n",
    "    def __init__(self):\n",
    "        \"\"\"Параметры класса\"\"\"\n",
    "        self.medians = None\n",
    "        self.longitude_median = None\n",
    "        self.latitude_median = None\n",
    "        \n",
    "    def fit(self, df):\n",
    "        \"\"\"Сохранение статистик\"\"\"\n",
    "        \n",
    "        # Расчет медиан\n",
    "        self.medians = df[['population', 'housing_median_age', 'total_bedrooms']].median()\n",
    "        self.longitude_median = df['longitude'].median()\n",
    "        self.latitude_median = df['latitude'].median()\n",
    "        \n",
    "    def transform(self, df):\n",
    "        \"\"\"Трансформация данных\"\"\"\n",
    "        \n",
    "        # 1. Пропуски\n",
    "        df[['population', 'housing_median_age', 'total_bedrooms']] =\\\n",
    "            df[['population', 'housing_median_age', 'total_bedrooms']].fillna(self.medians)\n",
    "        \n",
    "        \n",
    "        # 2. Выбросы (outliers)\n",
    "        df.loc[df['longitude'] > 0, 'longitude'] = df.loc[df['longitude'] > 0, 'longitude'] * -1\n",
    "        df.loc[df['longitude'] == 0, 'longitude'] = self.longitude_median\n",
    "        df.loc[(df['latitude'] <= 0) | (df['latitude'] > 50), 'latitude'] = self.latitude_median\n",
    "        \n",
    "        \n",
    "        # 3. Новые фичи (features)\n",
    "        \n",
    "        # Доля спален в общем кол-ве комнат\n",
    "        df['bedroom_share'] = df['total_bedrooms'] / df['total_rooms'] * 100\n",
    "\n",
    "        # Сколько человек в среднем живут в одной комнате\n",
    "        df['population_per_room'] = df['population'] / df['total_rooms']\n",
    "        \n",
    "        # 4. Обработка категорий\n",
    "        df = pd.concat([df, pd.get_dummies(df['ocean_proximity'])], axis=1)\n",
    "        \n",
    "        return df"
   ]
  },
  {
   "cell_type": "code",
   "execution_count": 181,
   "metadata": {
    "colab": {},
    "colab_type": "code",
    "id": "Z_A0qX0pudxW"
   },
   "outputs": [],
   "source": [
    "DATASET_PATH = 'housing.csv'\n",
    "PREPARED_DATASET_PATH = 'housing_prepared.csv'"
   ]
  },
  {
   "cell_type": "code",
   "execution_count": 182,
   "metadata": {
    "colab": {},
    "colab_type": "code",
    "id": "njoKLSezZ1Ll"
   },
   "outputs": [],
   "source": [
    "df = pd.read_csv(DATASET_PATH)\n",
    "\n",
    "pipe = DataPipeline()\n",
    "pipe.fit(df)\n",
    "df = pipe.transform(df)\n",
    "\n",
    "df.to_csv(PREPARED_DATASET_PATH, index=False, encoding='utf-8')"
   ]
  },
  {
   "cell_type": "code",
   "execution_count": 183,
   "metadata": {
    "colab": {
     "base_uri": "https://localhost:8080/",
     "height": 244
    },
    "colab_type": "code",
    "id": "NLWtVhM8Z1Ln",
    "outputId": "1977eaee-ecd9-4728-d16d-bd48114e02f2"
   },
   "outputs": [
    {
     "data": {
      "text/html": [
       "<div>\n",
       "<style scoped>\n",
       "    .dataframe tbody tr th:only-of-type {\n",
       "        vertical-align: middle;\n",
       "    }\n",
       "\n",
       "    .dataframe tbody tr th {\n",
       "        vertical-align: top;\n",
       "    }\n",
       "\n",
       "    .dataframe thead th {\n",
       "        text-align: right;\n",
       "    }\n",
       "</style>\n",
       "<table border=\"1\" class=\"dataframe\">\n",
       "  <thead>\n",
       "    <tr style=\"text-align: right;\">\n",
       "      <th></th>\n",
       "      <th>longitude</th>\n",
       "      <th>latitude</th>\n",
       "      <th>housing_median_age</th>\n",
       "      <th>total_rooms</th>\n",
       "      <th>total_bedrooms</th>\n",
       "      <th>population</th>\n",
       "      <th>households</th>\n",
       "      <th>median_income</th>\n",
       "      <th>median_house_value</th>\n",
       "      <th>ocean_proximity</th>\n",
       "      <th>id</th>\n",
       "      <th>bedroom_share</th>\n",
       "      <th>population_per_room</th>\n",
       "      <th>-</th>\n",
       "      <th>&lt;1H OCEAN</th>\n",
       "      <th>INLAND</th>\n",
       "      <th>ISLAND</th>\n",
       "      <th>NEAR BAY</th>\n",
       "      <th>NEAR OCEAN</th>\n",
       "    </tr>\n",
       "  </thead>\n",
       "  <tbody>\n",
       "    <tr>\n",
       "      <th>0</th>\n",
       "      <td>-122.23</td>\n",
       "      <td>37.88</td>\n",
       "      <td>41.0</td>\n",
       "      <td>880.0</td>\n",
       "      <td>129.0</td>\n",
       "      <td>322.0</td>\n",
       "      <td>126.0</td>\n",
       "      <td>8.3252</td>\n",
       "      <td>452600.0</td>\n",
       "      <td>NEAR BAY</td>\n",
       "      <td>0</td>\n",
       "      <td>14.659091</td>\n",
       "      <td>0.365909</td>\n",
       "      <td>0</td>\n",
       "      <td>0</td>\n",
       "      <td>0</td>\n",
       "      <td>0</td>\n",
       "      <td>1</td>\n",
       "      <td>0</td>\n",
       "    </tr>\n",
       "    <tr>\n",
       "      <th>1</th>\n",
       "      <td>-122.22</td>\n",
       "      <td>37.86</td>\n",
       "      <td>21.0</td>\n",
       "      <td>7099.0</td>\n",
       "      <td>1106.0</td>\n",
       "      <td>2401.0</td>\n",
       "      <td>1138.0</td>\n",
       "      <td>8.3014</td>\n",
       "      <td>358500.0</td>\n",
       "      <td>NEAR BAY</td>\n",
       "      <td>1</td>\n",
       "      <td>15.579659</td>\n",
       "      <td>0.338217</td>\n",
       "      <td>0</td>\n",
       "      <td>0</td>\n",
       "      <td>0</td>\n",
       "      <td>0</td>\n",
       "      <td>1</td>\n",
       "      <td>0</td>\n",
       "    </tr>\n",
       "    <tr>\n",
       "      <th>2</th>\n",
       "      <td>-122.24</td>\n",
       "      <td>37.85</td>\n",
       "      <td>52.0</td>\n",
       "      <td>1467.0</td>\n",
       "      <td>190.0</td>\n",
       "      <td>496.0</td>\n",
       "      <td>177.0</td>\n",
       "      <td>7.2574</td>\n",
       "      <td>352100.0</td>\n",
       "      <td>NEAR BAY</td>\n",
       "      <td>2</td>\n",
       "      <td>12.951602</td>\n",
       "      <td>0.338105</td>\n",
       "      <td>0</td>\n",
       "      <td>0</td>\n",
       "      <td>0</td>\n",
       "      <td>0</td>\n",
       "      <td>1</td>\n",
       "      <td>0</td>\n",
       "    </tr>\n",
       "    <tr>\n",
       "      <th>3</th>\n",
       "      <td>-122.25</td>\n",
       "      <td>37.85</td>\n",
       "      <td>52.0</td>\n",
       "      <td>1274.0</td>\n",
       "      <td>235.0</td>\n",
       "      <td>558.0</td>\n",
       "      <td>219.0</td>\n",
       "      <td>5.6431</td>\n",
       "      <td>341300.0</td>\n",
       "      <td>NEAR BAY</td>\n",
       "      <td>3</td>\n",
       "      <td>18.445840</td>\n",
       "      <td>0.437991</td>\n",
       "      <td>0</td>\n",
       "      <td>0</td>\n",
       "      <td>0</td>\n",
       "      <td>0</td>\n",
       "      <td>1</td>\n",
       "      <td>0</td>\n",
       "    </tr>\n",
       "    <tr>\n",
       "      <th>4</th>\n",
       "      <td>-122.25</td>\n",
       "      <td>37.85</td>\n",
       "      <td>52.0</td>\n",
       "      <td>1627.0</td>\n",
       "      <td>280.0</td>\n",
       "      <td>565.0</td>\n",
       "      <td>259.0</td>\n",
       "      <td>3.8462</td>\n",
       "      <td>342200.0</td>\n",
       "      <td>NEAR BAY</td>\n",
       "      <td>4</td>\n",
       "      <td>17.209588</td>\n",
       "      <td>0.347265</td>\n",
       "      <td>0</td>\n",
       "      <td>0</td>\n",
       "      <td>0</td>\n",
       "      <td>0</td>\n",
       "      <td>1</td>\n",
       "      <td>0</td>\n",
       "    </tr>\n",
       "  </tbody>\n",
       "</table>\n",
       "</div>"
      ],
      "text/plain": [
       "   longitude  latitude  housing_median_age  total_rooms  total_bedrooms  \\\n",
       "0    -122.23     37.88                41.0        880.0           129.0   \n",
       "1    -122.22     37.86                21.0       7099.0          1106.0   \n",
       "2    -122.24     37.85                52.0       1467.0           190.0   \n",
       "3    -122.25     37.85                52.0       1274.0           235.0   \n",
       "4    -122.25     37.85                52.0       1627.0           280.0   \n",
       "\n",
       "   population  households  median_income  median_house_value ocean_proximity  \\\n",
       "0       322.0       126.0         8.3252            452600.0        NEAR BAY   \n",
       "1      2401.0      1138.0         8.3014            358500.0        NEAR BAY   \n",
       "2       496.0       177.0         7.2574            352100.0        NEAR BAY   \n",
       "3       558.0       219.0         5.6431            341300.0        NEAR BAY   \n",
       "4       565.0       259.0         3.8462            342200.0        NEAR BAY   \n",
       "\n",
       "   id  bedroom_share  population_per_room  -  <1H OCEAN  INLAND  ISLAND  \\\n",
       "0   0      14.659091             0.365909  0          0       0       0   \n",
       "1   1      15.579659             0.338217  0          0       0       0   \n",
       "2   2      12.951602             0.338105  0          0       0       0   \n",
       "3   3      18.445840             0.437991  0          0       0       0   \n",
       "4   4      17.209588             0.347265  0          0       0       0   \n",
       "\n",
       "   NEAR BAY  NEAR OCEAN  \n",
       "0         1           0  \n",
       "1         1           0  \n",
       "2         1           0  \n",
       "3         1           0  \n",
       "4         1           0  "
      ]
     },
     "execution_count": 183,
     "metadata": {},
     "output_type": "execute_result"
    }
   ],
   "source": [
    "df.head()"
   ]
  },
  {
   "cell_type": "code",
   "execution_count": 184,
   "metadata": {
    "colab": {
     "base_uri": "https://localhost:8080/",
     "height": 364
    },
    "colab_type": "code",
    "id": "6xnKzUUOZ1Lr",
    "outputId": "35f9ae4c-f683-48d5-81a7-98b647df4fb6"
   },
   "outputs": [
    {
     "data": {
      "text/plain": [
       "longitude              0\n",
       "latitude               0\n",
       "housing_median_age     0\n",
       "total_rooms            0\n",
       "total_bedrooms         0\n",
       "population             0\n",
       "households             0\n",
       "median_income          0\n",
       "median_house_value     0\n",
       "ocean_proximity        0\n",
       "id                     0\n",
       "bedroom_share          0\n",
       "population_per_room    0\n",
       "-                      0\n",
       "<1H OCEAN              0\n",
       "INLAND                 0\n",
       "ISLAND                 0\n",
       "NEAR BAY               0\n",
       "NEAR OCEAN             0\n",
       "dtype: int64"
      ]
     },
     "execution_count": 184,
     "metadata": {},
     "output_type": "execute_result"
    }
   ],
   "source": [
    "df.isnull().sum()"
   ]
  }
 ],
 "metadata": {
  "colab": {
   "collapsed_sections": [],
   "name": "Copy of Web02.ipynb",
   "provenance": []
  },
  "kernelspec": {
   "display_name": "Python 3",
   "language": "python",
   "name": "python3"
  },
  "language_info": {
   "codemirror_mode": {
    "name": "ipython",
    "version": 3
   },
   "file_extension": ".py",
   "mimetype": "text/x-python",
   "name": "python",
   "nbconvert_exporter": "python",
   "pygments_lexer": "ipython3",
   "version": "3.8.8"
  }
 },
 "nbformat": 4,
 "nbformat_minor": 4
}
